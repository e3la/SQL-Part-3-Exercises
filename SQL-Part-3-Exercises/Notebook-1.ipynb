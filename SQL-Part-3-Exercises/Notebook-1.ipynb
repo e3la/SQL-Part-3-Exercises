{
    "metadata": {
        "kernelspec": {
            "name": "SQL",
            "display_name": "SQL",
            "language": "sql"
        },
        "language_info": {
            "name": "sql",
            "version": ""
        },
        "extensions": {
            "azuredatastudio": {
                "version": 1,
                "views": []
            }
        }
    },
    "nbformat_minor": 2,
    "nbformat": 4,
    "cells": [
        {
            "cell_type": "markdown",
            "source": [
                "# SQL Part 3 Exercises Joins\n",
                "\n",
                "This notebook works with the BooksDB dataset.  \n",
                "\n",
                "**Questions 1-4** focus on how joins work in a more general sense.  If you are not sure how to best answer the questions, try manipulating the queries by changing the order of joins, the length of the TOP, or how they are ordered.  \n",
                "\n",
                "> <span style=\"background-color: rgba(127, 127, 127, 0.1);\"><i>Note</i>: If some of the queries are not returning quickly, you can try closing and restarting azure data studio after a few minutes.</span>\n",
                "\n",
                "In **questions 5-8**, you will be asked to join tables to find results about titles, tags, and the books users want to read.\n",
                "\n",
                "As you go through the questions, you will see 'Minimum Desired Output'.  This will provide you with the bare minimum columns needed to answer the questions.  When you write the queries, add as many additional columns as you need to best find your answers."
            ],
            "metadata": {
                "azdata_cell_guid": "db9534a9-c8a7-4c09-8180-bcba0690bb02"
            },
            "attachments": {}
        },
        {
            "cell_type": "markdown",
            "source": [
                "## **QUESTION 1:**  Exploring a LEFT JOIN using the **books** and **to\\_read** tables\n",
                "\n",
                "The code block below has been commented out. To answer this question, you will need to uncomment it by removing the **/\\*** (line 1) and **\\*/** (line 16).\n",
                "\n",
                "**Part A:** Look at Query 1, which table is the 'Left' table and which is the 'Right'?\n",
                "\n",
                "> Your Answer:   \n",
                "> The left table is books for short, or more accurately for our t-sql azure situation: BooksBD.dbo.books - which has an alias of b  \n",
                "> The right table is the to\\_read table, or BooksDB.dbo.to\\_read - which has an alias of tr\n",
                "\n",
                "**Part B:** Using table 2, answer the following questions: \n",
                "\n",
                "- When we added a  '**WHERE tr.user\\_id IS NOT NULL'** clause (line 14), how did the table change?  Why?\n",
                "\n",
                "> Your Answer:\n",
                "> \n",
                "> When we add 'where tr.user\\_id IS NOT NULL' the result has no NULL values which arose from the books in the books table that have high ratings, but do not appear in the to be read table (to\\_read / tr) - the table with no nulls only consists of the title Four Blondes and The Emporer's, and no rows / records that only have a high rating but don't appear on the to be read table."
            ],
            "metadata": {
                "azdata_cell_guid": "660be568-9a70-40ff-a2fa-a78e31e87b6f"
            },
            "attachments": {}
        },
        {
            "cell_type": "code",
            "source": [
                "\n",
                "-- Query 1: LEFT JOIN \n",
                "SELECT TOP 50 b.title, b.average_rating, b.books_count,tr.user_id, tr.book_id\n",
                "FROM BooksDB.dbo.books AS b\n",
                "LEFT JOIN BooksDB.dbo.to_read AS tr\n",
                "ON b.best_book_id = tr.book_id\n",
                "ORDER BY b.average_rating;\n",
                "\n",
                "-- Query 2: LEFT JOIN USING 'IS NOT NULL'\n",
                "SELECT TOP 50 b.title, b.average_rating, b.books_count,tr.user_id, tr.book_id\n",
                "FROM BooksDB.dbo.books AS b\n",
                "LEFT JOIN BooksDB.dbo.to_read AS tr\n",
                "ON b.best_book_id = tr.book_id\n",
                "WHERE tr.user_id IS NOT NULL\n",
                "ORDER BY b.average_rating;\n",
                ""
            ],
            "metadata": {
                "azdata_cell_guid": "25dcd34c-5e5d-4393-9da0-a4c0effb6455",
                "tags": [],
                "language": "sql"
            },
            "outputs": [
                {
                    "output_type": "display_data",
                    "data": {
                        "text/html": "(50 rows affected)"
                    },
                    "metadata": {}
                },
                {
                    "output_type": "display_data",
                    "data": {
                        "text/html": "(50 rows affected)"
                    },
                    "metadata": {}
                },
                {
                    "output_type": "display_data",
                    "data": {
                        "text/html": "Total execution time: 00:00:07.435"
                    },
                    "metadata": {}
                },
                {
                    "output_type": "execute_result",
                    "execution_count": 1,
                    "data": {
                        "application/vnd.dataresource+json": {
                            "schema": {
                                "fields": [
                                    {
                                        "name": "title"
                                    },
                                    {
                                        "name": "average_rating"
                                    },
                                    {
                                        "name": "books_count"
                                    },
                                    {
                                        "name": "user_id"
                                    },
                                    {
                                        "name": "book_id"
                                    }
                                ]
                            },
                            "data": [
                                {
                                    "title": "One Night at the Call Center",
                                    "average_rating": "2.47",
                                    "books_count": "25",
                                    "user_id": "NULL",
                                    "book_id": "NULL"
                                },
                                {
                                    "title": "The Almost Moon",
                                    "average_rating": "2.67",
                                    "books_count": "63",
                                    "user_id": "NULL",
                                    "book_id": "NULL"
                                },
                                {
                                    "title": "The Finkler Question",
                                    "average_rating": "2.76",
                                    "books_count": "45",
                                    "user_id": "NULL",
                                    "book_id": "NULL"
                                },
                                {
                                    "title": "Four Blondes",
                                    "average_rating": "2.8",
                                    "books_count": "57",
                                    "user_id": "449",
                                    "book_id": "6613"
                                },
                                {
                                    "title": "Four Blondes",
                                    "average_rating": "2.8",
                                    "books_count": "57",
                                    "user_id": "1378",
                                    "book_id": "6613"
                                },
                                {
                                    "title": "Four Blondes",
                                    "average_rating": "2.8",
                                    "books_count": "57",
                                    "user_id": "6465",
                                    "book_id": "6613"
                                },
                                {
                                    "title": "Four Blondes",
                                    "average_rating": "2.8",
                                    "books_count": "57",
                                    "user_id": "6700",
                                    "book_id": "6613"
                                },
                                {
                                    "title": "Four Blondes",
                                    "average_rating": "2.8",
                                    "books_count": "57",
                                    "user_id": "7830",
                                    "book_id": "6613"
                                },
                                {
                                    "title": "Four Blondes",
                                    "average_rating": "2.8",
                                    "books_count": "57",
                                    "user_id": "10085",
                                    "book_id": "6613"
                                },
                                {
                                    "title": "Four Blondes",
                                    "average_rating": "2.8",
                                    "books_count": "57",
                                    "user_id": "16298",
                                    "book_id": "6613"
                                },
                                {
                                    "title": "Four Blondes",
                                    "average_rating": "2.8",
                                    "books_count": "57",
                                    "user_id": "16845",
                                    "book_id": "6613"
                                },
                                {
                                    "title": "Four Blondes",
                                    "average_rating": "2.8",
                                    "books_count": "57",
                                    "user_id": "17470",
                                    "book_id": "6613"
                                },
                                {
                                    "title": "Four Blondes",
                                    "average_rating": "2.8",
                                    "books_count": "57",
                                    "user_id": "19763",
                                    "book_id": "6613"
                                },
                                {
                                    "title": "Four Blondes",
                                    "average_rating": "2.8",
                                    "books_count": "57",
                                    "user_id": "21938",
                                    "book_id": "6613"
                                },
                                {
                                    "title": "Four Blondes",
                                    "average_rating": "2.8",
                                    "books_count": "57",
                                    "user_id": "22289",
                                    "book_id": "6613"
                                },
                                {
                                    "title": "Four Blondes",
                                    "average_rating": "2.8",
                                    "books_count": "57",
                                    "user_id": "23758",
                                    "book_id": "6613"
                                },
                                {
                                    "title": "Four Blondes",
                                    "average_rating": "2.8",
                                    "books_count": "57",
                                    "user_id": "27874",
                                    "book_id": "6613"
                                },
                                {
                                    "title": "Four Blondes",
                                    "average_rating": "2.8",
                                    "books_count": "57",
                                    "user_id": "28690",
                                    "book_id": "6613"
                                },
                                {
                                    "title": "Four Blondes",
                                    "average_rating": "2.8",
                                    "books_count": "57",
                                    "user_id": "29023",
                                    "book_id": "6613"
                                },
                                {
                                    "title": "Four Blondes",
                                    "average_rating": "2.8",
                                    "books_count": "57",
                                    "user_id": "29315",
                                    "book_id": "6613"
                                },
                                {
                                    "title": "Four Blondes",
                                    "average_rating": "2.8",
                                    "books_count": "57",
                                    "user_id": "30245",
                                    "book_id": "6613"
                                },
                                {
                                    "title": "Four Blondes",
                                    "average_rating": "2.8",
                                    "books_count": "57",
                                    "user_id": "36128",
                                    "book_id": "6613"
                                },
                                {
                                    "title": "Four Blondes",
                                    "average_rating": "2.8",
                                    "books_count": "57",
                                    "user_id": "36554",
                                    "book_id": "6613"
                                },
                                {
                                    "title": "Four Blondes",
                                    "average_rating": "2.8",
                                    "books_count": "57",
                                    "user_id": "38159",
                                    "book_id": "6613"
                                },
                                {
                                    "title": "Four Blondes",
                                    "average_rating": "2.8",
                                    "books_count": "57",
                                    "user_id": "38800",
                                    "book_id": "6613"
                                },
                                {
                                    "title": "Four Blondes",
                                    "average_rating": "2.8",
                                    "books_count": "57",
                                    "user_id": "40361",
                                    "book_id": "6613"
                                },
                                {
                                    "title": "Four Blondes",
                                    "average_rating": "2.8",
                                    "books_count": "57",
                                    "user_id": "40529",
                                    "book_id": "6613"
                                },
                                {
                                    "title": "Four Blondes",
                                    "average_rating": "2.8",
                                    "books_count": "57",
                                    "user_id": "41485",
                                    "book_id": "6613"
                                },
                                {
                                    "title": "Four Blondes",
                                    "average_rating": "2.8",
                                    "books_count": "57",
                                    "user_id": "42706",
                                    "book_id": "6613"
                                },
                                {
                                    "title": "Four Blondes",
                                    "average_rating": "2.8",
                                    "books_count": "57",
                                    "user_id": "45206",
                                    "book_id": "6613"
                                },
                                {
                                    "title": "Four Blondes",
                                    "average_rating": "2.8",
                                    "books_count": "57",
                                    "user_id": "45689",
                                    "book_id": "6613"
                                },
                                {
                                    "title": "Four Blondes",
                                    "average_rating": "2.8",
                                    "books_count": "57",
                                    "user_id": "49499",
                                    "book_id": "6613"
                                },
                                {
                                    "title": "Four Blondes",
                                    "average_rating": "2.8",
                                    "books_count": "57",
                                    "user_id": "51105",
                                    "book_id": "6613"
                                },
                                {
                                    "title": "Four Blondes",
                                    "average_rating": "2.8",
                                    "books_count": "57",
                                    "user_id": "51671",
                                    "book_id": "6613"
                                },
                                {
                                    "title": "Four Blondes",
                                    "average_rating": "2.8",
                                    "books_count": "57",
                                    "user_id": "52109",
                                    "book_id": "6613"
                                },
                                {
                                    "title": "Lost",
                                    "average_rating": "2.8",
                                    "books_count": "18",
                                    "user_id": "NULL",
                                    "book_id": "NULL"
                                },
                                {
                                    "title": "Tell-All",
                                    "average_rating": "2.84",
                                    "books_count": "37",
                                    "user_id": "NULL",
                                    "book_id": "NULL"
                                },
                                {
                                    "title": "Revenge Wears Prada: The Devil Returns (The Devil Wears Prada, #2)",
                                    "average_rating": "2.84",
                                    "books_count": "59",
                                    "user_id": "NULL",
                                    "book_id": "NULL"
                                },
                                {
                                    "title": "Among the Ten Thousand Things",
                                    "average_rating": "2.84",
                                    "books_count": "19",
                                    "user_id": "NULL",
                                    "book_id": "NULL"
                                },
                                {
                                    "title": "The Emperor's Children",
                                    "average_rating": "2.93",
                                    "books_count": "45",
                                    "user_id": "7860",
                                    "book_id": "3648"
                                },
                                {
                                    "title": "The Emperor's Children",
                                    "average_rating": "2.93",
                                    "books_count": "45",
                                    "user_id": "11320",
                                    "book_id": "3648"
                                },
                                {
                                    "title": "The Emperor's Children",
                                    "average_rating": "2.93",
                                    "books_count": "45",
                                    "user_id": "12686",
                                    "book_id": "3648"
                                },
                                {
                                    "title": "The Emperor's Children",
                                    "average_rating": "2.93",
                                    "books_count": "45",
                                    "user_id": "12729",
                                    "book_id": "3648"
                                },
                                {
                                    "title": "The Emperor's Children",
                                    "average_rating": "2.93",
                                    "books_count": "45",
                                    "user_id": "12891",
                                    "book_id": "3648"
                                },
                                {
                                    "title": "The Emperor's Children",
                                    "average_rating": "2.93",
                                    "books_count": "45",
                                    "user_id": "16933",
                                    "book_id": "3648"
                                },
                                {
                                    "title": "The Emperor's Children",
                                    "average_rating": "2.93",
                                    "books_count": "45",
                                    "user_id": "17093",
                                    "book_id": "3648"
                                },
                                {
                                    "title": "The Emperor's Children",
                                    "average_rating": "2.93",
                                    "books_count": "45",
                                    "user_id": "24036",
                                    "book_id": "3648"
                                },
                                {
                                    "title": "The Emperor's Children",
                                    "average_rating": "2.93",
                                    "books_count": "45",
                                    "user_id": "35122",
                                    "book_id": "3648"
                                },
                                {
                                    "title": "The Emperor's Children",
                                    "average_rating": "2.93",
                                    "books_count": "45",
                                    "user_id": "36022",
                                    "book_id": "3648"
                                },
                                {
                                    "title": "The Emperor's Children",
                                    "average_rating": "2.93",
                                    "books_count": "45",
                                    "user_id": "36952",
                                    "book_id": "3648"
                                }
                            ]
                        },
                        "text/html": "<table><tr><th>title</th><th>average_rating</th><th>books_count</th><th>user_id</th><th>book_id</th></tr><tr><td>One Night at the Call Center</td><td>2.47</td><td>25</td><td>NULL</td><td>NULL</td></tr><tr><td>The Almost Moon</td><td>2.67</td><td>63</td><td>NULL</td><td>NULL</td></tr><tr><td>The Finkler Question</td><td>2.76</td><td>45</td><td>NULL</td><td>NULL</td></tr><tr><td>Four Blondes</td><td>2.8</td><td>57</td><td>449</td><td>6613</td></tr><tr><td>Four Blondes</td><td>2.8</td><td>57</td><td>1378</td><td>6613</td></tr><tr><td>Four Blondes</td><td>2.8</td><td>57</td><td>6465</td><td>6613</td></tr><tr><td>Four Blondes</td><td>2.8</td><td>57</td><td>6700</td><td>6613</td></tr><tr><td>Four Blondes</td><td>2.8</td><td>57</td><td>7830</td><td>6613</td></tr><tr><td>Four Blondes</td><td>2.8</td><td>57</td><td>10085</td><td>6613</td></tr><tr><td>Four Blondes</td><td>2.8</td><td>57</td><td>16298</td><td>6613</td></tr><tr><td>Four Blondes</td><td>2.8</td><td>57</td><td>16845</td><td>6613</td></tr><tr><td>Four Blondes</td><td>2.8</td><td>57</td><td>17470</td><td>6613</td></tr><tr><td>Four Blondes</td><td>2.8</td><td>57</td><td>19763</td><td>6613</td></tr><tr><td>Four Blondes</td><td>2.8</td><td>57</td><td>21938</td><td>6613</td></tr><tr><td>Four Blondes</td><td>2.8</td><td>57</td><td>22289</td><td>6613</td></tr><tr><td>Four Blondes</td><td>2.8</td><td>57</td><td>23758</td><td>6613</td></tr><tr><td>Four Blondes</td><td>2.8</td><td>57</td><td>27874</td><td>6613</td></tr><tr><td>Four Blondes</td><td>2.8</td><td>57</td><td>28690</td><td>6613</td></tr><tr><td>Four Blondes</td><td>2.8</td><td>57</td><td>29023</td><td>6613</td></tr><tr><td>Four Blondes</td><td>2.8</td><td>57</td><td>29315</td><td>6613</td></tr><tr><td>Four Blondes</td><td>2.8</td><td>57</td><td>30245</td><td>6613</td></tr><tr><td>Four Blondes</td><td>2.8</td><td>57</td><td>36128</td><td>6613</td></tr><tr><td>Four Blondes</td><td>2.8</td><td>57</td><td>36554</td><td>6613</td></tr><tr><td>Four Blondes</td><td>2.8</td><td>57</td><td>38159</td><td>6613</td></tr><tr><td>Four Blondes</td><td>2.8</td><td>57</td><td>38800</td><td>6613</td></tr><tr><td>Four Blondes</td><td>2.8</td><td>57</td><td>40361</td><td>6613</td></tr><tr><td>Four Blondes</td><td>2.8</td><td>57</td><td>40529</td><td>6613</td></tr><tr><td>Four Blondes</td><td>2.8</td><td>57</td><td>41485</td><td>6613</td></tr><tr><td>Four Blondes</td><td>2.8</td><td>57</td><td>42706</td><td>6613</td></tr><tr><td>Four Blondes</td><td>2.8</td><td>57</td><td>45206</td><td>6613</td></tr><tr><td>Four Blondes</td><td>2.8</td><td>57</td><td>45689</td><td>6613</td></tr><tr><td>Four Blondes</td><td>2.8</td><td>57</td><td>49499</td><td>6613</td></tr><tr><td>Four Blondes</td><td>2.8</td><td>57</td><td>51105</td><td>6613</td></tr><tr><td>Four Blondes</td><td>2.8</td><td>57</td><td>51671</td><td>6613</td></tr><tr><td>Four Blondes</td><td>2.8</td><td>57</td><td>52109</td><td>6613</td></tr><tr><td>Lost</td><td>2.8</td><td>18</td><td>NULL</td><td>NULL</td></tr><tr><td>Tell-All</td><td>2.84</td><td>37</td><td>NULL</td><td>NULL</td></tr><tr><td>Revenge Wears Prada: The Devil Returns (The Devil Wears Prada, #2)</td><td>2.84</td><td>59</td><td>NULL</td><td>NULL</td></tr><tr><td>Among the Ten Thousand Things</td><td>2.84</td><td>19</td><td>NULL</td><td>NULL</td></tr><tr><td>The Emperor's Children</td><td>2.93</td><td>45</td><td>7860</td><td>3648</td></tr><tr><td>The Emperor's Children</td><td>2.93</td><td>45</td><td>11320</td><td>3648</td></tr><tr><td>The Emperor's Children</td><td>2.93</td><td>45</td><td>12686</td><td>3648</td></tr><tr><td>The Emperor's Children</td><td>2.93</td><td>45</td><td>12729</td><td>3648</td></tr><tr><td>The Emperor's Children</td><td>2.93</td><td>45</td><td>12891</td><td>3648</td></tr><tr><td>The Emperor's Children</td><td>2.93</td><td>45</td><td>16933</td><td>3648</td></tr><tr><td>The Emperor's Children</td><td>2.93</td><td>45</td><td>17093</td><td>3648</td></tr><tr><td>The Emperor's Children</td><td>2.93</td><td>45</td><td>24036</td><td>3648</td></tr><tr><td>The Emperor's Children</td><td>2.93</td><td>45</td><td>35122</td><td>3648</td></tr><tr><td>The Emperor's Children</td><td>2.93</td><td>45</td><td>36022</td><td>3648</td></tr><tr><td>The Emperor's Children</td><td>2.93</td><td>45</td><td>36952</td><td>3648</td></tr></table>"
                    },
                    "metadata": {}
                },
                {
                    "output_type": "execute_result",
                    "execution_count": 1,
                    "data": {
                        "application/vnd.dataresource+json": {
                            "schema": {
                                "fields": [
                                    {
                                        "name": "title"
                                    },
                                    {
                                        "name": "average_rating"
                                    },
                                    {
                                        "name": "books_count"
                                    },
                                    {
                                        "name": "user_id"
                                    },
                                    {
                                        "name": "book_id"
                                    }
                                ]
                            },
                            "data": [
                                {
                                    "title": "Four Blondes",
                                    "average_rating": "2.8",
                                    "books_count": "57",
                                    "user_id": "449",
                                    "book_id": "6613"
                                },
                                {
                                    "title": "Four Blondes",
                                    "average_rating": "2.8",
                                    "books_count": "57",
                                    "user_id": "1378",
                                    "book_id": "6613"
                                },
                                {
                                    "title": "Four Blondes",
                                    "average_rating": "2.8",
                                    "books_count": "57",
                                    "user_id": "6465",
                                    "book_id": "6613"
                                },
                                {
                                    "title": "Four Blondes",
                                    "average_rating": "2.8",
                                    "books_count": "57",
                                    "user_id": "6700",
                                    "book_id": "6613"
                                },
                                {
                                    "title": "Four Blondes",
                                    "average_rating": "2.8",
                                    "books_count": "57",
                                    "user_id": "7830",
                                    "book_id": "6613"
                                },
                                {
                                    "title": "Four Blondes",
                                    "average_rating": "2.8",
                                    "books_count": "57",
                                    "user_id": "10085",
                                    "book_id": "6613"
                                },
                                {
                                    "title": "Four Blondes",
                                    "average_rating": "2.8",
                                    "books_count": "57",
                                    "user_id": "16298",
                                    "book_id": "6613"
                                },
                                {
                                    "title": "Four Blondes",
                                    "average_rating": "2.8",
                                    "books_count": "57",
                                    "user_id": "16845",
                                    "book_id": "6613"
                                },
                                {
                                    "title": "Four Blondes",
                                    "average_rating": "2.8",
                                    "books_count": "57",
                                    "user_id": "17470",
                                    "book_id": "6613"
                                },
                                {
                                    "title": "Four Blondes",
                                    "average_rating": "2.8",
                                    "books_count": "57",
                                    "user_id": "19763",
                                    "book_id": "6613"
                                },
                                {
                                    "title": "Four Blondes",
                                    "average_rating": "2.8",
                                    "books_count": "57",
                                    "user_id": "21938",
                                    "book_id": "6613"
                                },
                                {
                                    "title": "Four Blondes",
                                    "average_rating": "2.8",
                                    "books_count": "57",
                                    "user_id": "22289",
                                    "book_id": "6613"
                                },
                                {
                                    "title": "Four Blondes",
                                    "average_rating": "2.8",
                                    "books_count": "57",
                                    "user_id": "23758",
                                    "book_id": "6613"
                                },
                                {
                                    "title": "Four Blondes",
                                    "average_rating": "2.8",
                                    "books_count": "57",
                                    "user_id": "27874",
                                    "book_id": "6613"
                                },
                                {
                                    "title": "Four Blondes",
                                    "average_rating": "2.8",
                                    "books_count": "57",
                                    "user_id": "28690",
                                    "book_id": "6613"
                                },
                                {
                                    "title": "Four Blondes",
                                    "average_rating": "2.8",
                                    "books_count": "57",
                                    "user_id": "29023",
                                    "book_id": "6613"
                                },
                                {
                                    "title": "Four Blondes",
                                    "average_rating": "2.8",
                                    "books_count": "57",
                                    "user_id": "29315",
                                    "book_id": "6613"
                                },
                                {
                                    "title": "Four Blondes",
                                    "average_rating": "2.8",
                                    "books_count": "57",
                                    "user_id": "30245",
                                    "book_id": "6613"
                                },
                                {
                                    "title": "Four Blondes",
                                    "average_rating": "2.8",
                                    "books_count": "57",
                                    "user_id": "36128",
                                    "book_id": "6613"
                                },
                                {
                                    "title": "Four Blondes",
                                    "average_rating": "2.8",
                                    "books_count": "57",
                                    "user_id": "36554",
                                    "book_id": "6613"
                                },
                                {
                                    "title": "Four Blondes",
                                    "average_rating": "2.8",
                                    "books_count": "57",
                                    "user_id": "38159",
                                    "book_id": "6613"
                                },
                                {
                                    "title": "Four Blondes",
                                    "average_rating": "2.8",
                                    "books_count": "57",
                                    "user_id": "38800",
                                    "book_id": "6613"
                                },
                                {
                                    "title": "Four Blondes",
                                    "average_rating": "2.8",
                                    "books_count": "57",
                                    "user_id": "40361",
                                    "book_id": "6613"
                                },
                                {
                                    "title": "Four Blondes",
                                    "average_rating": "2.8",
                                    "books_count": "57",
                                    "user_id": "40529",
                                    "book_id": "6613"
                                },
                                {
                                    "title": "Four Blondes",
                                    "average_rating": "2.8",
                                    "books_count": "57",
                                    "user_id": "41485",
                                    "book_id": "6613"
                                },
                                {
                                    "title": "Four Blondes",
                                    "average_rating": "2.8",
                                    "books_count": "57",
                                    "user_id": "42706",
                                    "book_id": "6613"
                                },
                                {
                                    "title": "Four Blondes",
                                    "average_rating": "2.8",
                                    "books_count": "57",
                                    "user_id": "45206",
                                    "book_id": "6613"
                                },
                                {
                                    "title": "Four Blondes",
                                    "average_rating": "2.8",
                                    "books_count": "57",
                                    "user_id": "45689",
                                    "book_id": "6613"
                                },
                                {
                                    "title": "Four Blondes",
                                    "average_rating": "2.8",
                                    "books_count": "57",
                                    "user_id": "49499",
                                    "book_id": "6613"
                                },
                                {
                                    "title": "Four Blondes",
                                    "average_rating": "2.8",
                                    "books_count": "57",
                                    "user_id": "51105",
                                    "book_id": "6613"
                                },
                                {
                                    "title": "Four Blondes",
                                    "average_rating": "2.8",
                                    "books_count": "57",
                                    "user_id": "51671",
                                    "book_id": "6613"
                                },
                                {
                                    "title": "Four Blondes",
                                    "average_rating": "2.8",
                                    "books_count": "57",
                                    "user_id": "52109",
                                    "book_id": "6613"
                                },
                                {
                                    "title": "The Emperor's Children",
                                    "average_rating": "2.93",
                                    "books_count": "45",
                                    "user_id": "7860",
                                    "book_id": "3648"
                                },
                                {
                                    "title": "The Emperor's Children",
                                    "average_rating": "2.93",
                                    "books_count": "45",
                                    "user_id": "11320",
                                    "book_id": "3648"
                                },
                                {
                                    "title": "The Emperor's Children",
                                    "average_rating": "2.93",
                                    "books_count": "45",
                                    "user_id": "12686",
                                    "book_id": "3648"
                                },
                                {
                                    "title": "The Emperor's Children",
                                    "average_rating": "2.93",
                                    "books_count": "45",
                                    "user_id": "12729",
                                    "book_id": "3648"
                                },
                                {
                                    "title": "The Emperor's Children",
                                    "average_rating": "2.93",
                                    "books_count": "45",
                                    "user_id": "12891",
                                    "book_id": "3648"
                                },
                                {
                                    "title": "The Emperor's Children",
                                    "average_rating": "2.93",
                                    "books_count": "45",
                                    "user_id": "16933",
                                    "book_id": "3648"
                                },
                                {
                                    "title": "The Emperor's Children",
                                    "average_rating": "2.93",
                                    "books_count": "45",
                                    "user_id": "17093",
                                    "book_id": "3648"
                                },
                                {
                                    "title": "The Emperor's Children",
                                    "average_rating": "2.93",
                                    "books_count": "45",
                                    "user_id": "24036",
                                    "book_id": "3648"
                                },
                                {
                                    "title": "The Emperor's Children",
                                    "average_rating": "2.93",
                                    "books_count": "45",
                                    "user_id": "35122",
                                    "book_id": "3648"
                                },
                                {
                                    "title": "The Emperor's Children",
                                    "average_rating": "2.93",
                                    "books_count": "45",
                                    "user_id": "36022",
                                    "book_id": "3648"
                                },
                                {
                                    "title": "The Emperor's Children",
                                    "average_rating": "2.93",
                                    "books_count": "45",
                                    "user_id": "36952",
                                    "book_id": "3648"
                                },
                                {
                                    "title": "The Emperor's Children",
                                    "average_rating": "2.93",
                                    "books_count": "45",
                                    "user_id": "38430",
                                    "book_id": "3648"
                                },
                                {
                                    "title": "The Emperor's Children",
                                    "average_rating": "2.93",
                                    "books_count": "45",
                                    "user_id": "39414",
                                    "book_id": "3648"
                                },
                                {
                                    "title": "The Emperor's Children",
                                    "average_rating": "2.93",
                                    "books_count": "45",
                                    "user_id": "45261",
                                    "book_id": "3648"
                                },
                                {
                                    "title": "The Emperor's Children",
                                    "average_rating": "2.93",
                                    "books_count": "45",
                                    "user_id": "45497",
                                    "book_id": "3648"
                                },
                                {
                                    "title": "The Emperor's Children",
                                    "average_rating": "2.93",
                                    "books_count": "45",
                                    "user_id": "45747",
                                    "book_id": "3648"
                                },
                                {
                                    "title": "The Emperor's Children",
                                    "average_rating": "2.93",
                                    "books_count": "45",
                                    "user_id": "48502",
                                    "book_id": "3648"
                                },
                                {
                                    "title": "The Emperor's Children",
                                    "average_rating": "2.93",
                                    "books_count": "45",
                                    "user_id": "49233",
                                    "book_id": "3648"
                                }
                            ]
                        },
                        "text/html": "<table><tr><th>title</th><th>average_rating</th><th>books_count</th><th>user_id</th><th>book_id</th></tr><tr><td>Four Blondes</td><td>2.8</td><td>57</td><td>449</td><td>6613</td></tr><tr><td>Four Blondes</td><td>2.8</td><td>57</td><td>1378</td><td>6613</td></tr><tr><td>Four Blondes</td><td>2.8</td><td>57</td><td>6465</td><td>6613</td></tr><tr><td>Four Blondes</td><td>2.8</td><td>57</td><td>6700</td><td>6613</td></tr><tr><td>Four Blondes</td><td>2.8</td><td>57</td><td>7830</td><td>6613</td></tr><tr><td>Four Blondes</td><td>2.8</td><td>57</td><td>10085</td><td>6613</td></tr><tr><td>Four Blondes</td><td>2.8</td><td>57</td><td>16298</td><td>6613</td></tr><tr><td>Four Blondes</td><td>2.8</td><td>57</td><td>16845</td><td>6613</td></tr><tr><td>Four Blondes</td><td>2.8</td><td>57</td><td>17470</td><td>6613</td></tr><tr><td>Four Blondes</td><td>2.8</td><td>57</td><td>19763</td><td>6613</td></tr><tr><td>Four Blondes</td><td>2.8</td><td>57</td><td>21938</td><td>6613</td></tr><tr><td>Four Blondes</td><td>2.8</td><td>57</td><td>22289</td><td>6613</td></tr><tr><td>Four Blondes</td><td>2.8</td><td>57</td><td>23758</td><td>6613</td></tr><tr><td>Four Blondes</td><td>2.8</td><td>57</td><td>27874</td><td>6613</td></tr><tr><td>Four Blondes</td><td>2.8</td><td>57</td><td>28690</td><td>6613</td></tr><tr><td>Four Blondes</td><td>2.8</td><td>57</td><td>29023</td><td>6613</td></tr><tr><td>Four Blondes</td><td>2.8</td><td>57</td><td>29315</td><td>6613</td></tr><tr><td>Four Blondes</td><td>2.8</td><td>57</td><td>30245</td><td>6613</td></tr><tr><td>Four Blondes</td><td>2.8</td><td>57</td><td>36128</td><td>6613</td></tr><tr><td>Four Blondes</td><td>2.8</td><td>57</td><td>36554</td><td>6613</td></tr><tr><td>Four Blondes</td><td>2.8</td><td>57</td><td>38159</td><td>6613</td></tr><tr><td>Four Blondes</td><td>2.8</td><td>57</td><td>38800</td><td>6613</td></tr><tr><td>Four Blondes</td><td>2.8</td><td>57</td><td>40361</td><td>6613</td></tr><tr><td>Four Blondes</td><td>2.8</td><td>57</td><td>40529</td><td>6613</td></tr><tr><td>Four Blondes</td><td>2.8</td><td>57</td><td>41485</td><td>6613</td></tr><tr><td>Four Blondes</td><td>2.8</td><td>57</td><td>42706</td><td>6613</td></tr><tr><td>Four Blondes</td><td>2.8</td><td>57</td><td>45206</td><td>6613</td></tr><tr><td>Four Blondes</td><td>2.8</td><td>57</td><td>45689</td><td>6613</td></tr><tr><td>Four Blondes</td><td>2.8</td><td>57</td><td>49499</td><td>6613</td></tr><tr><td>Four Blondes</td><td>2.8</td><td>57</td><td>51105</td><td>6613</td></tr><tr><td>Four Blondes</td><td>2.8</td><td>57</td><td>51671</td><td>6613</td></tr><tr><td>Four Blondes</td><td>2.8</td><td>57</td><td>52109</td><td>6613</td></tr><tr><td>The Emperor's Children</td><td>2.93</td><td>45</td><td>7860</td><td>3648</td></tr><tr><td>The Emperor's Children</td><td>2.93</td><td>45</td><td>11320</td><td>3648</td></tr><tr><td>The Emperor's Children</td><td>2.93</td><td>45</td><td>12686</td><td>3648</td></tr><tr><td>The Emperor's Children</td><td>2.93</td><td>45</td><td>12729</td><td>3648</td></tr><tr><td>The Emperor's Children</td><td>2.93</td><td>45</td><td>12891</td><td>3648</td></tr><tr><td>The Emperor's Children</td><td>2.93</td><td>45</td><td>16933</td><td>3648</td></tr><tr><td>The Emperor's Children</td><td>2.93</td><td>45</td><td>17093</td><td>3648</td></tr><tr><td>The Emperor's Children</td><td>2.93</td><td>45</td><td>24036</td><td>3648</td></tr><tr><td>The Emperor's Children</td><td>2.93</td><td>45</td><td>35122</td><td>3648</td></tr><tr><td>The Emperor's Children</td><td>2.93</td><td>45</td><td>36022</td><td>3648</td></tr><tr><td>The Emperor's Children</td><td>2.93</td><td>45</td><td>36952</td><td>3648</td></tr><tr><td>The Emperor's Children</td><td>2.93</td><td>45</td><td>38430</td><td>3648</td></tr><tr><td>The Emperor's Children</td><td>2.93</td><td>45</td><td>39414</td><td>3648</td></tr><tr><td>The Emperor's Children</td><td>2.93</td><td>45</td><td>45261</td><td>3648</td></tr><tr><td>The Emperor's Children</td><td>2.93</td><td>45</td><td>45497</td><td>3648</td></tr><tr><td>The Emperor's Children</td><td>2.93</td><td>45</td><td>45747</td><td>3648</td></tr><tr><td>The Emperor's Children</td><td>2.93</td><td>45</td><td>48502</td><td>3648</td></tr><tr><td>The Emperor's Children</td><td>2.93</td><td>45</td><td>49233</td><td>3648</td></tr></table>"
                    },
                    "metadata": {}
                }
            ],
            "execution_count": 1
        },
        {
            "cell_type": "markdown",
            "source": [
                "## **QUESTION 2:** Exploring **RIGHT** joins with the **books** and **to\\_read** tables\n",
                "\n",
                "You will need to uncomment the Query to answer the question.\n",
                "\n",
                "**Part A:** Looking at the query, which table is the 'Left' and which is the 'Right'?\n",
                "\n",
                "> Your Answer:\n",
                "> \n",
                "> The left table is the books table - BooksDB.dbo.books with alias B  \n",
                "> The right table is the to\\_read table - BooksDB.dbo.to\\_read with alias tr\n",
                "\n",
                "**Part B:** How do the RIGHT-joined tables differ from the LEFT-joined tables in Question 1?  \n",
                "\n",
                "> Your Answer:\n",
                "> \n",
                "> Right joined tables end up with nulls on the left because the anchoring table is on the left\n",
                "> \n",
                "> The table below is  \n",
                "> the top 300 titles, with columns / fields  \n",
                "> from the b - books table - title, average\\_rating, books\\_count  \n",
                "> and from the tr - to\\_read table - user\\_id & book\\_id  \n",
                "> \n",
                "> The difference between the two queries is the inclusion of rows from either the left table or the right table, and the presence of null values in the columns from the non-matching table.   \n",
                ">   \n",
                "> If a book\\_id from the to read table, doesn't have a matched id (primary and foreign ID)  from the books table, nulls are put into the row in the left (left table is books / b , right table is to\\_read / tr)"
            ],
            "metadata": {
                "azdata_cell_guid": "c1e417d9-89d2-4a7d-ab46-b43c8bddc54f"
            },
            "attachments": {}
        },
        {
            "cell_type": "code",
            "source": [
                "\n",
                "-- Query 1: RIGHT JOIN\n",
                "SELECT TOP 300 b.title, b.average_rating, b.books_count, tr.user_id, tr.book_id\n",
                "FROM BooksDB.dbo.books AS b\n",
                "RIGHT JOIN BooksDB.dbo.to_read AS tr\n",
                "ON b.best_book_id = tr.book_id;\n",
                ""
            ],
            "metadata": {
                "azdata_cell_guid": "8cf020b8-2a76-46a6-acff-97eb1acc7fed",
                "tags": [],
                "language": "sql"
            },
            "outputs": [
                {
                    "output_type": "display_data",
                    "data": {
                        "text/html": "(300 rows affected)"
                    },
                    "metadata": {}
                },
                {
                    "output_type": "display_data",
                    "data": {
                        "text/html": "Total execution time: 00:00:00.065"
                    },
                    "metadata": {}
                },
                {
                    "output_type": "execute_result",
                    "execution_count": 2,
                    "data": {
                        "application/vnd.dataresource+json": {
                            "schema": {
                                "fields": [
                                    {
                                        "name": "title"
                                    },
                                    {
                                        "name": "average_rating"
                                    },
                                    {
                                        "name": "books_count"
                                    },
                                    {
                                        "name": "user_id"
                                    },
                                    {
                                        "name": "book_id"
                                    }
                                ]
                            },
                            "data": [
                                {
                                    "title": "Children of Dune (Dune Chronicles #3)",
                                    "average_rating": "3.9",
                                    "books_count": "116",
                                    "user_id": "1",
                                    "book_id": "112"
                                },
                                {
                                    "title": "NULL",
                                    "average_rating": "NULL",
                                    "books_count": "NULL",
                                    "user_id": "1",
                                    "book_id": "235"
                                },
                                {
                                    "title": "NULL",
                                    "average_rating": "NULL",
                                    "books_count": "NULL",
                                    "user_id": "1",
                                    "book_id": "533"
                                },
                                {
                                    "title": "NULL",
                                    "average_rating": "NULL",
                                    "books_count": "NULL",
                                    "user_id": "1",
                                    "book_id": "1198"
                                },
                                {
                                    "title": "NULL",
                                    "average_rating": "NULL",
                                    "books_count": "NULL",
                                    "user_id": "1",
                                    "book_id": "1874"
                                },
                                {
                                    "title": "NULL",
                                    "average_rating": "NULL",
                                    "books_count": "NULL",
                                    "user_id": "1",
                                    "book_id": "2058"
                                },
                                {
                                    "title": "NULL",
                                    "average_rating": "NULL",
                                    "books_count": "NULL",
                                    "user_id": "1",
                                    "book_id": "3334"
                                },
                                {
                                    "title": "NULL",
                                    "average_rating": "NULL",
                                    "books_count": "NULL",
                                    "user_id": "2",
                                    "book_id": "4"
                                },
                                {
                                    "title": "NULL",
                                    "average_rating": "NULL",
                                    "books_count": "NULL",
                                    "user_id": "2",
                                    "book_id": "11"
                                },
                                {
                                    "title": "The Ultimate Hitchhiker's Guide to the Galaxy",
                                    "average_rating": "4.37",
                                    "books_count": "32",
                                    "user_id": "2",
                                    "book_id": "13"
                                },
                                {
                                    "title": "NULL",
                                    "average_rating": "NULL",
                                    "books_count": "NULL",
                                    "user_id": "2",
                                    "book_id": "16"
                                },
                                {
                                    "title": "NULL",
                                    "average_rating": "NULL",
                                    "books_count": "NULL",
                                    "user_id": "2",
                                    "book_id": "92"
                                },
                                {
                                    "title": "Dune Messiah (Dune Chronicles #2)",
                                    "average_rating": "3.86",
                                    "books_count": "140",
                                    "user_id": "2",
                                    "book_id": "106"
                                },
                                {
                                    "title": "NULL",
                                    "average_rating": "NULL",
                                    "books_count": "NULL",
                                    "user_id": "2",
                                    "book_id": "113"
                                },
                                {
                                    "title": "NULL",
                                    "average_rating": "NULL",
                                    "books_count": "NULL",
                                    "user_id": "2",
                                    "book_id": "233"
                                },
                                {
                                    "title": "NULL",
                                    "average_rating": "NULL",
                                    "books_count": "NULL",
                                    "user_id": "2",
                                    "book_id": "247"
                                },
                                {
                                    "title": "NULL",
                                    "average_rating": "NULL",
                                    "books_count": "NULL",
                                    "user_id": "2",
                                    "book_id": "380"
                                },
                                {
                                    "title": "NULL",
                                    "average_rating": "NULL",
                                    "books_count": "NULL",
                                    "user_id": "2",
                                    "book_id": "408"
                                },
                                {
                                    "title": "NULL",
                                    "average_rating": "NULL",
                                    "books_count": "NULL",
                                    "user_id": "2",
                                    "book_id": "439"
                                },
                                {
                                    "title": "NULL",
                                    "average_rating": "NULL",
                                    "books_count": "NULL",
                                    "user_id": "2",
                                    "book_id": "479"
                                },
                                {
                                    "title": "NULL",
                                    "average_rating": "NULL",
                                    "books_count": "NULL",
                                    "user_id": "2",
                                    "book_id": "516"
                                },
                                {
                                    "title": "NULL",
                                    "average_rating": "NULL",
                                    "books_count": "NULL",
                                    "user_id": "2",
                                    "book_id": "619"
                                },
                                {
                                    "title": "NULL",
                                    "average_rating": "NULL",
                                    "books_count": "NULL",
                                    "user_id": "2",
                                    "book_id": "1069"
                                },
                                {
                                    "title": "The Iliad",
                                    "average_rating": "3.83",
                                    "books_count": "1726",
                                    "user_id": "2",
                                    "book_id": "1371"
                                },
                                {
                                    "title": "NULL",
                                    "average_rating": "NULL",
                                    "books_count": "NULL",
                                    "user_id": "2",
                                    "book_id": "1384"
                                },
                                {
                                    "title": "NULL",
                                    "average_rating": "NULL",
                                    "books_count": "NULL",
                                    "user_id": "2",
                                    "book_id": "1597"
                                },
                                {
                                    "title": "NULL",
                                    "average_rating": "NULL",
                                    "books_count": "NULL",
                                    "user_id": "2",
                                    "book_id": "1926"
                                },
                                {
                                    "title": "NULL",
                                    "average_rating": "NULL",
                                    "books_count": "NULL",
                                    "user_id": "2",
                                    "book_id": "1967"
                                },
                                {
                                    "title": "NULL",
                                    "average_rating": "NULL",
                                    "books_count": "NULL",
                                    "user_id": "2",
                                    "book_id": "1969"
                                },
                                {
                                    "title": "NULL",
                                    "average_rating": "NULL",
                                    "books_count": "NULL",
                                    "user_id": "2",
                                    "book_id": "2220"
                                },
                                {
                                    "title": "NULL",
                                    "average_rating": "NULL",
                                    "books_count": "NULL",
                                    "user_id": "2",
                                    "book_id": "2388"
                                },
                                {
                                    "title": "NULL",
                                    "average_rating": "NULL",
                                    "books_count": "NULL",
                                    "user_id": "2",
                                    "book_id": "3222"
                                },
                                {
                                    "title": "NULL",
                                    "average_rating": "NULL",
                                    "books_count": "NULL",
                                    "user_id": "2",
                                    "book_id": "3227"
                                },
                                {
                                    "title": "NULL",
                                    "average_rating": "NULL",
                                    "books_count": "NULL",
                                    "user_id": "2",
                                    "book_id": "3733"
                                },
                                {
                                    "title": "NULL",
                                    "average_rating": "NULL",
                                    "books_count": "NULL",
                                    "user_id": "2",
                                    "book_id": "5418"
                                },
                                {
                                    "title": "NULL",
                                    "average_rating": "NULL",
                                    "books_count": "NULL",
                                    "user_id": "2",
                                    "book_id": "6937"
                                },
                                {
                                    "title": "NULL",
                                    "average_rating": "NULL",
                                    "books_count": "NULL",
                                    "user_id": "2",
                                    "book_id": "7146"
                                },
                                {
                                    "title": "NULL",
                                    "average_rating": "NULL",
                                    "books_count": "NULL",
                                    "user_id": "2",
                                    "book_id": "7873"
                                },
                                {
                                    "title": "NULL",
                                    "average_rating": "NULL",
                                    "books_count": "NULL",
                                    "user_id": "2",
                                    "book_id": "8417"
                                },
                                {
                                    "title": "Harry Potter Collection (Harry Potter, #1-6)",
                                    "average_rating": "4.73",
                                    "books_count": "6",
                                    "user_id": "3",
                                    "book_id": "10"
                                },
                                {
                                    "title": "NULL",
                                    "average_rating": "NULL",
                                    "books_count": "NULL",
                                    "user_id": "3",
                                    "book_id": "66"
                                },
                                {
                                    "title": "NULL",
                                    "average_rating": "NULL",
                                    "books_count": "NULL",
                                    "user_id": "3",
                                    "book_id": "233"
                                },
                                {
                                    "title": "NULL",
                                    "average_rating": "NULL",
                                    "books_count": "NULL",
                                    "user_id": "3",
                                    "book_id": "726"
                                },
                                {
                                    "title": "NULL",
                                    "average_rating": "NULL",
                                    "books_count": "NULL",
                                    "user_id": "3",
                                    "book_id": "932"
                                },
                                {
                                    "title": "NULL",
                                    "average_rating": "NULL",
                                    "books_count": "NULL",
                                    "user_id": "3",
                                    "book_id": "1146"
                                },
                                {
                                    "title": "NULL",
                                    "average_rating": "NULL",
                                    "books_count": "NULL",
                                    "user_id": "3",
                                    "book_id": "2439"
                                },
                                {
                                    "title": "NULL",
                                    "average_rating": "NULL",
                                    "books_count": "NULL",
                                    "user_id": "3",
                                    "book_id": "3566"
                                },
                                {
                                    "title": "NULL",
                                    "average_rating": "NULL",
                                    "books_count": "NULL",
                                    "user_id": "3",
                                    "book_id": "4582"
                                },
                                {
                                    "title": "NULL",
                                    "average_rating": "NULL",
                                    "books_count": "NULL",
                                    "user_id": "3",
                                    "book_id": "5448"
                                },
                                {
                                    "title": "NULL",
                                    "average_rating": "NULL",
                                    "books_count": "NULL",
                                    "user_id": "3",
                                    "book_id": "5765"
                                },
                                {
                                    "title": "NULL",
                                    "average_rating": "NULL",
                                    "books_count": "NULL",
                                    "user_id": "3",
                                    "book_id": "6274"
                                },
                                {
                                    "title": "NULL",
                                    "average_rating": "NULL",
                                    "books_count": "NULL",
                                    "user_id": "3",
                                    "book_id": "8403"
                                },
                                {
                                    "title": "NULL",
                                    "average_rating": "NULL",
                                    "books_count": "NULL",
                                    "user_id": "5",
                                    "book_id": "31"
                                },
                                {
                                    "title": "The Virtue of Selfishness: A New Concept of Egoism",
                                    "average_rating": "3.47",
                                    "books_count": "53",
                                    "user_id": "5",
                                    "book_id": "665"
                                },
                                {
                                    "title": "NULL",
                                    "average_rating": "NULL",
                                    "books_count": "NULL",
                                    "user_id": "5",
                                    "book_id": "3074"
                                },
                                {
                                    "title": "Sherlock Holmes: The Complete Novels and Stories, Volume I",
                                    "average_rating": "4.45",
                                    "books_count": "13",
                                    "user_id": "5",
                                    "book_id": "3581"
                                },
                                {
                                    "title": "NULL",
                                    "average_rating": "NULL",
                                    "books_count": "NULL",
                                    "user_id": "6",
                                    "book_id": "64"
                                },
                                {
                                    "title": "NULL",
                                    "average_rating": "NULL",
                                    "books_count": "NULL",
                                    "user_id": "6",
                                    "book_id": "459"
                                },
                                {
                                    "title": "NULL",
                                    "average_rating": "NULL",
                                    "books_count": "NULL",
                                    "user_id": "6",
                                    "book_id": "619"
                                },
                                {
                                    "title": "NULL",
                                    "average_rating": "NULL",
                                    "books_count": "NULL",
                                    "user_id": "6",
                                    "book_id": "649"
                                },
                                {
                                    "title": "NULL",
                                    "average_rating": "NULL",
                                    "books_count": "NULL",
                                    "user_id": "6",
                                    "book_id": "687"
                                },
                                {
                                    "title": "NULL",
                                    "average_rating": "NULL",
                                    "books_count": "NULL",
                                    "user_id": "6",
                                    "book_id": "874"
                                },
                                {
                                    "title": "The War of Art: Break Through the Blocks & Win Your Inner Creative Battles",
                                    "average_rating": "4.07",
                                    "books_count": "29",
                                    "user_id": "6",
                                    "book_id": "1319"
                                },
                                {
                                    "title": "NULL",
                                    "average_rating": "NULL",
                                    "books_count": "NULL",
                                    "user_id": "6",
                                    "book_id": "1912"
                                },
                                {
                                    "title": "NULL",
                                    "average_rating": "NULL",
                                    "books_count": "NULL",
                                    "user_id": "6",
                                    "book_id": "5269"
                                },
                                {
                                    "title": "NULL",
                                    "average_rating": "NULL",
                                    "books_count": "NULL",
                                    "user_id": "6",
                                    "book_id": "5537"
                                },
                                {
                                    "title": "NULL",
                                    "average_rating": "NULL",
                                    "books_count": "NULL",
                                    "user_id": "6",
                                    "book_id": "5820"
                                },
                                {
                                    "title": "NULL",
                                    "average_rating": "NULL",
                                    "books_count": "NULL",
                                    "user_id": "6",
                                    "book_id": "6220"
                                },
                                {
                                    "title": "NULL",
                                    "average_rating": "NULL",
                                    "books_count": "NULL",
                                    "user_id": "6",
                                    "book_id": "7480"
                                },
                                {
                                    "title": "Harry Potter Collection (Harry Potter, #1-6)",
                                    "average_rating": "4.73",
                                    "books_count": "6",
                                    "user_id": "7",
                                    "book_id": "10"
                                },
                                {
                                    "title": "NULL",
                                    "average_rating": "NULL",
                                    "books_count": "NULL",
                                    "user_id": "7",
                                    "book_id": "215"
                                },
                                {
                                    "title": "NULL",
                                    "average_rating": "NULL",
                                    "books_count": "NULL",
                                    "user_id": "7",
                                    "book_id": "225"
                                },
                                {
                                    "title": "NULL",
                                    "average_rating": "NULL",
                                    "books_count": "NULL",
                                    "user_id": "7",
                                    "book_id": "233"
                                },
                                {
                                    "title": "NULL",
                                    "average_rating": "NULL",
                                    "books_count": "NULL",
                                    "user_id": "7",
                                    "book_id": "1322"
                                },
                                {
                                    "title": "NULL",
                                    "average_rating": "NULL",
                                    "books_count": "NULL",
                                    "user_id": "7",
                                    "book_id": "3552"
                                },
                                {
                                    "title": "NULL",
                                    "average_rating": "NULL",
                                    "books_count": "NULL",
                                    "user_id": "7",
                                    "book_id": "3720"
                                },
                                {
                                    "title": "NULL",
                                    "average_rating": "NULL",
                                    "books_count": "NULL",
                                    "user_id": "7",
                                    "book_id": "4468"
                                },
                                {
                                    "title": "NULL",
                                    "average_rating": "NULL",
                                    "books_count": "NULL",
                                    "user_id": "8",
                                    "book_id": "19"
                                },
                                {
                                    "title": "NULL",
                                    "average_rating": "NULL",
                                    "books_count": "NULL",
                                    "user_id": "8",
                                    "book_id": "498"
                                },
                                {
                                    "title": "NULL",
                                    "average_rating": "NULL",
                                    "books_count": "NULL",
                                    "user_id": "8",
                                    "book_id": "1357"
                                },
                                {
                                    "title": "NULL",
                                    "average_rating": "NULL",
                                    "books_count": "NULL",
                                    "user_id": "8",
                                    "book_id": "2177"
                                },
                                {
                                    "title": "NULL",
                                    "average_rating": "NULL",
                                    "books_count": "NULL",
                                    "user_id": "8",
                                    "book_id": "3930"
                                },
                                {
                                    "title": "The Pilgrimage",
                                    "average_rating": "3.64",
                                    "books_count": "171",
                                    "user_id": "8",
                                    "book_id": "4004"
                                },
                                {
                                    "title": "NULL",
                                    "average_rating": "NULL",
                                    "books_count": "NULL",
                                    "user_id": "8",
                                    "book_id": "8792"
                                },
                                {
                                    "title": "NULL",
                                    "average_rating": "NULL",
                                    "books_count": "NULL",
                                    "user_id": "8",
                                    "book_id": "9304"
                                },
                                {
                                    "title": "Harry Potter Boxed Set, Books 1-5 (Harry Potter, #1-5)",
                                    "average_rating": "4.77",
                                    "books_count": "11",
                                    "user_id": "9",
                                    "book_id": "8"
                                },
                                {
                                    "title": "Children of Dune (Dune Chronicles #3)",
                                    "average_rating": "3.9",
                                    "books_count": "116",
                                    "user_id": "9",
                                    "book_id": "112"
                                },
                                {
                                    "title": "NULL",
                                    "average_rating": "NULL",
                                    "books_count": "NULL",
                                    "user_id": "9",
                                    "book_id": "139"
                                },
                                {
                                    "title": "NULL",
                                    "average_rating": "NULL",
                                    "books_count": "NULL",
                                    "user_id": "9",
                                    "book_id": "230"
                                },
                                {
                                    "title": "NULL",
                                    "average_rating": "NULL",
                                    "books_count": "NULL",
                                    "user_id": "9",
                                    "book_id": "233"
                                },
                                {
                                    "title": "NULL",
                                    "average_rating": "NULL",
                                    "books_count": "NULL",
                                    "user_id": "9",
                                    "book_id": "473"
                                },
                                {
                                    "title": "NULL",
                                    "average_rating": "NULL",
                                    "books_count": "NULL",
                                    "user_id": "9",
                                    "book_id": "638"
                                },
                                {
                                    "title": "NULL",
                                    "average_rating": "NULL",
                                    "books_count": "NULL",
                                    "user_id": "9",
                                    "book_id": "653"
                                },
                                {
                                    "title": "NULL",
                                    "average_rating": "NULL",
                                    "books_count": "NULL",
                                    "user_id": "9",
                                    "book_id": "672"
                                },
                                {
                                    "title": "NULL",
                                    "average_rating": "NULL",
                                    "books_count": "NULL",
                                    "user_id": "9",
                                    "book_id": "701"
                                },
                                {
                                    "title": "NULL",
                                    "average_rating": "NULL",
                                    "books_count": "NULL",
                                    "user_id": "9",
                                    "book_id": "736"
                                },
                                {
                                    "title": "NULL",
                                    "average_rating": "NULL",
                                    "books_count": "NULL",
                                    "user_id": "9",
                                    "book_id": "883"
                                },
                                {
                                    "title": "NULL",
                                    "average_rating": "NULL",
                                    "books_count": "NULL",
                                    "user_id": "9",
                                    "book_id": "895"
                                },
                                {
                                    "title": "NULL",
                                    "average_rating": "NULL",
                                    "books_count": "NULL",
                                    "user_id": "9",
                                    "book_id": "1467"
                                },
                                {
                                    "title": "NULL",
                                    "average_rating": "NULL",
                                    "books_count": "NULL",
                                    "user_id": "9",
                                    "book_id": "1582"
                                },
                                {
                                    "title": "NULL",
                                    "average_rating": "NULL",
                                    "books_count": "NULL",
                                    "user_id": "9",
                                    "book_id": "1873"
                                },
                                {
                                    "title": "NULL",
                                    "average_rating": "NULL",
                                    "books_count": "NULL",
                                    "user_id": "9",
                                    "book_id": "2516"
                                },
                                {
                                    "title": "NULL",
                                    "average_rating": "NULL",
                                    "books_count": "NULL",
                                    "user_id": "9",
                                    "book_id": "2630"
                                },
                                {
                                    "title": "NULL",
                                    "average_rating": "NULL",
                                    "books_count": "NULL",
                                    "user_id": "9",
                                    "book_id": "3210"
                                },
                                {
                                    "title": "Icy Sparks",
                                    "average_rating": "3.68",
                                    "books_count": "27",
                                    "user_id": "9",
                                    "book_id": "3476"
                                },
                                {
                                    "title": "NULL",
                                    "average_rating": "NULL",
                                    "books_count": "NULL",
                                    "user_id": "9",
                                    "book_id": "3560"
                                },
                                {
                                    "title": "NULL",
                                    "average_rating": "NULL",
                                    "books_count": "NULL",
                                    "user_id": "9",
                                    "book_id": "3650"
                                },
                                {
                                    "title": "NULL",
                                    "average_rating": "NULL",
                                    "books_count": "NULL",
                                    "user_id": "9",
                                    "book_id": "5286"
                                },
                                {
                                    "title": "NULL",
                                    "average_rating": "NULL",
                                    "books_count": "NULL",
                                    "user_id": "9",
                                    "book_id": "6636"
                                },
                                {
                                    "title": "Harry Potter and the Goblet of Fire (Harry Potter, #4)",
                                    "average_rating": "4.53",
                                    "books_count": "332",
                                    "user_id": "10",
                                    "book_id": "6"
                                },
                                {
                                    "title": "NULL",
                                    "average_rating": "NULL",
                                    "books_count": "NULL",
                                    "user_id": "10",
                                    "book_id": "385"
                                },
                                {
                                    "title": "Atlas Shrugged",
                                    "average_rating": "3.68",
                                    "books_count": "147",
                                    "user_id": "10",
                                    "book_id": "662"
                                },
                                {
                                    "title": "NULL",
                                    "average_rating": "NULL",
                                    "books_count": "NULL",
                                    "user_id": "10",
                                    "book_id": "896"
                                },
                                {
                                    "title": "NULL",
                                    "average_rating": "NULL",
                                    "books_count": "NULL",
                                    "user_id": "10",
                                    "book_id": "1076"
                                },
                                {
                                    "title": "NULL",
                                    "average_rating": "NULL",
                                    "books_count": "NULL",
                                    "user_id": "10",
                                    "book_id": "1082"
                                },
                                {
                                    "title": "NULL",
                                    "average_rating": "NULL",
                                    "books_count": "NULL",
                                    "user_id": "10",
                                    "book_id": "1220"
                                },
                                {
                                    "title": "NULL",
                                    "average_rating": "NULL",
                                    "books_count": "NULL",
                                    "user_id": "10",
                                    "book_id": "1281"
                                },
                                {
                                    "title": "NULL",
                                    "average_rating": "NULL",
                                    "books_count": "NULL",
                                    "user_id": "10",
                                    "book_id": "1439"
                                },
                                {
                                    "title": "NULL",
                                    "average_rating": "NULL",
                                    "books_count": "NULL",
                                    "user_id": "10",
                                    "book_id": "1851"
                                },
                                {
                                    "title": "NULL",
                                    "average_rating": "NULL",
                                    "books_count": "NULL",
                                    "user_id": "10",
                                    "book_id": "1920"
                                },
                                {
                                    "title": "NULL",
                                    "average_rating": "NULL",
                                    "books_count": "NULL",
                                    "user_id": "10",
                                    "book_id": "2441"
                                },
                                {
                                    "title": "NULL",
                                    "average_rating": "NULL",
                                    "books_count": "NULL",
                                    "user_id": "10",
                                    "book_id": "2570"
                                },
                                {
                                    "title": "NULL",
                                    "average_rating": "NULL",
                                    "books_count": "NULL",
                                    "user_id": "10",
                                    "book_id": "2616"
                                },
                                {
                                    "title": "NULL",
                                    "average_rating": "NULL",
                                    "books_count": "NULL",
                                    "user_id": "10",
                                    "book_id": "3059"
                                },
                                {
                                    "title": "NULL",
                                    "average_rating": "NULL",
                                    "books_count": "NULL",
                                    "user_id": "10",
                                    "book_id": "3545"
                                },
                                {
                                    "title": "NULL",
                                    "average_rating": "NULL",
                                    "books_count": "NULL",
                                    "user_id": "10",
                                    "book_id": "3961"
                                },
                                {
                                    "title": "NULL",
                                    "average_rating": "NULL",
                                    "books_count": "NULL",
                                    "user_id": "10",
                                    "book_id": "4369"
                                },
                                {
                                    "title": "NULL",
                                    "average_rating": "NULL",
                                    "books_count": "NULL",
                                    "user_id": "10",
                                    "book_id": "4510"
                                },
                                {
                                    "title": "NULL",
                                    "average_rating": "NULL",
                                    "books_count": "NULL",
                                    "user_id": "10",
                                    "book_id": "5104"
                                },
                                {
                                    "title": "NULL",
                                    "average_rating": "NULL",
                                    "books_count": "NULL",
                                    "user_id": "10",
                                    "book_id": "5254"
                                },
                                {
                                    "title": "NULL",
                                    "average_rating": "NULL",
                                    "books_count": "NULL",
                                    "user_id": "10",
                                    "book_id": "5556"
                                },
                                {
                                    "title": "NULL",
                                    "average_rating": "NULL",
                                    "books_count": "NULL",
                                    "user_id": "10",
                                    "book_id": "6114"
                                },
                                {
                                    "title": "NULL",
                                    "average_rating": "NULL",
                                    "books_count": "NULL",
                                    "user_id": "10",
                                    "book_id": "6917"
                                },
                                {
                                    "title": "NULL",
                                    "average_rating": "NULL",
                                    "books_count": "NULL",
                                    "user_id": "10",
                                    "book_id": "7545"
                                },
                                {
                                    "title": "NULL",
                                    "average_rating": "NULL",
                                    "books_count": "NULL",
                                    "user_id": "10",
                                    "book_id": "7842"
                                },
                                {
                                    "title": "NULL",
                                    "average_rating": "NULL",
                                    "books_count": "NULL",
                                    "user_id": "11",
                                    "book_id": "3643"
                                },
                                {
                                    "title": "Harry Potter and the Half-Blood Prince (Harry Potter, #6)",
                                    "average_rating": "4.54",
                                    "books_count": "275",
                                    "user_id": "12",
                                    "book_id": "1"
                                },
                                {
                                    "title": "NULL",
                                    "average_rating": "NULL",
                                    "books_count": "NULL",
                                    "user_id": "12",
                                    "book_id": "124"
                                },
                                {
                                    "title": "NULL",
                                    "average_rating": "NULL",
                                    "books_count": "NULL",
                                    "user_id": "12",
                                    "book_id": "1471"
                                },
                                {
                                    "title": "NULL",
                                    "average_rating": "NULL",
                                    "books_count": "NULL",
                                    "user_id": "12",
                                    "book_id": "2893"
                                },
                                {
                                    "title": "NULL",
                                    "average_rating": "NULL",
                                    "books_count": "NULL",
                                    "user_id": "13",
                                    "book_id": "81"
                                },
                                {
                                    "title": "NULL",
                                    "average_rating": "NULL",
                                    "books_count": "NULL",
                                    "user_id": "13",
                                    "book_id": "277"
                                },
                                {
                                    "title": "NULL",
                                    "average_rating": "NULL",
                                    "books_count": "NULL",
                                    "user_id": "13",
                                    "book_id": "318"
                                },
                                {
                                    "title": "NULL",
                                    "average_rating": "NULL",
                                    "books_count": "NULL",
                                    "user_id": "13",
                                    "book_id": "430"
                                },
                                {
                                    "title": "NULL",
                                    "average_rating": "NULL",
                                    "books_count": "NULL",
                                    "user_id": "13",
                                    "book_id": "437"
                                },
                                {
                                    "title": "NULL",
                                    "average_rating": "NULL",
                                    "books_count": "NULL",
                                    "user_id": "13",
                                    "book_id": "551"
                                },
                                {
                                    "title": "NULL",
                                    "average_rating": "NULL",
                                    "books_count": "NULL",
                                    "user_id": "13",
                                    "book_id": "560"
                                },
                                {
                                    "title": "NULL",
                                    "average_rating": "NULL",
                                    "books_count": "NULL",
                                    "user_id": "13",
                                    "book_id": "610"
                                },
                                {
                                    "title": "NULL",
                                    "average_rating": "NULL",
                                    "books_count": "NULL",
                                    "user_id": "13",
                                    "book_id": "678"
                                },
                                {
                                    "title": "NULL",
                                    "average_rating": "NULL",
                                    "books_count": "NULL",
                                    "user_id": "13",
                                    "book_id": "979"
                                },
                                {
                                    "title": "NULL",
                                    "average_rating": "NULL",
                                    "books_count": "NULL",
                                    "user_id": "13",
                                    "book_id": "1082"
                                },
                                {
                                    "title": "NULL",
                                    "average_rating": "NULL",
                                    "books_count": "NULL",
                                    "user_id": "13",
                                    "book_id": "1464"
                                },
                                {
                                    "title": "NULL",
                                    "average_rating": "NULL",
                                    "books_count": "NULL",
                                    "user_id": "13",
                                    "book_id": "1577"
                                },
                                {
                                    "title": "NULL",
                                    "average_rating": "NULL",
                                    "books_count": "NULL",
                                    "user_id": "13",
                                    "book_id": "2018"
                                },
                                {
                                    "title": "NULL",
                                    "average_rating": "NULL",
                                    "books_count": "NULL",
                                    "user_id": "13",
                                    "book_id": "2418"
                                },
                                {
                                    "title": "NULL",
                                    "average_rating": "NULL",
                                    "books_count": "NULL",
                                    "user_id": "13",
                                    "book_id": "3257"
                                },
                                {
                                    "title": "NULL",
                                    "average_rating": "NULL",
                                    "books_count": "NULL",
                                    "user_id": "13",
                                    "book_id": "4212"
                                },
                                {
                                    "title": "NULL",
                                    "average_rating": "NULL",
                                    "books_count": "NULL",
                                    "user_id": "13",
                                    "book_id": "4635"
                                },
                                {
                                    "title": "NULL",
                                    "average_rating": "NULL",
                                    "books_count": "NULL",
                                    "user_id": "13",
                                    "book_id": "4704"
                                },
                                {
                                    "title": "NULL",
                                    "average_rating": "NULL",
                                    "books_count": "NULL",
                                    "user_id": "13",
                                    "book_id": "4734"
                                },
                                {
                                    "title": "NULL",
                                    "average_rating": "NULL",
                                    "books_count": "NULL",
                                    "user_id": "13",
                                    "book_id": "4841"
                                },
                                {
                                    "title": "NULL",
                                    "average_rating": "NULL",
                                    "books_count": "NULL",
                                    "user_id": "13",
                                    "book_id": "4848"
                                },
                                {
                                    "title": "NULL",
                                    "average_rating": "NULL",
                                    "books_count": "NULL",
                                    "user_id": "13",
                                    "book_id": "4856"
                                },
                                {
                                    "title": "NULL",
                                    "average_rating": "NULL",
                                    "books_count": "NULL",
                                    "user_id": "13",
                                    "book_id": "4928"
                                },
                                {
                                    "title": "NULL",
                                    "average_rating": "NULL",
                                    "books_count": "NULL",
                                    "user_id": "13",
                                    "book_id": "6114"
                                },
                                {
                                    "title": "NULL",
                                    "average_rating": "NULL",
                                    "books_count": "NULL",
                                    "user_id": "13",
                                    "book_id": "6793"
                                },
                                {
                                    "title": "NULL",
                                    "average_rating": "NULL",
                                    "books_count": "NULL",
                                    "user_id": "13",
                                    "book_id": "6962"
                                },
                                {
                                    "title": "NULL",
                                    "average_rating": "NULL",
                                    "books_count": "NULL",
                                    "user_id": "13",
                                    "book_id": "8717"
                                },
                                {
                                    "title": "NULL",
                                    "average_rating": "NULL",
                                    "books_count": "NULL",
                                    "user_id": "14",
                                    "book_id": "493"
                                },
                                {
                                    "title": "NULL",
                                    "average_rating": "NULL",
                                    "books_count": "NULL",
                                    "user_id": "14",
                                    "book_id": "1179"
                                },
                                {
                                    "title": "NULL",
                                    "average_rating": "NULL",
                                    "books_count": "NULL",
                                    "user_id": "14",
                                    "book_id": "2693"
                                },
                                {
                                    "title": "Sherlock Holmes: The Complete Novels and Stories, Volume I",
                                    "average_rating": "4.45",
                                    "books_count": "13",
                                    "user_id": "14",
                                    "book_id": "3581"
                                },
                                {
                                    "title": "NULL",
                                    "average_rating": "NULL",
                                    "books_count": "NULL",
                                    "user_id": "14",
                                    "book_id": "3683"
                                },
                                {
                                    "title": "NULL",
                                    "average_rating": "NULL",
                                    "books_count": "NULL",
                                    "user_id": "14",
                                    "book_id": "3953"
                                },
                                {
                                    "title": "NULL",
                                    "average_rating": "NULL",
                                    "books_count": "NULL",
                                    "user_id": "14",
                                    "book_id": "4220"
                                },
                                {
                                    "title": "NULL",
                                    "average_rating": "NULL",
                                    "books_count": "NULL",
                                    "user_id": "14",
                                    "book_id": "5076"
                                },
                                {
                                    "title": "NULL",
                                    "average_rating": "NULL",
                                    "books_count": "NULL",
                                    "user_id": "14",
                                    "book_id": "5537"
                                },
                                {
                                    "title": "NULL",
                                    "average_rating": "NULL",
                                    "books_count": "NULL",
                                    "user_id": "14",
                                    "book_id": "7777"
                                },
                                {
                                    "title": "NULL",
                                    "average_rating": "NULL",
                                    "books_count": "NULL",
                                    "user_id": "15",
                                    "book_id": "191"
                                },
                                {
                                    "title": "The Lover",
                                    "average_rating": "3.76",
                                    "books_count": "148",
                                    "user_id": "15",
                                    "book_id": "275"
                                },
                                {
                                    "title": "NULL",
                                    "average_rating": "NULL",
                                    "books_count": "NULL",
                                    "user_id": "15",
                                    "book_id": "398"
                                },
                                {
                                    "title": "NULL",
                                    "average_rating": "NULL",
                                    "books_count": "NULL",
                                    "user_id": "15",
                                    "book_id": "666"
                                },
                                {
                                    "title": "NULL",
                                    "average_rating": "NULL",
                                    "books_count": "NULL",
                                    "user_id": "15",
                                    "book_id": "1491"
                                },
                                {
                                    "title": "NULL",
                                    "average_rating": "NULL",
                                    "books_count": "NULL",
                                    "user_id": "15",
                                    "book_id": "5210"
                                },
                                {
                                    "title": "NULL",
                                    "average_rating": "NULL",
                                    "books_count": "NULL",
                                    "user_id": "17",
                                    "book_id": "1344"
                                },
                                {
                                    "title": "The Good Soldier",
                                    "average_rating": "3.72",
                                    "books_count": "362",
                                    "user_id": "20",
                                    "book_id": "7628"
                                },
                                {
                                    "title": "NULL",
                                    "average_rating": "NULL",
                                    "books_count": "NULL",
                                    "user_id": "22",
                                    "book_id": "653"
                                },
                                {
                                    "title": "NULL",
                                    "average_rating": "NULL",
                                    "books_count": "NULL",
                                    "user_id": "22",
                                    "book_id": "1403"
                                },
                                {
                                    "title": "NULL",
                                    "average_rating": "NULL",
                                    "books_count": "NULL",
                                    "user_id": "22",
                                    "book_id": "1405"
                                },
                                {
                                    "title": "NULL",
                                    "average_rating": "NULL",
                                    "books_count": "NULL",
                                    "user_id": "22",
                                    "book_id": "1645"
                                },
                                {
                                    "title": "NULL",
                                    "average_rating": "NULL",
                                    "books_count": "NULL",
                                    "user_id": "22",
                                    "book_id": "2500"
                                },
                                {
                                    "title": "NULL",
                                    "average_rating": "NULL",
                                    "books_count": "NULL",
                                    "user_id": "22",
                                    "book_id": "2691"
                                },
                                {
                                    "title": "NULL",
                                    "average_rating": "NULL",
                                    "books_count": "NULL",
                                    "user_id": "22",
                                    "book_id": "4995"
                                },
                                {
                                    "title": "NULL",
                                    "average_rating": "NULL",
                                    "books_count": "NULL",
                                    "user_id": "23",
                                    "book_id": "273"
                                },
                                {
                                    "title": "NULL",
                                    "average_rating": "NULL",
                                    "books_count": "NULL",
                                    "user_id": "23",
                                    "book_id": "459"
                                },
                                {
                                    "title": "NULL",
                                    "average_rating": "NULL",
                                    "books_count": "NULL",
                                    "user_id": "23",
                                    "book_id": "791"
                                },
                                {
                                    "title": "NULL",
                                    "average_rating": "NULL",
                                    "books_count": "NULL",
                                    "user_id": "23",
                                    "book_id": "886"
                                },
                                {
                                    "title": "NULL",
                                    "average_rating": "NULL",
                                    "books_count": "NULL",
                                    "user_id": "23",
                                    "book_id": "925"
                                },
                                {
                                    "title": "NULL",
                                    "average_rating": "NULL",
                                    "books_count": "NULL",
                                    "user_id": "23",
                                    "book_id": "1198"
                                },
                                {
                                    "title": "NULL",
                                    "average_rating": "NULL",
                                    "books_count": "NULL",
                                    "user_id": "23",
                                    "book_id": "1597"
                                },
                                {
                                    "title": "NULL",
                                    "average_rating": "NULL",
                                    "books_count": "NULL",
                                    "user_id": "23",
                                    "book_id": "1688"
                                },
                                {
                                    "title": "NULL",
                                    "average_rating": "NULL",
                                    "books_count": "NULL",
                                    "user_id": "23",
                                    "book_id": "2251"
                                },
                                {
                                    "title": "NULL",
                                    "average_rating": "NULL",
                                    "books_count": "NULL",
                                    "user_id": "23",
                                    "book_id": "2350"
                                },
                                {
                                    "title": "NULL",
                                    "average_rating": "NULL",
                                    "books_count": "NULL",
                                    "user_id": "23",
                                    "book_id": "2613"
                                },
                                {
                                    "title": "NULL",
                                    "average_rating": "NULL",
                                    "books_count": "NULL",
                                    "user_id": "23",
                                    "book_id": "3312"
                                },
                                {
                                    "title": "NULL",
                                    "average_rating": "NULL",
                                    "books_count": "NULL",
                                    "user_id": "23",
                                    "book_id": "3343"
                                },
                                {
                                    "title": "NULL",
                                    "average_rating": "NULL",
                                    "books_count": "NULL",
                                    "user_id": "24",
                                    "book_id": "61"
                                },
                                {
                                    "title": "NULL",
                                    "average_rating": "NULL",
                                    "books_count": "NULL",
                                    "user_id": "24",
                                    "book_id": "143"
                                },
                                {
                                    "title": "NULL",
                                    "average_rating": "NULL",
                                    "books_count": "NULL",
                                    "user_id": "24",
                                    "book_id": "421"
                                },
                                {
                                    "title": "NULL",
                                    "average_rating": "NULL",
                                    "books_count": "NULL",
                                    "user_id": "24",
                                    "book_id": "467"
                                },
                                {
                                    "title": "NULL",
                                    "average_rating": "NULL",
                                    "books_count": "NULL",
                                    "user_id": "24",
                                    "book_id": "974"
                                },
                                {
                                    "title": "NULL",
                                    "average_rating": "NULL",
                                    "books_count": "NULL",
                                    "user_id": "26",
                                    "book_id": "508"
                                },
                                {
                                    "title": "NULL",
                                    "average_rating": "NULL",
                                    "books_count": "NULL",
                                    "user_id": "26",
                                    "book_id": "1796"
                                },
                                {
                                    "title": "NULL",
                                    "average_rating": "NULL",
                                    "books_count": "NULL",
                                    "user_id": "26",
                                    "book_id": "2257"
                                },
                                {
                                    "title": "NULL",
                                    "average_rating": "NULL",
                                    "books_count": "NULL",
                                    "user_id": "26",
                                    "book_id": "2314"
                                },
                                {
                                    "title": "NULL",
                                    "average_rating": "NULL",
                                    "books_count": "NULL",
                                    "user_id": "26",
                                    "book_id": "2357"
                                },
                                {
                                    "title": "NULL",
                                    "average_rating": "NULL",
                                    "books_count": "NULL",
                                    "user_id": "26",
                                    "book_id": "2738"
                                },
                                {
                                    "title": "NULL",
                                    "average_rating": "NULL",
                                    "books_count": "NULL",
                                    "user_id": "26",
                                    "book_id": "2810"
                                },
                                {
                                    "title": "NULL",
                                    "average_rating": "NULL",
                                    "books_count": "NULL",
                                    "user_id": "26",
                                    "book_id": "3207"
                                },
                                {
                                    "title": "The Thorn Birds",
                                    "average_rating": "4.22",
                                    "books_count": "201",
                                    "user_id": "26",
                                    "book_id": "3412"
                                },
                                {
                                    "title": "The Complete Sherlock Holmes, Vol 2",
                                    "average_rating": "4.46",
                                    "books_count": "117",
                                    "user_id": "26",
                                    "book_id": "3586"
                                },
                                {
                                    "title": "The Dark Tower (The Dark Tower, #7)",
                                    "average_rating": "4.27",
                                    "books_count": "105",
                                    "user_id": "26",
                                    "book_id": "5091"
                                },
                                {
                                    "title": "NULL",
                                    "average_rating": "NULL",
                                    "books_count": "NULL",
                                    "user_id": "26",
                                    "book_id": "5550"
                                },
                                {
                                    "title": "NULL",
                                    "average_rating": "NULL",
                                    "books_count": "NULL",
                                    "user_id": "26",
                                    "book_id": "6877"
                                },
                                {
                                    "title": "NULL",
                                    "average_rating": "NULL",
                                    "books_count": "NULL",
                                    "user_id": "26",
                                    "book_id": "7970"
                                },
                                {
                                    "title": "NULL",
                                    "average_rating": "NULL",
                                    "books_count": "NULL",
                                    "user_id": "28",
                                    "book_id": "265"
                                },
                                {
                                    "title": "NULL",
                                    "average_rating": "NULL",
                                    "books_count": "NULL",
                                    "user_id": "28",
                                    "book_id": "587"
                                },
                                {
                                    "title": "NULL",
                                    "average_rating": "NULL",
                                    "books_count": "NULL",
                                    "user_id": "28",
                                    "book_id": "3543"
                                },
                                {
                                    "title": "NULL",
                                    "average_rating": "NULL",
                                    "books_count": "NULL",
                                    "user_id": "28",
                                    "book_id": "5215"
                                },
                                {
                                    "title": "NULL",
                                    "average_rating": "NULL",
                                    "books_count": "NULL",
                                    "user_id": "28",
                                    "book_id": "7496"
                                },
                                {
                                    "title": "NULL",
                                    "average_rating": "NULL",
                                    "books_count": "NULL",
                                    "user_id": "28",
                                    "book_id": "8654"
                                },
                                {
                                    "title": "NULL",
                                    "average_rating": "NULL",
                                    "books_count": "NULL",
                                    "user_id": "29",
                                    "book_id": "31"
                                },
                                {
                                    "title": "NULL",
                                    "average_rating": "NULL",
                                    "books_count": "NULL",
                                    "user_id": "29",
                                    "book_id": "32"
                                },
                                {
                                    "title": "The Lord of the Rings: Weapons and Warfare",
                                    "average_rating": "4.53",
                                    "books_count": "12",
                                    "user_id": "29",
                                    "book_id": "36"
                                },
                                {
                                    "title": "NULL",
                                    "average_rating": "NULL",
                                    "books_count": "NULL",
                                    "user_id": "29",
                                    "book_id": "45"
                                },
                                {
                                    "title": "NULL",
                                    "average_rating": "NULL",
                                    "books_count": "NULL",
                                    "user_id": "29",
                                    "book_id": "65"
                                },
                                {
                                    "title": "NULL",
                                    "average_rating": "NULL",
                                    "books_count": "NULL",
                                    "user_id": "29",
                                    "book_id": "87"
                                },
                                {
                                    "title": "NULL",
                                    "average_rating": "NULL",
                                    "books_count": "NULL",
                                    "user_id": "29",
                                    "book_id": "115"
                                },
                                {
                                    "title": "NULL",
                                    "average_rating": "NULL",
                                    "books_count": "NULL",
                                    "user_id": "29",
                                    "book_id": "121"
                                },
                                {
                                    "title": "NULL",
                                    "average_rating": "NULL",
                                    "books_count": "NULL",
                                    "user_id": "29",
                                    "book_id": "131"
                                },
                                {
                                    "title": "NULL",
                                    "average_rating": "NULL",
                                    "books_count": "NULL",
                                    "user_id": "29",
                                    "book_id": "178"
                                },
                                {
                                    "title": "NULL",
                                    "average_rating": "NULL",
                                    "books_count": "NULL",
                                    "user_id": "29",
                                    "book_id": "256"
                                },
                                {
                                    "title": "NULL",
                                    "average_rating": "NULL",
                                    "books_count": "NULL",
                                    "user_id": "29",
                                    "book_id": "323"
                                },
                                {
                                    "title": "Slouching Towards Bethlehem",
                                    "average_rating": "4.24",
                                    "books_count": "34",
                                    "user_id": "29",
                                    "book_id": "424"
                                },
                                {
                                    "title": "NULL",
                                    "average_rating": "NULL",
                                    "books_count": "NULL",
                                    "user_id": "29",
                                    "book_id": "467"
                                },
                                {
                                    "title": "NULL",
                                    "average_rating": "NULL",
                                    "books_count": "NULL",
                                    "user_id": "29",
                                    "book_id": "550"
                                },
                                {
                                    "title": "NULL",
                                    "average_rating": "NULL",
                                    "books_count": "NULL",
                                    "user_id": "29",
                                    "book_id": "618"
                                },
                                {
                                    "title": "Atlas Shrugged",
                                    "average_rating": "3.68",
                                    "books_count": "147",
                                    "user_id": "29",
                                    "book_id": "662"
                                },
                                {
                                    "title": "NULL",
                                    "average_rating": "NULL",
                                    "books_count": "NULL",
                                    "user_id": "29",
                                    "book_id": "709"
                                },
                                {
                                    "title": "NULL",
                                    "average_rating": "NULL",
                                    "books_count": "NULL",
                                    "user_id": "29",
                                    "book_id": "730"
                                },
                                {
                                    "title": "NULL",
                                    "average_rating": "NULL",
                                    "books_count": "NULL",
                                    "user_id": "29",
                                    "book_id": "771"
                                },
                                {
                                    "title": "NULL",
                                    "average_rating": "NULL",
                                    "books_count": "NULL",
                                    "user_id": "29",
                                    "book_id": "809"
                                },
                                {
                                    "title": "NULL",
                                    "average_rating": "NULL",
                                    "books_count": "NULL",
                                    "user_id": "29",
                                    "book_id": "934"
                                },
                                {
                                    "title": "NULL",
                                    "average_rating": "NULL",
                                    "books_count": "NULL",
                                    "user_id": "29",
                                    "book_id": "1084"
                                },
                                {
                                    "title": "NULL",
                                    "average_rating": "NULL",
                                    "books_count": "NULL",
                                    "user_id": "29",
                                    "book_id": "1364"
                                },
                                {
                                    "title": "NULL",
                                    "average_rating": "NULL",
                                    "books_count": "NULL",
                                    "user_id": "29",
                                    "book_id": "1642"
                                },
                                {
                                    "title": "NULL",
                                    "average_rating": "NULL",
                                    "books_count": "NULL",
                                    "user_id": "29",
                                    "book_id": "1695"
                                },
                                {
                                    "title": "NULL",
                                    "average_rating": "NULL",
                                    "books_count": "NULL",
                                    "user_id": "29",
                                    "book_id": "2259"
                                },
                                {
                                    "title": "NULL",
                                    "average_rating": "NULL",
                                    "books_count": "NULL",
                                    "user_id": "29",
                                    "book_id": "2284"
                                },
                                {
                                    "title": "NULL",
                                    "average_rating": "NULL",
                                    "books_count": "NULL",
                                    "user_id": "29",
                                    "book_id": "2304"
                                },
                                {
                                    "title": "NULL",
                                    "average_rating": "NULL",
                                    "books_count": "NULL",
                                    "user_id": "29",
                                    "book_id": "2967"
                                },
                                {
                                    "title": "NULL",
                                    "average_rating": "NULL",
                                    "books_count": "NULL",
                                    "user_id": "29",
                                    "book_id": "3508"
                                },
                                {
                                    "title": "NULL",
                                    "average_rating": "NULL",
                                    "books_count": "NULL",
                                    "user_id": "29",
                                    "book_id": "4359"
                                },
                                {
                                    "title": "NULL",
                                    "average_rating": "NULL",
                                    "books_count": "NULL",
                                    "user_id": "29",
                                    "book_id": "4394"
                                },
                                {
                                    "title": "NULL",
                                    "average_rating": "NULL",
                                    "books_count": "NULL",
                                    "user_id": "29",
                                    "book_id": "4475"
                                },
                                {
                                    "title": "NULL",
                                    "average_rating": "NULL",
                                    "books_count": "NULL",
                                    "user_id": "29",
                                    "book_id": "4629"
                                },
                                {
                                    "title": "NULL",
                                    "average_rating": "NULL",
                                    "books_count": "NULL",
                                    "user_id": "29",
                                    "book_id": "5090"
                                },
                                {
                                    "title": "NULL",
                                    "average_rating": "NULL",
                                    "books_count": "NULL",
                                    "user_id": "29",
                                    "book_id": "5596"
                                },
                                {
                                    "title": "NULL",
                                    "average_rating": "NULL",
                                    "books_count": "NULL",
                                    "user_id": "29",
                                    "book_id": "5851"
                                },
                                {
                                    "title": "NULL",
                                    "average_rating": "NULL",
                                    "books_count": "NULL",
                                    "user_id": "29",
                                    "book_id": "6104"
                                },
                                {
                                    "title": "NULL",
                                    "average_rating": "NULL",
                                    "books_count": "NULL",
                                    "user_id": "30",
                                    "book_id": "47"
                                },
                                {
                                    "title": "The Known World",
                                    "average_rating": "3.82",
                                    "books_count": "42",
                                    "user_id": "30",
                                    "book_id": "67"
                                },
                                {
                                    "title": "NULL",
                                    "average_rating": "NULL",
                                    "books_count": "NULL",
                                    "user_id": "30",
                                    "book_id": "82"
                                },
                                {
                                    "title": "NULL",
                                    "average_rating": "NULL",
                                    "books_count": "NULL",
                                    "user_id": "30",
                                    "book_id": "121"
                                },
                                {
                                    "title": "NULL",
                                    "average_rating": "NULL",
                                    "books_count": "NULL",
                                    "user_id": "30",
                                    "book_id": "177"
                                },
                                {
                                    "title": "Tropic of Cancer",
                                    "average_rating": "3.71",
                                    "books_count": "205",
                                    "user_id": "30",
                                    "book_id": "249"
                                },
                                {
                                    "title": "NULL",
                                    "average_rating": "NULL",
                                    "books_count": "NULL",
                                    "user_id": "30",
                                    "book_id": "297"
                                },
                                {
                                    "title": "NULL",
                                    "average_rating": "NULL",
                                    "books_count": "NULL",
                                    "user_id": "30",
                                    "book_id": "407"
                                },
                                {
                                    "title": "NULL",
                                    "average_rating": "NULL",
                                    "books_count": "NULL",
                                    "user_id": "30",
                                    "book_id": "426"
                                },
                                {
                                    "title": "NULL",
                                    "average_rating": "NULL",
                                    "books_count": "NULL",
                                    "user_id": "30",
                                    "book_id": "430"
                                },
                                {
                                    "title": "NULL",
                                    "average_rating": "NULL",
                                    "books_count": "NULL",
                                    "user_id": "30",
                                    "book_id": "442"
                                },
                                {
                                    "title": "NULL",
                                    "average_rating": "NULL",
                                    "books_count": "NULL",
                                    "user_id": "30",
                                    "book_id": "516"
                                },
                                {
                                    "title": "NULL",
                                    "average_rating": "NULL",
                                    "books_count": "NULL",
                                    "user_id": "30",
                                    "book_id": "658"
                                },
                                {
                                    "title": "NULL",
                                    "average_rating": "NULL",
                                    "books_count": "NULL",
                                    "user_id": "30",
                                    "book_id": "895"
                                },
                                {
                                    "title": "NULL",
                                    "average_rating": "NULL",
                                    "books_count": "NULL",
                                    "user_id": "30",
                                    "book_id": "1039"
                                },
                                {
                                    "title": "NULL",
                                    "average_rating": "NULL",
                                    "books_count": "NULL",
                                    "user_id": "30",
                                    "book_id": "1094"
                                },
                                {
                                    "title": "The Odyssey",
                                    "average_rating": "3.73",
                                    "books_count": "1703",
                                    "user_id": "30",
                                    "book_id": "1381"
                                },
                                {
                                    "title": "NULL",
                                    "average_rating": "NULL",
                                    "books_count": "NULL",
                                    "user_id": "30",
                                    "book_id": "2117"
                                },
                                {
                                    "title": "NULL",
                                    "average_rating": "NULL",
                                    "books_count": "NULL",
                                    "user_id": "30",
                                    "book_id": "2426"
                                },
                                {
                                    "title": "NULL",
                                    "average_rating": "NULL",
                                    "books_count": "NULL",
                                    "user_id": "30",
                                    "book_id": "3444"
                                },
                                {
                                    "title": "The Pilgrimage",
                                    "average_rating": "3.64",
                                    "books_count": "171",
                                    "user_id": "30",
                                    "book_id": "4004"
                                },
                                {
                                    "title": "NULL",
                                    "average_rating": "NULL",
                                    "books_count": "NULL",
                                    "user_id": "30",
                                    "book_id": "4202"
                                },
                                {
                                    "title": "NULL",
                                    "average_rating": "NULL",
                                    "books_count": "NULL",
                                    "user_id": "30",
                                    "book_id": "4509"
                                },
                                {
                                    "title": "NULL",
                                    "average_rating": "NULL",
                                    "books_count": "NULL",
                                    "user_id": "30",
                                    "book_id": "5880"
                                },
                                {
                                    "title": "The Hobbit",
                                    "average_rating": "4.25",
                                    "books_count": "969",
                                    "user_id": "30",
                                    "book_id": "5907"
                                },
                                {
                                    "title": "NULL",
                                    "average_rating": "NULL",
                                    "books_count": "NULL",
                                    "user_id": "30",
                                    "book_id": "6828"
                                },
                                {
                                    "title": "NULL",
                                    "average_rating": "NULL",
                                    "books_count": "NULL",
                                    "user_id": "30",
                                    "book_id": "7563"
                                },
                                {
                                    "title": "NULL",
                                    "average_rating": "NULL",
                                    "books_count": "NULL",
                                    "user_id": "30",
                                    "book_id": "8737"
                                },
                                {
                                    "title": "NULL",
                                    "average_rating": "NULL",
                                    "books_count": "NULL",
                                    "user_id": "31",
                                    "book_id": "94"
                                },
                                {
                                    "title": "NULL",
                                    "average_rating": "NULL",
                                    "books_count": "NULL",
                                    "user_id": "31",
                                    "book_id": "584"
                                }
                            ]
                        },
                        "text/html": "<table><tr><th>title</th><th>average_rating</th><th>books_count</th><th>user_id</th><th>book_id</th></tr><tr><td>Children of Dune (Dune Chronicles #3)</td><td>3.9</td><td>116</td><td>1</td><td>112</td></tr><tr><td>NULL</td><td>NULL</td><td>NULL</td><td>1</td><td>235</td></tr><tr><td>NULL</td><td>NULL</td><td>NULL</td><td>1</td><td>533</td></tr><tr><td>NULL</td><td>NULL</td><td>NULL</td><td>1</td><td>1198</td></tr><tr><td>NULL</td><td>NULL</td><td>NULL</td><td>1</td><td>1874</td></tr><tr><td>NULL</td><td>NULL</td><td>NULL</td><td>1</td><td>2058</td></tr><tr><td>NULL</td><td>NULL</td><td>NULL</td><td>1</td><td>3334</td></tr><tr><td>NULL</td><td>NULL</td><td>NULL</td><td>2</td><td>4</td></tr><tr><td>NULL</td><td>NULL</td><td>NULL</td><td>2</td><td>11</td></tr><tr><td>The Ultimate Hitchhiker's Guide to the Galaxy</td><td>4.37</td><td>32</td><td>2</td><td>13</td></tr><tr><td>NULL</td><td>NULL</td><td>NULL</td><td>2</td><td>16</td></tr><tr><td>NULL</td><td>NULL</td><td>NULL</td><td>2</td><td>92</td></tr><tr><td>Dune Messiah (Dune Chronicles #2)</td><td>3.86</td><td>140</td><td>2</td><td>106</td></tr><tr><td>NULL</td><td>NULL</td><td>NULL</td><td>2</td><td>113</td></tr><tr><td>NULL</td><td>NULL</td><td>NULL</td><td>2</td><td>233</td></tr><tr><td>NULL</td><td>NULL</td><td>NULL</td><td>2</td><td>247</td></tr><tr><td>NULL</td><td>NULL</td><td>NULL</td><td>2</td><td>380</td></tr><tr><td>NULL</td><td>NULL</td><td>NULL</td><td>2</td><td>408</td></tr><tr><td>NULL</td><td>NULL</td><td>NULL</td><td>2</td><td>439</td></tr><tr><td>NULL</td><td>NULL</td><td>NULL</td><td>2</td><td>479</td></tr><tr><td>NULL</td><td>NULL</td><td>NULL</td><td>2</td><td>516</td></tr><tr><td>NULL</td><td>NULL</td><td>NULL</td><td>2</td><td>619</td></tr><tr><td>NULL</td><td>NULL</td><td>NULL</td><td>2</td><td>1069</td></tr><tr><td>The Iliad</td><td>3.83</td><td>1726</td><td>2</td><td>1371</td></tr><tr><td>NULL</td><td>NULL</td><td>NULL</td><td>2</td><td>1384</td></tr><tr><td>NULL</td><td>NULL</td><td>NULL</td><td>2</td><td>1597</td></tr><tr><td>NULL</td><td>NULL</td><td>NULL</td><td>2</td><td>1926</td></tr><tr><td>NULL</td><td>NULL</td><td>NULL</td><td>2</td><td>1967</td></tr><tr><td>NULL</td><td>NULL</td><td>NULL</td><td>2</td><td>1969</td></tr><tr><td>NULL</td><td>NULL</td><td>NULL</td><td>2</td><td>2220</td></tr><tr><td>NULL</td><td>NULL</td><td>NULL</td><td>2</td><td>2388</td></tr><tr><td>NULL</td><td>NULL</td><td>NULL</td><td>2</td><td>3222</td></tr><tr><td>NULL</td><td>NULL</td><td>NULL</td><td>2</td><td>3227</td></tr><tr><td>NULL</td><td>NULL</td><td>NULL</td><td>2</td><td>3733</td></tr><tr><td>NULL</td><td>NULL</td><td>NULL</td><td>2</td><td>5418</td></tr><tr><td>NULL</td><td>NULL</td><td>NULL</td><td>2</td><td>6937</td></tr><tr><td>NULL</td><td>NULL</td><td>NULL</td><td>2</td><td>7146</td></tr><tr><td>NULL</td><td>NULL</td><td>NULL</td><td>2</td><td>7873</td></tr><tr><td>NULL</td><td>NULL</td><td>NULL</td><td>2</td><td>8417</td></tr><tr><td>Harry Potter Collection (Harry Potter, #1-6)</td><td>4.73</td><td>6</td><td>3</td><td>10</td></tr><tr><td>NULL</td><td>NULL</td><td>NULL</td><td>3</td><td>66</td></tr><tr><td>NULL</td><td>NULL</td><td>NULL</td><td>3</td><td>233</td></tr><tr><td>NULL</td><td>NULL</td><td>NULL</td><td>3</td><td>726</td></tr><tr><td>NULL</td><td>NULL</td><td>NULL</td><td>3</td><td>932</td></tr><tr><td>NULL</td><td>NULL</td><td>NULL</td><td>3</td><td>1146</td></tr><tr><td>NULL</td><td>NULL</td><td>NULL</td><td>3</td><td>2439</td></tr><tr><td>NULL</td><td>NULL</td><td>NULL</td><td>3</td><td>3566</td></tr><tr><td>NULL</td><td>NULL</td><td>NULL</td><td>3</td><td>4582</td></tr><tr><td>NULL</td><td>NULL</td><td>NULL</td><td>3</td><td>5448</td></tr><tr><td>NULL</td><td>NULL</td><td>NULL</td><td>3</td><td>5765</td></tr><tr><td>NULL</td><td>NULL</td><td>NULL</td><td>3</td><td>6274</td></tr><tr><td>NULL</td><td>NULL</td><td>NULL</td><td>3</td><td>8403</td></tr><tr><td>NULL</td><td>NULL</td><td>NULL</td><td>5</td><td>31</td></tr><tr><td>The Virtue of Selfishness: A New Concept of Egoism</td><td>3.47</td><td>53</td><td>5</td><td>665</td></tr><tr><td>NULL</td><td>NULL</td><td>NULL</td><td>5</td><td>3074</td></tr><tr><td>Sherlock Holmes: The Complete Novels and Stories, Volume I</td><td>4.45</td><td>13</td><td>5</td><td>3581</td></tr><tr><td>NULL</td><td>NULL</td><td>NULL</td><td>6</td><td>64</td></tr><tr><td>NULL</td><td>NULL</td><td>NULL</td><td>6</td><td>459</td></tr><tr><td>NULL</td><td>NULL</td><td>NULL</td><td>6</td><td>619</td></tr><tr><td>NULL</td><td>NULL</td><td>NULL</td><td>6</td><td>649</td></tr><tr><td>NULL</td><td>NULL</td><td>NULL</td><td>6</td><td>687</td></tr><tr><td>NULL</td><td>NULL</td><td>NULL</td><td>6</td><td>874</td></tr><tr><td>The War of Art: Break Through the Blocks &amp; Win Your Inner Creative Battles</td><td>4.07</td><td>29</td><td>6</td><td>1319</td></tr><tr><td>NULL</td><td>NULL</td><td>NULL</td><td>6</td><td>1912</td></tr><tr><td>NULL</td><td>NULL</td><td>NULL</td><td>6</td><td>5269</td></tr><tr><td>NULL</td><td>NULL</td><td>NULL</td><td>6</td><td>5537</td></tr><tr><td>NULL</td><td>NULL</td><td>NULL</td><td>6</td><td>5820</td></tr><tr><td>NULL</td><td>NULL</td><td>NULL</td><td>6</td><td>6220</td></tr><tr><td>NULL</td><td>NULL</td><td>NULL</td><td>6</td><td>7480</td></tr><tr><td>Harry Potter Collection (Harry Potter, #1-6)</td><td>4.73</td><td>6</td><td>7</td><td>10</td></tr><tr><td>NULL</td><td>NULL</td><td>NULL</td><td>7</td><td>215</td></tr><tr><td>NULL</td><td>NULL</td><td>NULL</td><td>7</td><td>225</td></tr><tr><td>NULL</td><td>NULL</td><td>NULL</td><td>7</td><td>233</td></tr><tr><td>NULL</td><td>NULL</td><td>NULL</td><td>7</td><td>1322</td></tr><tr><td>NULL</td><td>NULL</td><td>NULL</td><td>7</td><td>3552</td></tr><tr><td>NULL</td><td>NULL</td><td>NULL</td><td>7</td><td>3720</td></tr><tr><td>NULL</td><td>NULL</td><td>NULL</td><td>7</td><td>4468</td></tr><tr><td>NULL</td><td>NULL</td><td>NULL</td><td>8</td><td>19</td></tr><tr><td>NULL</td><td>NULL</td><td>NULL</td><td>8</td><td>498</td></tr><tr><td>NULL</td><td>NULL</td><td>NULL</td><td>8</td><td>1357</td></tr><tr><td>NULL</td><td>NULL</td><td>NULL</td><td>8</td><td>2177</td></tr><tr><td>NULL</td><td>NULL</td><td>NULL</td><td>8</td><td>3930</td></tr><tr><td>The Pilgrimage</td><td>3.64</td><td>171</td><td>8</td><td>4004</td></tr><tr><td>NULL</td><td>NULL</td><td>NULL</td><td>8</td><td>8792</td></tr><tr><td>NULL</td><td>NULL</td><td>NULL</td><td>8</td><td>9304</td></tr><tr><td>Harry Potter Boxed Set, Books 1-5 (Harry Potter, #1-5)</td><td>4.77</td><td>11</td><td>9</td><td>8</td></tr><tr><td>Children of Dune (Dune Chronicles #3)</td><td>3.9</td><td>116</td><td>9</td><td>112</td></tr><tr><td>NULL</td><td>NULL</td><td>NULL</td><td>9</td><td>139</td></tr><tr><td>NULL</td><td>NULL</td><td>NULL</td><td>9</td><td>230</td></tr><tr><td>NULL</td><td>NULL</td><td>NULL</td><td>9</td><td>233</td></tr><tr><td>NULL</td><td>NULL</td><td>NULL</td><td>9</td><td>473</td></tr><tr><td>NULL</td><td>NULL</td><td>NULL</td><td>9</td><td>638</td></tr><tr><td>NULL</td><td>NULL</td><td>NULL</td><td>9</td><td>653</td></tr><tr><td>NULL</td><td>NULL</td><td>NULL</td><td>9</td><td>672</td></tr><tr><td>NULL</td><td>NULL</td><td>NULL</td><td>9</td><td>701</td></tr><tr><td>NULL</td><td>NULL</td><td>NULL</td><td>9</td><td>736</td></tr><tr><td>NULL</td><td>NULL</td><td>NULL</td><td>9</td><td>883</td></tr><tr><td>NULL</td><td>NULL</td><td>NULL</td><td>9</td><td>895</td></tr><tr><td>NULL</td><td>NULL</td><td>NULL</td><td>9</td><td>1467</td></tr><tr><td>NULL</td><td>NULL</td><td>NULL</td><td>9</td><td>1582</td></tr><tr><td>NULL</td><td>NULL</td><td>NULL</td><td>9</td><td>1873</td></tr><tr><td>NULL</td><td>NULL</td><td>NULL</td><td>9</td><td>2516</td></tr><tr><td>NULL</td><td>NULL</td><td>NULL</td><td>9</td><td>2630</td></tr><tr><td>NULL</td><td>NULL</td><td>NULL</td><td>9</td><td>3210</td></tr><tr><td>Icy Sparks</td><td>3.68</td><td>27</td><td>9</td><td>3476</td></tr><tr><td>NULL</td><td>NULL</td><td>NULL</td><td>9</td><td>3560</td></tr><tr><td>NULL</td><td>NULL</td><td>NULL</td><td>9</td><td>3650</td></tr><tr><td>NULL</td><td>NULL</td><td>NULL</td><td>9</td><td>5286</td></tr><tr><td>NULL</td><td>NULL</td><td>NULL</td><td>9</td><td>6636</td></tr><tr><td>Harry Potter and the Goblet of Fire (Harry Potter, #4)</td><td>4.53</td><td>332</td><td>10</td><td>6</td></tr><tr><td>NULL</td><td>NULL</td><td>NULL</td><td>10</td><td>385</td></tr><tr><td>Atlas Shrugged</td><td>3.68</td><td>147</td><td>10</td><td>662</td></tr><tr><td>NULL</td><td>NULL</td><td>NULL</td><td>10</td><td>896</td></tr><tr><td>NULL</td><td>NULL</td><td>NULL</td><td>10</td><td>1076</td></tr><tr><td>NULL</td><td>NULL</td><td>NULL</td><td>10</td><td>1082</td></tr><tr><td>NULL</td><td>NULL</td><td>NULL</td><td>10</td><td>1220</td></tr><tr><td>NULL</td><td>NULL</td><td>NULL</td><td>10</td><td>1281</td></tr><tr><td>NULL</td><td>NULL</td><td>NULL</td><td>10</td><td>1439</td></tr><tr><td>NULL</td><td>NULL</td><td>NULL</td><td>10</td><td>1851</td></tr><tr><td>NULL</td><td>NULL</td><td>NULL</td><td>10</td><td>1920</td></tr><tr><td>NULL</td><td>NULL</td><td>NULL</td><td>10</td><td>2441</td></tr><tr><td>NULL</td><td>NULL</td><td>NULL</td><td>10</td><td>2570</td></tr><tr><td>NULL</td><td>NULL</td><td>NULL</td><td>10</td><td>2616</td></tr><tr><td>NULL</td><td>NULL</td><td>NULL</td><td>10</td><td>3059</td></tr><tr><td>NULL</td><td>NULL</td><td>NULL</td><td>10</td><td>3545</td></tr><tr><td>NULL</td><td>NULL</td><td>NULL</td><td>10</td><td>3961</td></tr><tr><td>NULL</td><td>NULL</td><td>NULL</td><td>10</td><td>4369</td></tr><tr><td>NULL</td><td>NULL</td><td>NULL</td><td>10</td><td>4510</td></tr><tr><td>NULL</td><td>NULL</td><td>NULL</td><td>10</td><td>5104</td></tr><tr><td>NULL</td><td>NULL</td><td>NULL</td><td>10</td><td>5254</td></tr><tr><td>NULL</td><td>NULL</td><td>NULL</td><td>10</td><td>5556</td></tr><tr><td>NULL</td><td>NULL</td><td>NULL</td><td>10</td><td>6114</td></tr><tr><td>NULL</td><td>NULL</td><td>NULL</td><td>10</td><td>6917</td></tr><tr><td>NULL</td><td>NULL</td><td>NULL</td><td>10</td><td>7545</td></tr><tr><td>NULL</td><td>NULL</td><td>NULL</td><td>10</td><td>7842</td></tr><tr><td>NULL</td><td>NULL</td><td>NULL</td><td>11</td><td>3643</td></tr><tr><td>Harry Potter and the Half-Blood Prince (Harry Potter, #6)</td><td>4.54</td><td>275</td><td>12</td><td>1</td></tr><tr><td>NULL</td><td>NULL</td><td>NULL</td><td>12</td><td>124</td></tr><tr><td>NULL</td><td>NULL</td><td>NULL</td><td>12</td><td>1471</td></tr><tr><td>NULL</td><td>NULL</td><td>NULL</td><td>12</td><td>2893</td></tr><tr><td>NULL</td><td>NULL</td><td>NULL</td><td>13</td><td>81</td></tr><tr><td>NULL</td><td>NULL</td><td>NULL</td><td>13</td><td>277</td></tr><tr><td>NULL</td><td>NULL</td><td>NULL</td><td>13</td><td>318</td></tr><tr><td>NULL</td><td>NULL</td><td>NULL</td><td>13</td><td>430</td></tr><tr><td>NULL</td><td>NULL</td><td>NULL</td><td>13</td><td>437</td></tr><tr><td>NULL</td><td>NULL</td><td>NULL</td><td>13</td><td>551</td></tr><tr><td>NULL</td><td>NULL</td><td>NULL</td><td>13</td><td>560</td></tr><tr><td>NULL</td><td>NULL</td><td>NULL</td><td>13</td><td>610</td></tr><tr><td>NULL</td><td>NULL</td><td>NULL</td><td>13</td><td>678</td></tr><tr><td>NULL</td><td>NULL</td><td>NULL</td><td>13</td><td>979</td></tr><tr><td>NULL</td><td>NULL</td><td>NULL</td><td>13</td><td>1082</td></tr><tr><td>NULL</td><td>NULL</td><td>NULL</td><td>13</td><td>1464</td></tr><tr><td>NULL</td><td>NULL</td><td>NULL</td><td>13</td><td>1577</td></tr><tr><td>NULL</td><td>NULL</td><td>NULL</td><td>13</td><td>2018</td></tr><tr><td>NULL</td><td>NULL</td><td>NULL</td><td>13</td><td>2418</td></tr><tr><td>NULL</td><td>NULL</td><td>NULL</td><td>13</td><td>3257</td></tr><tr><td>NULL</td><td>NULL</td><td>NULL</td><td>13</td><td>4212</td></tr><tr><td>NULL</td><td>NULL</td><td>NULL</td><td>13</td><td>4635</td></tr><tr><td>NULL</td><td>NULL</td><td>NULL</td><td>13</td><td>4704</td></tr><tr><td>NULL</td><td>NULL</td><td>NULL</td><td>13</td><td>4734</td></tr><tr><td>NULL</td><td>NULL</td><td>NULL</td><td>13</td><td>4841</td></tr><tr><td>NULL</td><td>NULL</td><td>NULL</td><td>13</td><td>4848</td></tr><tr><td>NULL</td><td>NULL</td><td>NULL</td><td>13</td><td>4856</td></tr><tr><td>NULL</td><td>NULL</td><td>NULL</td><td>13</td><td>4928</td></tr><tr><td>NULL</td><td>NULL</td><td>NULL</td><td>13</td><td>6114</td></tr><tr><td>NULL</td><td>NULL</td><td>NULL</td><td>13</td><td>6793</td></tr><tr><td>NULL</td><td>NULL</td><td>NULL</td><td>13</td><td>6962</td></tr><tr><td>NULL</td><td>NULL</td><td>NULL</td><td>13</td><td>8717</td></tr><tr><td>NULL</td><td>NULL</td><td>NULL</td><td>14</td><td>493</td></tr><tr><td>NULL</td><td>NULL</td><td>NULL</td><td>14</td><td>1179</td></tr><tr><td>NULL</td><td>NULL</td><td>NULL</td><td>14</td><td>2693</td></tr><tr><td>Sherlock Holmes: The Complete Novels and Stories, Volume I</td><td>4.45</td><td>13</td><td>14</td><td>3581</td></tr><tr><td>NULL</td><td>NULL</td><td>NULL</td><td>14</td><td>3683</td></tr><tr><td>NULL</td><td>NULL</td><td>NULL</td><td>14</td><td>3953</td></tr><tr><td>NULL</td><td>NULL</td><td>NULL</td><td>14</td><td>4220</td></tr><tr><td>NULL</td><td>NULL</td><td>NULL</td><td>14</td><td>5076</td></tr><tr><td>NULL</td><td>NULL</td><td>NULL</td><td>14</td><td>5537</td></tr><tr><td>NULL</td><td>NULL</td><td>NULL</td><td>14</td><td>7777</td></tr><tr><td>NULL</td><td>NULL</td><td>NULL</td><td>15</td><td>191</td></tr><tr><td>The Lover</td><td>3.76</td><td>148</td><td>15</td><td>275</td></tr><tr><td>NULL</td><td>NULL</td><td>NULL</td><td>15</td><td>398</td></tr><tr><td>NULL</td><td>NULL</td><td>NULL</td><td>15</td><td>666</td></tr><tr><td>NULL</td><td>NULL</td><td>NULL</td><td>15</td><td>1491</td></tr><tr><td>NULL</td><td>NULL</td><td>NULL</td><td>15</td><td>5210</td></tr><tr><td>NULL</td><td>NULL</td><td>NULL</td><td>17</td><td>1344</td></tr><tr><td>The Good Soldier</td><td>3.72</td><td>362</td><td>20</td><td>7628</td></tr><tr><td>NULL</td><td>NULL</td><td>NULL</td><td>22</td><td>653</td></tr><tr><td>NULL</td><td>NULL</td><td>NULL</td><td>22</td><td>1403</td></tr><tr><td>NULL</td><td>NULL</td><td>NULL</td><td>22</td><td>1405</td></tr><tr><td>NULL</td><td>NULL</td><td>NULL</td><td>22</td><td>1645</td></tr><tr><td>NULL</td><td>NULL</td><td>NULL</td><td>22</td><td>2500</td></tr><tr><td>NULL</td><td>NULL</td><td>NULL</td><td>22</td><td>2691</td></tr><tr><td>NULL</td><td>NULL</td><td>NULL</td><td>22</td><td>4995</td></tr><tr><td>NULL</td><td>NULL</td><td>NULL</td><td>23</td><td>273</td></tr><tr><td>NULL</td><td>NULL</td><td>NULL</td><td>23</td><td>459</td></tr><tr><td>NULL</td><td>NULL</td><td>NULL</td><td>23</td><td>791</td></tr><tr><td>NULL</td><td>NULL</td><td>NULL</td><td>23</td><td>886</td></tr><tr><td>NULL</td><td>NULL</td><td>NULL</td><td>23</td><td>925</td></tr><tr><td>NULL</td><td>NULL</td><td>NULL</td><td>23</td><td>1198</td></tr><tr><td>NULL</td><td>NULL</td><td>NULL</td><td>23</td><td>1597</td></tr><tr><td>NULL</td><td>NULL</td><td>NULL</td><td>23</td><td>1688</td></tr><tr><td>NULL</td><td>NULL</td><td>NULL</td><td>23</td><td>2251</td></tr><tr><td>NULL</td><td>NULL</td><td>NULL</td><td>23</td><td>2350</td></tr><tr><td>NULL</td><td>NULL</td><td>NULL</td><td>23</td><td>2613</td></tr><tr><td>NULL</td><td>NULL</td><td>NULL</td><td>23</td><td>3312</td></tr><tr><td>NULL</td><td>NULL</td><td>NULL</td><td>23</td><td>3343</td></tr><tr><td>NULL</td><td>NULL</td><td>NULL</td><td>24</td><td>61</td></tr><tr><td>NULL</td><td>NULL</td><td>NULL</td><td>24</td><td>143</td></tr><tr><td>NULL</td><td>NULL</td><td>NULL</td><td>24</td><td>421</td></tr><tr><td>NULL</td><td>NULL</td><td>NULL</td><td>24</td><td>467</td></tr><tr><td>NULL</td><td>NULL</td><td>NULL</td><td>24</td><td>974</td></tr><tr><td>NULL</td><td>NULL</td><td>NULL</td><td>26</td><td>508</td></tr><tr><td>NULL</td><td>NULL</td><td>NULL</td><td>26</td><td>1796</td></tr><tr><td>NULL</td><td>NULL</td><td>NULL</td><td>26</td><td>2257</td></tr><tr><td>NULL</td><td>NULL</td><td>NULL</td><td>26</td><td>2314</td></tr><tr><td>NULL</td><td>NULL</td><td>NULL</td><td>26</td><td>2357</td></tr><tr><td>NULL</td><td>NULL</td><td>NULL</td><td>26</td><td>2738</td></tr><tr><td>NULL</td><td>NULL</td><td>NULL</td><td>26</td><td>2810</td></tr><tr><td>NULL</td><td>NULL</td><td>NULL</td><td>26</td><td>3207</td></tr><tr><td>The Thorn Birds</td><td>4.22</td><td>201</td><td>26</td><td>3412</td></tr><tr><td>The Complete Sherlock Holmes, Vol 2</td><td>4.46</td><td>117</td><td>26</td><td>3586</td></tr><tr><td>The Dark Tower (The Dark Tower, #7)</td><td>4.27</td><td>105</td><td>26</td><td>5091</td></tr><tr><td>NULL</td><td>NULL</td><td>NULL</td><td>26</td><td>5550</td></tr><tr><td>NULL</td><td>NULL</td><td>NULL</td><td>26</td><td>6877</td></tr><tr><td>NULL</td><td>NULL</td><td>NULL</td><td>26</td><td>7970</td></tr><tr><td>NULL</td><td>NULL</td><td>NULL</td><td>28</td><td>265</td></tr><tr><td>NULL</td><td>NULL</td><td>NULL</td><td>28</td><td>587</td></tr><tr><td>NULL</td><td>NULL</td><td>NULL</td><td>28</td><td>3543</td></tr><tr><td>NULL</td><td>NULL</td><td>NULL</td><td>28</td><td>5215</td></tr><tr><td>NULL</td><td>NULL</td><td>NULL</td><td>28</td><td>7496</td></tr><tr><td>NULL</td><td>NULL</td><td>NULL</td><td>28</td><td>8654</td></tr><tr><td>NULL</td><td>NULL</td><td>NULL</td><td>29</td><td>31</td></tr><tr><td>NULL</td><td>NULL</td><td>NULL</td><td>29</td><td>32</td></tr><tr><td>The Lord of the Rings: Weapons and Warfare</td><td>4.53</td><td>12</td><td>29</td><td>36</td></tr><tr><td>NULL</td><td>NULL</td><td>NULL</td><td>29</td><td>45</td></tr><tr><td>NULL</td><td>NULL</td><td>NULL</td><td>29</td><td>65</td></tr><tr><td>NULL</td><td>NULL</td><td>NULL</td><td>29</td><td>87</td></tr><tr><td>NULL</td><td>NULL</td><td>NULL</td><td>29</td><td>115</td></tr><tr><td>NULL</td><td>NULL</td><td>NULL</td><td>29</td><td>121</td></tr><tr><td>NULL</td><td>NULL</td><td>NULL</td><td>29</td><td>131</td></tr><tr><td>NULL</td><td>NULL</td><td>NULL</td><td>29</td><td>178</td></tr><tr><td>NULL</td><td>NULL</td><td>NULL</td><td>29</td><td>256</td></tr><tr><td>NULL</td><td>NULL</td><td>NULL</td><td>29</td><td>323</td></tr><tr><td>Slouching Towards Bethlehem</td><td>4.24</td><td>34</td><td>29</td><td>424</td></tr><tr><td>NULL</td><td>NULL</td><td>NULL</td><td>29</td><td>467</td></tr><tr><td>NULL</td><td>NULL</td><td>NULL</td><td>29</td><td>550</td></tr><tr><td>NULL</td><td>NULL</td><td>NULL</td><td>29</td><td>618</td></tr><tr><td>Atlas Shrugged</td><td>3.68</td><td>147</td><td>29</td><td>662</td></tr><tr><td>NULL</td><td>NULL</td><td>NULL</td><td>29</td><td>709</td></tr><tr><td>NULL</td><td>NULL</td><td>NULL</td><td>29</td><td>730</td></tr><tr><td>NULL</td><td>NULL</td><td>NULL</td><td>29</td><td>771</td></tr><tr><td>NULL</td><td>NULL</td><td>NULL</td><td>29</td><td>809</td></tr><tr><td>NULL</td><td>NULL</td><td>NULL</td><td>29</td><td>934</td></tr><tr><td>NULL</td><td>NULL</td><td>NULL</td><td>29</td><td>1084</td></tr><tr><td>NULL</td><td>NULL</td><td>NULL</td><td>29</td><td>1364</td></tr><tr><td>NULL</td><td>NULL</td><td>NULL</td><td>29</td><td>1642</td></tr><tr><td>NULL</td><td>NULL</td><td>NULL</td><td>29</td><td>1695</td></tr><tr><td>NULL</td><td>NULL</td><td>NULL</td><td>29</td><td>2259</td></tr><tr><td>NULL</td><td>NULL</td><td>NULL</td><td>29</td><td>2284</td></tr><tr><td>NULL</td><td>NULL</td><td>NULL</td><td>29</td><td>2304</td></tr><tr><td>NULL</td><td>NULL</td><td>NULL</td><td>29</td><td>2967</td></tr><tr><td>NULL</td><td>NULL</td><td>NULL</td><td>29</td><td>3508</td></tr><tr><td>NULL</td><td>NULL</td><td>NULL</td><td>29</td><td>4359</td></tr><tr><td>NULL</td><td>NULL</td><td>NULL</td><td>29</td><td>4394</td></tr><tr><td>NULL</td><td>NULL</td><td>NULL</td><td>29</td><td>4475</td></tr><tr><td>NULL</td><td>NULL</td><td>NULL</td><td>29</td><td>4629</td></tr><tr><td>NULL</td><td>NULL</td><td>NULL</td><td>29</td><td>5090</td></tr><tr><td>NULL</td><td>NULL</td><td>NULL</td><td>29</td><td>5596</td></tr><tr><td>NULL</td><td>NULL</td><td>NULL</td><td>29</td><td>5851</td></tr><tr><td>NULL</td><td>NULL</td><td>NULL</td><td>29</td><td>6104</td></tr><tr><td>NULL</td><td>NULL</td><td>NULL</td><td>30</td><td>47</td></tr><tr><td>The Known World</td><td>3.82</td><td>42</td><td>30</td><td>67</td></tr><tr><td>NULL</td><td>NULL</td><td>NULL</td><td>30</td><td>82</td></tr><tr><td>NULL</td><td>NULL</td><td>NULL</td><td>30</td><td>121</td></tr><tr><td>NULL</td><td>NULL</td><td>NULL</td><td>30</td><td>177</td></tr><tr><td>Tropic of Cancer</td><td>3.71</td><td>205</td><td>30</td><td>249</td></tr><tr><td>NULL</td><td>NULL</td><td>NULL</td><td>30</td><td>297</td></tr><tr><td>NULL</td><td>NULL</td><td>NULL</td><td>30</td><td>407</td></tr><tr><td>NULL</td><td>NULL</td><td>NULL</td><td>30</td><td>426</td></tr><tr><td>NULL</td><td>NULL</td><td>NULL</td><td>30</td><td>430</td></tr><tr><td>NULL</td><td>NULL</td><td>NULL</td><td>30</td><td>442</td></tr><tr><td>NULL</td><td>NULL</td><td>NULL</td><td>30</td><td>516</td></tr><tr><td>NULL</td><td>NULL</td><td>NULL</td><td>30</td><td>658</td></tr><tr><td>NULL</td><td>NULL</td><td>NULL</td><td>30</td><td>895</td></tr><tr><td>NULL</td><td>NULL</td><td>NULL</td><td>30</td><td>1039</td></tr><tr><td>NULL</td><td>NULL</td><td>NULL</td><td>30</td><td>1094</td></tr><tr><td>The Odyssey</td><td>3.73</td><td>1703</td><td>30</td><td>1381</td></tr><tr><td>NULL</td><td>NULL</td><td>NULL</td><td>30</td><td>2117</td></tr><tr><td>NULL</td><td>NULL</td><td>NULL</td><td>30</td><td>2426</td></tr><tr><td>NULL</td><td>NULL</td><td>NULL</td><td>30</td><td>3444</td></tr><tr><td>The Pilgrimage</td><td>3.64</td><td>171</td><td>30</td><td>4004</td></tr><tr><td>NULL</td><td>NULL</td><td>NULL</td><td>30</td><td>4202</td></tr><tr><td>NULL</td><td>NULL</td><td>NULL</td><td>30</td><td>4509</td></tr><tr><td>NULL</td><td>NULL</td><td>NULL</td><td>30</td><td>5880</td></tr><tr><td>The Hobbit</td><td>4.25</td><td>969</td><td>30</td><td>5907</td></tr><tr><td>NULL</td><td>NULL</td><td>NULL</td><td>30</td><td>6828</td></tr><tr><td>NULL</td><td>NULL</td><td>NULL</td><td>30</td><td>7563</td></tr><tr><td>NULL</td><td>NULL</td><td>NULL</td><td>30</td><td>8737</td></tr><tr><td>NULL</td><td>NULL</td><td>NULL</td><td>31</td><td>94</td></tr><tr><td>NULL</td><td>NULL</td><td>NULL</td><td>31</td><td>584</td></tr></table>"
                    },
                    "metadata": {}
                }
            ],
            "execution_count": 2
        },
        {
            "cell_type": "markdown",
            "source": [
                "## **QUESTION 3:** Exploring FULL JOINS with the **books** and **to\\_read** tables\n",
                "\n",
                "You will need to uncomment the Query to answer the question.\n",
                "\n",
                "**Part A:**  Look at the table and explore how it was populated.  Try manipulating the query to better understand how this table works.  Try adding a WHERE clause, or ORDER BY a column on the **books** table.  Based on your exploration, can you think of when you might want a FULL join rather than a LEFT, RIGHT, or INNER?\n",
                "\n",
                "> Your Answer:\n",
                "> \n",
                "> 1. A FULL join returns all the rows from both tables, including both the matching and non-matching rows. If there is no match in either table, the result will contain null values for the columns from the non-matching table. A full join is good for when you're looking for where your key doesn't meet up, in both tables. Or - identifying books that have ratings but are not in the \"to be read\" list or books that are in the \"to be read\" list but do not have ratings yet. These non-matching rows will have null values in the corresponding columns."
            ],
            "metadata": {
                "azdata_cell_guid": "8f6b8f22-3e5a-4b87-a2f2-07279f1deb94"
            },
            "attachments": {}
        },
        {
            "cell_type": "code",
            "source": [
                "-- FULL JOIN\n",
                "SELECT TOP 30 b.title, b.average_rating, b.books_count, tr.user_id, tr.book_id\n",
                "FROM BooksDB.dbo.books AS b\n",
                "FULL JOIN BooksDB.dbo.to_read AS tr\n",
                "ON b.book_id = tr.book_id\n",
                "WHERE b.average_rating > 4.7 and tr.book_id IS NULL or b.book_id IS NULL\n",
                "--this is a search of a full joined table with the books and the to_read tables\n",
                "--they are joined on the book_id \n",
                "--where is looking for books that have a rating above 4.7 and aren't on the to be read list\n",
                "--and looking for the to_read books that haven't been rated\n",
                "ORDER BY b.average_rating DESC;\n",
                "--it's ordered by highest averaging rating first\n",
                "\n",
                ""
            ],
            "metadata": {
                "azdata_cell_guid": "7c2a3dff-ef55-4222-aef0-7c0ab4f942eb",
                "tags": [],
                "language": "sql"
            },
            "outputs": [
                {
                    "output_type": "display_data",
                    "data": {
                        "text/html": "(30 rows affected)"
                    },
                    "metadata": {}
                },
                {
                    "output_type": "display_data",
                    "data": {
                        "text/html": "Total execution time: 00:00:02.566"
                    },
                    "metadata": {}
                },
                {
                    "output_type": "execute_result",
                    "metadata": {},
                    "execution_count": 1,
                    "data": {
                        "application/vnd.dataresource+json": {
                            "schema": {
                                "fields": [
                                    {
                                        "name": "title"
                                    },
                                    {
                                        "name": "average_rating"
                                    },
                                    {
                                        "name": "books_count"
                                    },
                                    {
                                        "name": "user_id"
                                    },
                                    {
                                        "name": "book_id"
                                    }
                                ]
                            },
                            "data": [
                                {
                                    "title": "The Complete Calvin and Hobbes",
                                    "average_rating": "4.82",
                                    "books_count": "14",
                                    "user_id": "NULL",
                                    "book_id": "NULL"
                                },
                                {
                                    "title": "Words of Radiance (The Stormlight Archive, #2)",
                                    "average_rating": "4.77",
                                    "books_count": "34",
                                    "user_id": "NULL",
                                    "book_id": "NULL"
                                },
                                {
                                    "title": "Mark of the Lion Trilogy",
                                    "average_rating": "4.76",
                                    "books_count": "6",
                                    "user_id": "NULL",
                                    "book_id": "NULL"
                                },
                                {
                                    "title": "ESV Study Bible",
                                    "average_rating": "4.76",
                                    "books_count": "96",
                                    "user_id": "NULL",
                                    "book_id": "NULL"
                                },
                                {
                                    "title": "It's a Magical World: A Calvin and Hobbes Collection",
                                    "average_rating": "4.75",
                                    "books_count": "21",
                                    "user_id": "NULL",
                                    "book_id": "NULL"
                                },
                                {
                                    "title": "There's Treasure Everywhere: A Calvin and Hobbes Collection",
                                    "average_rating": "4.74",
                                    "books_count": "22",
                                    "user_id": "NULL",
                                    "book_id": "NULL"
                                },
                                {
                                    "title": "Harry Potter Boxset (Harry Potter, #1-7)",
                                    "average_rating": "4.74",
                                    "books_count": "76",
                                    "user_id": "NULL",
                                    "book_id": "NULL"
                                },
                                {
                                    "title": "The Indispensable Calvin and Hobbes",
                                    "average_rating": "4.73",
                                    "books_count": "19",
                                    "user_id": "NULL",
                                    "book_id": "NULL"
                                },
                                {
                                    "title": "The Authoritative Calvin and Hobbes: A Calvin and Hobbes Treasury",
                                    "average_rating": "4.73",
                                    "books_count": "21",
                                    "user_id": "NULL",
                                    "book_id": "NULL"
                                },
                                {
                                    "title": "Attack of the Deranged Mutant Killer Monster Snow Goons",
                                    "average_rating": "4.72",
                                    "books_count": "24",
                                    "user_id": "NULL",
                                    "book_id": "NULL"
                                },
                                {
                                    "title": "A Court of Mist and Fury (A Court of Thorns and Roses, #2)",
                                    "average_rating": "4.72",
                                    "books_count": "39",
                                    "user_id": "NULL",
                                    "book_id": "NULL"
                                },
                                {
                                    "title": "Homicidal Psycho Jungle Cat: A Calvin and Hobbes Collection",
                                    "average_rating": "4.71",
                                    "books_count": "23",
                                    "user_id": "NULL",
                                    "book_id": "NULL"
                                },
                                {
                                    "title": "The Revenge of the Baby-Sat",
                                    "average_rating": "4.71",
                                    "books_count": "20",
                                    "user_id": "NULL",
                                    "book_id": "NULL"
                                },
                                {
                                    "title": "Preach My Gospel: A Guide To Missionary Service",
                                    "average_rating": "4.71",
                                    "books_count": "5",
                                    "user_id": "NULL",
                                    "book_id": "NULL"
                                },
                                {
                                    "title": "NULL",
                                    "average_rating": "NULL",
                                    "books_count": "NULL",
                                    "user_id": "1",
                                    "book_id": "235"
                                },
                                {
                                    "title": "NULL",
                                    "average_rating": "NULL",
                                    "books_count": "NULL",
                                    "user_id": "1",
                                    "book_id": "533"
                                },
                                {
                                    "title": "NULL",
                                    "average_rating": "NULL",
                                    "books_count": "NULL",
                                    "user_id": "1",
                                    "book_id": "1198"
                                },
                                {
                                    "title": "NULL",
                                    "average_rating": "NULL",
                                    "books_count": "NULL",
                                    "user_id": "1",
                                    "book_id": "1874"
                                },
                                {
                                    "title": "NULL",
                                    "average_rating": "NULL",
                                    "books_count": "NULL",
                                    "user_id": "1",
                                    "book_id": "2058"
                                },
                                {
                                    "title": "NULL",
                                    "average_rating": "NULL",
                                    "books_count": "NULL",
                                    "user_id": "1",
                                    "book_id": "3334"
                                },
                                {
                                    "title": "NULL",
                                    "average_rating": "NULL",
                                    "books_count": "NULL",
                                    "user_id": "2",
                                    "book_id": "4"
                                },
                                {
                                    "title": "NULL",
                                    "average_rating": "NULL",
                                    "books_count": "NULL",
                                    "user_id": "2",
                                    "book_id": "16"
                                },
                                {
                                    "title": "NULL",
                                    "average_rating": "NULL",
                                    "books_count": "NULL",
                                    "user_id": "2",
                                    "book_id": "92"
                                },
                                {
                                    "title": "NULL",
                                    "average_rating": "NULL",
                                    "books_count": "NULL",
                                    "user_id": "2",
                                    "book_id": "113"
                                },
                                {
                                    "title": "NULL",
                                    "average_rating": "NULL",
                                    "books_count": "NULL",
                                    "user_id": "2",
                                    "book_id": "233"
                                },
                                {
                                    "title": "NULL",
                                    "average_rating": "NULL",
                                    "books_count": "NULL",
                                    "user_id": "2",
                                    "book_id": "247"
                                },
                                {
                                    "title": "NULL",
                                    "average_rating": "NULL",
                                    "books_count": "NULL",
                                    "user_id": "2",
                                    "book_id": "380"
                                },
                                {
                                    "title": "NULL",
                                    "average_rating": "NULL",
                                    "books_count": "NULL",
                                    "user_id": "2",
                                    "book_id": "408"
                                },
                                {
                                    "title": "NULL",
                                    "average_rating": "NULL",
                                    "books_count": "NULL",
                                    "user_id": "2",
                                    "book_id": "439"
                                },
                                {
                                    "title": "NULL",
                                    "average_rating": "NULL",
                                    "books_count": "NULL",
                                    "user_id": "2",
                                    "book_id": "479"
                                }
                            ]
                        },
                        "text/html": [
                            "<table>",
                            "<tr><th>title</th><th>average_rating</th><th>books_count</th><th>user_id</th><th>book_id</th></tr>",
                            "<tr><td>The Complete Calvin and Hobbes</td><td>4.82</td><td>14</td><td>NULL</td><td>NULL</td></tr>",
                            "<tr><td>Words of Radiance (The Stormlight Archive, #2)</td><td>4.77</td><td>34</td><td>NULL</td><td>NULL</td></tr>",
                            "<tr><td>Mark of the Lion Trilogy</td><td>4.76</td><td>6</td><td>NULL</td><td>NULL</td></tr>",
                            "<tr><td>ESV Study Bible</td><td>4.76</td><td>96</td><td>NULL</td><td>NULL</td></tr>",
                            "<tr><td>It&#39;s a Magical World: A Calvin and Hobbes Collection</td><td>4.75</td><td>21</td><td>NULL</td><td>NULL</td></tr>",
                            "<tr><td>There&#39;s Treasure Everywhere: A Calvin and Hobbes Collection</td><td>4.74</td><td>22</td><td>NULL</td><td>NULL</td></tr>",
                            "<tr><td>Harry Potter Boxset (Harry Potter, #1-7)</td><td>4.74</td><td>76</td><td>NULL</td><td>NULL</td></tr>",
                            "<tr><td>The Indispensable Calvin and Hobbes</td><td>4.73</td><td>19</td><td>NULL</td><td>NULL</td></tr>",
                            "<tr><td>The Authoritative Calvin and Hobbes: A Calvin and Hobbes Treasury</td><td>4.73</td><td>21</td><td>NULL</td><td>NULL</td></tr>",
                            "<tr><td>Attack of the Deranged Mutant Killer Monster Snow Goons</td><td>4.72</td><td>24</td><td>NULL</td><td>NULL</td></tr>",
                            "<tr><td>A Court of Mist and Fury (A Court of Thorns and Roses, #2)</td><td>4.72</td><td>39</td><td>NULL</td><td>NULL</td></tr>",
                            "<tr><td>Homicidal Psycho Jungle Cat: A Calvin and Hobbes Collection</td><td>4.71</td><td>23</td><td>NULL</td><td>NULL</td></tr>",
                            "<tr><td>The Revenge of the Baby-Sat</td><td>4.71</td><td>20</td><td>NULL</td><td>NULL</td></tr>",
                            "<tr><td>Preach My Gospel: A Guide To Missionary Service</td><td>4.71</td><td>5</td><td>NULL</td><td>NULL</td></tr>",
                            "<tr><td>NULL</td><td>NULL</td><td>NULL</td><td>1</td><td>235</td></tr>",
                            "<tr><td>NULL</td><td>NULL</td><td>NULL</td><td>1</td><td>533</td></tr>",
                            "<tr><td>NULL</td><td>NULL</td><td>NULL</td><td>1</td><td>1198</td></tr>",
                            "<tr><td>NULL</td><td>NULL</td><td>NULL</td><td>1</td><td>1874</td></tr>",
                            "<tr><td>NULL</td><td>NULL</td><td>NULL</td><td>1</td><td>2058</td></tr>",
                            "<tr><td>NULL</td><td>NULL</td><td>NULL</td><td>1</td><td>3334</td></tr>",
                            "<tr><td>NULL</td><td>NULL</td><td>NULL</td><td>2</td><td>4</td></tr>",
                            "<tr><td>NULL</td><td>NULL</td><td>NULL</td><td>2</td><td>16</td></tr>",
                            "<tr><td>NULL</td><td>NULL</td><td>NULL</td><td>2</td><td>92</td></tr>",
                            "<tr><td>NULL</td><td>NULL</td><td>NULL</td><td>2</td><td>113</td></tr>",
                            "<tr><td>NULL</td><td>NULL</td><td>NULL</td><td>2</td><td>233</td></tr>",
                            "<tr><td>NULL</td><td>NULL</td><td>NULL</td><td>2</td><td>247</td></tr>",
                            "<tr><td>NULL</td><td>NULL</td><td>NULL</td><td>2</td><td>380</td></tr>",
                            "<tr><td>NULL</td><td>NULL</td><td>NULL</td><td>2</td><td>408</td></tr>",
                            "<tr><td>NULL</td><td>NULL</td><td>NULL</td><td>2</td><td>439</td></tr>",
                            "<tr><td>NULL</td><td>NULL</td><td>NULL</td><td>2</td><td>479</td></tr>",
                            "</table>"
                        ]
                    }
                }
            ],
            "execution_count": 1
        },
        {
            "cell_type": "markdown",
            "source": [
                "## **QUESTION 4:** Exploring INNER Joins with the **books** and **to\\_read** tables\n",
                "\n",
                "You will need to uncomment the Query to answer the question.\n",
                "\n",
                "**Part A:**  What does an inner join do?\n",
                "\n",
                "> <span style=\"background-color: rgba(127, 127, 127, 0.1); font-family: -apple-system, BlinkMacSystemFont, sans-serif;\">Your Answer:</span>\n",
                "> \n",
                "> 1. An INNER JOIN only returns rows / records from both tables have matching values in the specified columns / keys. If there is no match between the tables, the row is not included in the result set.\n",
                "\n",
                "<span style=\"background-color: rgba(127, 127, 127, 0.1); font-family: -apple-system, BlinkMacSystemFont, sans-serif;\"><b>Part B:</b>&nbsp;Currently this table has an <b>'IS NOT NULL'</b> in the <b>WHERE</b> clause.&nbsp; Is this necessary for this table?&nbsp; Why or Why not?&nbsp;</span>    \n",
                "\n",
                "> Your Answer:\n",
                "> \n",
                "> The join shouldn't produce any nulls between the two tables - the **is not null** is helpful for left and right joins when you want to filter out the rows / records that don't have matched values because it fills up with nulls, but the inner join itself takes care of ensuring that there are matching values between the tables.\n",
                "\n",
                "**Part C:**  When using SQL, you are usually returning much larger tables so every line of code will add to the compilation and return time.  Rewrite this inner join query so that it contains no redundant code.   \n",
                "\n",
                "> Your Answer:  Update the query in the code box below.\n",
                "> \n",
                "> I made the redudant IS NOT NULL a comment, so it won't add unnecessarily to the compilation time. I looked to see if there was a change in the execution time but it was .116 without the line and .114 with the line, so that was not a good indicator in this case."
            ],
            "metadata": {
                "azdata_cell_guid": "4dab11ce-7995-4444-92dd-4cb2c0bc02c8"
            },
            "attachments": {}
        },
        {
            "cell_type": "code",
            "source": [
                "\n",
                "-- INNER JOIN\n",
                "SELECT TOP 30 b.title, b.average_rating, b.books_count,tr.user_id, tr.book_id\n",
                "FROM BooksDB.dbo.books AS b\n",
                "INNER JOIN BooksDB.dbo.to_read AS tr\n",
                "ON b.book_id = tr.book_id\n",
                "--WHERE b.title IS NOT NULL\n",
                "ORDER BY tr.book_id;\n",
                ""
            ],
            "metadata": {
                "azdata_cell_guid": "66d430ab-18aa-4a29-a32d-0585445e417c",
                "tags": [],
                "language": "sql"
            },
            "outputs": [
                {
                    "output_type": "display_data",
                    "data": {
                        "text/html": "(30 rows affected)"
                    },
                    "metadata": {}
                },
                {
                    "output_type": "display_data",
                    "data": {
                        "text/html": "Total execution time: 00:00:00.433"
                    },
                    "metadata": {}
                },
                {
                    "output_type": "execute_result",
                    "metadata": {},
                    "execution_count": 2,
                    "data": {
                        "application/vnd.dataresource+json": {
                            "schema": {
                                "fields": [
                                    {
                                        "name": "title"
                                    },
                                    {
                                        "name": "average_rating"
                                    },
                                    {
                                        "name": "books_count"
                                    },
                                    {
                                        "name": "user_id"
                                    },
                                    {
                                        "name": "book_id"
                                    }
                                ]
                            },
                            "data": [
                                {
                                    "title": "Harry Potter and the Half-Blood Prince (Harry Potter, #6)",
                                    "average_rating": "4.54",
                                    "books_count": "275",
                                    "user_id": "12",
                                    "book_id": "1"
                                },
                                {
                                    "title": "Harry Potter and the Half-Blood Prince (Harry Potter, #6)",
                                    "average_rating": "4.54",
                                    "books_count": "275",
                                    "user_id": "192",
                                    "book_id": "1"
                                },
                                {
                                    "title": "Harry Potter and the Half-Blood Prince (Harry Potter, #6)",
                                    "average_rating": "4.54",
                                    "books_count": "275",
                                    "user_id": "202",
                                    "book_id": "1"
                                },
                                {
                                    "title": "Harry Potter and the Half-Blood Prince (Harry Potter, #6)",
                                    "average_rating": "4.54",
                                    "books_count": "275",
                                    "user_id": "244",
                                    "book_id": "1"
                                },
                                {
                                    "title": "Harry Potter and the Half-Blood Prince (Harry Potter, #6)",
                                    "average_rating": "4.54",
                                    "books_count": "275",
                                    "user_id": "253",
                                    "book_id": "1"
                                },
                                {
                                    "title": "Harry Potter and the Half-Blood Prince (Harry Potter, #6)",
                                    "average_rating": "4.54",
                                    "books_count": "275",
                                    "user_id": "350",
                                    "book_id": "1"
                                },
                                {
                                    "title": "Harry Potter and the Half-Blood Prince (Harry Potter, #6)",
                                    "average_rating": "4.54",
                                    "books_count": "275",
                                    "user_id": "478",
                                    "book_id": "1"
                                },
                                {
                                    "title": "Harry Potter and the Half-Blood Prince (Harry Potter, #6)",
                                    "average_rating": "4.54",
                                    "books_count": "275",
                                    "user_id": "511",
                                    "book_id": "1"
                                },
                                {
                                    "title": "Harry Potter and the Half-Blood Prince (Harry Potter, #6)",
                                    "average_rating": "4.54",
                                    "books_count": "275",
                                    "user_id": "525",
                                    "book_id": "1"
                                },
                                {
                                    "title": "Harry Potter and the Half-Blood Prince (Harry Potter, #6)",
                                    "average_rating": "4.54",
                                    "books_count": "275",
                                    "user_id": "527",
                                    "book_id": "1"
                                },
                                {
                                    "title": "Harry Potter and the Half-Blood Prince (Harry Potter, #6)",
                                    "average_rating": "4.54",
                                    "books_count": "275",
                                    "user_id": "552",
                                    "book_id": "1"
                                },
                                {
                                    "title": "Harry Potter and the Half-Blood Prince (Harry Potter, #6)",
                                    "average_rating": "4.54",
                                    "books_count": "275",
                                    "user_id": "644",
                                    "book_id": "1"
                                },
                                {
                                    "title": "Harry Potter and the Half-Blood Prince (Harry Potter, #6)",
                                    "average_rating": "4.54",
                                    "books_count": "275",
                                    "user_id": "754",
                                    "book_id": "1"
                                },
                                {
                                    "title": "Harry Potter and the Half-Blood Prince (Harry Potter, #6)",
                                    "average_rating": "4.54",
                                    "books_count": "275",
                                    "user_id": "826",
                                    "book_id": "1"
                                },
                                {
                                    "title": "Harry Potter and the Half-Blood Prince (Harry Potter, #6)",
                                    "average_rating": "4.54",
                                    "books_count": "275",
                                    "user_id": "1043",
                                    "book_id": "1"
                                },
                                {
                                    "title": "Harry Potter and the Half-Blood Prince (Harry Potter, #6)",
                                    "average_rating": "4.54",
                                    "books_count": "275",
                                    "user_id": "1205",
                                    "book_id": "1"
                                },
                                {
                                    "title": "Harry Potter and the Half-Blood Prince (Harry Potter, #6)",
                                    "average_rating": "4.54",
                                    "books_count": "275",
                                    "user_id": "1442",
                                    "book_id": "1"
                                },
                                {
                                    "title": "Harry Potter and the Half-Blood Prince (Harry Potter, #6)",
                                    "average_rating": "4.54",
                                    "books_count": "275",
                                    "user_id": "1470",
                                    "book_id": "1"
                                },
                                {
                                    "title": "Harry Potter and the Half-Blood Prince (Harry Potter, #6)",
                                    "average_rating": "4.54",
                                    "books_count": "275",
                                    "user_id": "1712",
                                    "book_id": "1"
                                },
                                {
                                    "title": "Harry Potter and the Half-Blood Prince (Harry Potter, #6)",
                                    "average_rating": "4.54",
                                    "books_count": "275",
                                    "user_id": "1814",
                                    "book_id": "1"
                                },
                                {
                                    "title": "Harry Potter and the Half-Blood Prince (Harry Potter, #6)",
                                    "average_rating": "4.54",
                                    "books_count": "275",
                                    "user_id": "1919",
                                    "book_id": "1"
                                },
                                {
                                    "title": "Harry Potter and the Half-Blood Prince (Harry Potter, #6)",
                                    "average_rating": "4.54",
                                    "books_count": "275",
                                    "user_id": "2051",
                                    "book_id": "1"
                                },
                                {
                                    "title": "Harry Potter and the Half-Blood Prince (Harry Potter, #6)",
                                    "average_rating": "4.54",
                                    "books_count": "275",
                                    "user_id": "2052",
                                    "book_id": "1"
                                },
                                {
                                    "title": "Harry Potter and the Half-Blood Prince (Harry Potter, #6)",
                                    "average_rating": "4.54",
                                    "books_count": "275",
                                    "user_id": "2158",
                                    "book_id": "1"
                                },
                                {
                                    "title": "Harry Potter and the Half-Blood Prince (Harry Potter, #6)",
                                    "average_rating": "4.54",
                                    "books_count": "275",
                                    "user_id": "2160",
                                    "book_id": "1"
                                },
                                {
                                    "title": "Harry Potter and the Half-Blood Prince (Harry Potter, #6)",
                                    "average_rating": "4.54",
                                    "books_count": "275",
                                    "user_id": "2345",
                                    "book_id": "1"
                                },
                                {
                                    "title": "Harry Potter and the Half-Blood Prince (Harry Potter, #6)",
                                    "average_rating": "4.54",
                                    "books_count": "275",
                                    "user_id": "2476",
                                    "book_id": "1"
                                },
                                {
                                    "title": "Harry Potter and the Half-Blood Prince (Harry Potter, #6)",
                                    "average_rating": "4.54",
                                    "books_count": "275",
                                    "user_id": "2523",
                                    "book_id": "1"
                                },
                                {
                                    "title": "Harry Potter and the Half-Blood Prince (Harry Potter, #6)",
                                    "average_rating": "4.54",
                                    "books_count": "275",
                                    "user_id": "2623",
                                    "book_id": "1"
                                },
                                {
                                    "title": "Harry Potter and the Half-Blood Prince (Harry Potter, #6)",
                                    "average_rating": "4.54",
                                    "books_count": "275",
                                    "user_id": "2673",
                                    "book_id": "1"
                                }
                            ]
                        },
                        "text/html": [
                            "<table>",
                            "<tr><th>title</th><th>average_rating</th><th>books_count</th><th>user_id</th><th>book_id</th></tr>",
                            "<tr><td>Harry Potter and the Half-Blood Prince (Harry Potter, #6)</td><td>4.54</td><td>275</td><td>12</td><td>1</td></tr>",
                            "<tr><td>Harry Potter and the Half-Blood Prince (Harry Potter, #6)</td><td>4.54</td><td>275</td><td>192</td><td>1</td></tr>",
                            "<tr><td>Harry Potter and the Half-Blood Prince (Harry Potter, #6)</td><td>4.54</td><td>275</td><td>202</td><td>1</td></tr>",
                            "<tr><td>Harry Potter and the Half-Blood Prince (Harry Potter, #6)</td><td>4.54</td><td>275</td><td>244</td><td>1</td></tr>",
                            "<tr><td>Harry Potter and the Half-Blood Prince (Harry Potter, #6)</td><td>4.54</td><td>275</td><td>253</td><td>1</td></tr>",
                            "<tr><td>Harry Potter and the Half-Blood Prince (Harry Potter, #6)</td><td>4.54</td><td>275</td><td>350</td><td>1</td></tr>",
                            "<tr><td>Harry Potter and the Half-Blood Prince (Harry Potter, #6)</td><td>4.54</td><td>275</td><td>478</td><td>1</td></tr>",
                            "<tr><td>Harry Potter and the Half-Blood Prince (Harry Potter, #6)</td><td>4.54</td><td>275</td><td>511</td><td>1</td></tr>",
                            "<tr><td>Harry Potter and the Half-Blood Prince (Harry Potter, #6)</td><td>4.54</td><td>275</td><td>525</td><td>1</td></tr>",
                            "<tr><td>Harry Potter and the Half-Blood Prince (Harry Potter, #6)</td><td>4.54</td><td>275</td><td>527</td><td>1</td></tr>",
                            "<tr><td>Harry Potter and the Half-Blood Prince (Harry Potter, #6)</td><td>4.54</td><td>275</td><td>552</td><td>1</td></tr>",
                            "<tr><td>Harry Potter and the Half-Blood Prince (Harry Potter, #6)</td><td>4.54</td><td>275</td><td>644</td><td>1</td></tr>",
                            "<tr><td>Harry Potter and the Half-Blood Prince (Harry Potter, #6)</td><td>4.54</td><td>275</td><td>754</td><td>1</td></tr>",
                            "<tr><td>Harry Potter and the Half-Blood Prince (Harry Potter, #6)</td><td>4.54</td><td>275</td><td>826</td><td>1</td></tr>",
                            "<tr><td>Harry Potter and the Half-Blood Prince (Harry Potter, #6)</td><td>4.54</td><td>275</td><td>1043</td><td>1</td></tr>",
                            "<tr><td>Harry Potter and the Half-Blood Prince (Harry Potter, #6)</td><td>4.54</td><td>275</td><td>1205</td><td>1</td></tr>",
                            "<tr><td>Harry Potter and the Half-Blood Prince (Harry Potter, #6)</td><td>4.54</td><td>275</td><td>1442</td><td>1</td></tr>",
                            "<tr><td>Harry Potter and the Half-Blood Prince (Harry Potter, #6)</td><td>4.54</td><td>275</td><td>1470</td><td>1</td></tr>",
                            "<tr><td>Harry Potter and the Half-Blood Prince (Harry Potter, #6)</td><td>4.54</td><td>275</td><td>1712</td><td>1</td></tr>",
                            "<tr><td>Harry Potter and the Half-Blood Prince (Harry Potter, #6)</td><td>4.54</td><td>275</td><td>1814</td><td>1</td></tr>",
                            "<tr><td>Harry Potter and the Half-Blood Prince (Harry Potter, #6)</td><td>4.54</td><td>275</td><td>1919</td><td>1</td></tr>",
                            "<tr><td>Harry Potter and the Half-Blood Prince (Harry Potter, #6)</td><td>4.54</td><td>275</td><td>2051</td><td>1</td></tr>",
                            "<tr><td>Harry Potter and the Half-Blood Prince (Harry Potter, #6)</td><td>4.54</td><td>275</td><td>2052</td><td>1</td></tr>",
                            "<tr><td>Harry Potter and the Half-Blood Prince (Harry Potter, #6)</td><td>4.54</td><td>275</td><td>2158</td><td>1</td></tr>",
                            "<tr><td>Harry Potter and the Half-Blood Prince (Harry Potter, #6)</td><td>4.54</td><td>275</td><td>2160</td><td>1</td></tr>",
                            "<tr><td>Harry Potter and the Half-Blood Prince (Harry Potter, #6)</td><td>4.54</td><td>275</td><td>2345</td><td>1</td></tr>",
                            "<tr><td>Harry Potter and the Half-Blood Prince (Harry Potter, #6)</td><td>4.54</td><td>275</td><td>2476</td><td>1</td></tr>",
                            "<tr><td>Harry Potter and the Half-Blood Prince (Harry Potter, #6)</td><td>4.54</td><td>275</td><td>2523</td><td>1</td></tr>",
                            "<tr><td>Harry Potter and the Half-Blood Prince (Harry Potter, #6)</td><td>4.54</td><td>275</td><td>2623</td><td>1</td></tr>",
                            "<tr><td>Harry Potter and the Half-Blood Prince (Harry Potter, #6)</td><td>4.54</td><td>275</td><td>2673</td><td>1</td></tr>",
                            "</table>"
                        ]
                    }
                }
            ],
            "execution_count": 2
        },
        {
            "cell_type": "markdown",
            "source": [
                "## **QUESTION 5:**  Using joins to find the most tagged book and the most popular tag\n",
                "\n",
                "We will be writing 3 queries to find both the most tagged book and that book's most popular tag.\n",
                "\n",
                "**Part A:**  What is the most tagged book?\n",
                "\n",
                "> <span style=\"background-color: rgba(127, 127, 127, 0.1); font-family: -apple-system, BlinkMacSystemFont, sans-serif;\">Start by joining the </span> **books** <span style=\"background-color: rgba(127, 127, 127, 0.1); font-family: -apple-system, BlinkMacSystemFont, sans-serif;\">and </span> **book\\_tags**  <span style=\"background-color: rgba(127, 127, 127, 0.1); font-family: -apple-system, BlinkMacSystemFont, sans-serif;\">&nbsp;tables ON the books.best_book_id and book_tags.goodreads_book_id.&nbsp;&nbsp;<br></span>  <span style=\"background-color: rgba(127, 127, 127, 0.1); font-family: -apple-system, BlinkMacSystemFont, sans-serif;\">We want the <i>most popular</i> book, so think about ordering the table in a way that will display both the book title and the number of times a book tag has been used.</span>\n",
                "> \n",
                "> _MInimum Desired output:_  The title of the most tagged book, and the number of times the book has been tagged.\n",
                "> \n",
                "> **Title: Selected Poems, 400 times tagged**\n",
                "\n",
                "**Part B:** How many different tags have been used for the most tagged book?\n",
                "\n",
                "> <span style=\"font-family: -apple-system, BlinkMacSystemFont, sans-serif; background-color: rgba(127, 127, 127, 0.1);\">Start by joining the&nbsp;</span>  **books** <span style=\"font-family: -apple-system, BlinkMacSystemFont, sans-serif; background-color: rgba(127, 127, 127, 0.1);\">and&nbsp;</span>  **book\\_tags**  <span style=\"font-family: -apple-system, BlinkMacSystemFont, sans-serif; background-color: rgba(127, 127, 127, 0.1);\">&nbsp;tables ON the books.best_book_id and book_tags.goodreads_book_id.&nbsp;&nbsp;<br></span>  We want to find the _most popular_ tag id, so think about ordering in a way that will display the most popular tag id.\n",
                "> \n",
                "> <span style=\"font-family: -apple-system, BlinkMacSystemFont, sans-serif; background-color: rgba(127, 127, 127, 0.1);\"><i>Minimum Desired Output:</i> The tag id for the most popular tag used for the most tagged book.&nbsp;</span> \n",
                "> \n",
                "> <span style=\"font-family: -apple-system, BlinkMacSystemFont, sans-serif; background-color: rgba(127, 127, 127, 0.1);\"><b>Tag Id:</b></span>\n",
                "\n",
                "<span style=\"font-family: -apple-system, BlinkMacSystemFont, sans-serif; background-color: rgba(127, 127, 127, 0.1);\"><b>Part C: </b>What is this particular tag?</span>\n",
                "\n",
                "> You may return this answer with a simple query.\n",
                "\n",
                "> <span style=\"font-family: -apple-system, BlinkMacSystemFont, sans-serif; background-color: rgba(127, 127, 127, 0.1);\"><i>Minimum Desired Output:</i>&nbsp;The tag name for the most popular tag used for the most tagged book.&nbsp;</span> \n",
                "> \n",
                "> <span style=\"font-family: -apple-system, BlinkMacSystemFont, sans-serif; background-color: rgba(127, 127, 127, 0.1);\"><b>Tag Name:</b></span>"
            ],
            "metadata": {
                "azdata_cell_guid": "a685e9cc-2ae2-40e8-8cc1-022c8064d66d"
            },
            "attachments": {}
        },
        {
            "cell_type": "code",
            "source": [
                "\r\n",
                "-- Part A\r\n",
                "--MInimum Desired output:  The title of the most tagged book, and the number of times the book has been tagged.\r\n",
                "SELECT TOP 1 b.title, b.best_book_id, SUM(bt.count) AS total_count\r\n",
                "FROM BooksDB.dbo.books AS b\r\n",
                "JOIN BooksDB.dbo.book_tags AS bt\r\n",
                "ON b.best_book_id = bt.goodreads_book_id\r\n",
                "GROUP BY b.title, b.best_book_id\r\n",
                "ORDER BY total_count DESC;\r\n",
                "\r\n",
                "\r\n",
                "\r\n",
                "-- Part B\r\n",
                "--Minimum Desired Output: The tag id for the most popular tag used for the most tagged book.  \r\n",
                "SELECT TOP 1 b.title, SUM(bt.count) AS total_count, bt.tag_id as tag_id\r\n",
                "FROM BooksDB.dbo.books AS b\r\n",
                "JOIN BooksDB.dbo.book_tags AS bt\r\n",
                "ON b.best_book_id = bt.goodreads_book_id\r\n",
                "GROUP BY b.title, b.best_book_id, tag_id\r\n",
                "HAVING b.best_book_id = 3\r\n",
                "ORDER BY total_count DESC;\r\n",
                "\r\n",
                "\r\n",
                "/*\r\n",
                "Part C - Get the tag name for the tag id\r\n",
                "*/\r\n",
                "\r\n",
                "SELECT TOP 1 tag_name \r\n",
                "from BooksDB.dbo.tags\r\n",
                "where tag_id = 30574"
            ],
            "metadata": {
                "azdata_cell_guid": "de3ac253-6b47-4740-8c6e-5f9d1b0ce36b",
                "language": "sql"
            },
            "outputs": [
                {
                    "output_type": "display_data",
                    "data": {
                        "text/html": "(1 row affected)"
                    },
                    "metadata": {}
                },
                {
                    "output_type": "display_data",
                    "data": {
                        "text/html": "(1 row affected)"
                    },
                    "metadata": {}
                },
                {
                    "output_type": "display_data",
                    "data": {
                        "text/html": "(1 row affected)"
                    },
                    "metadata": {}
                },
                {
                    "output_type": "display_data",
                    "data": {
                        "text/html": "Total execution time: 00:00:00.399"
                    },
                    "metadata": {}
                },
                {
                    "output_type": "execute_result",
                    "metadata": {},
                    "execution_count": 90,
                    "data": {
                        "application/vnd.dataresource+json": {
                            "schema": {
                                "fields": [
                                    {
                                        "name": "title"
                                    },
                                    {
                                        "name": "best_book_id"
                                    },
                                    {
                                        "name": "total_count"
                                    }
                                ]
                            },
                            "data": [
                                {
                                    "title": "Harry Potter and the Sorcerer's Stone (Harry Potter, #1)",
                                    "best_book_id": "3",
                                    "total_count": "786374"
                                }
                            ]
                        },
                        "text/html": [
                            "<table>",
                            "<tr><th>title</th><th>best_book_id</th><th>total_count</th></tr>",
                            "<tr><td>Harry Potter and the Sorcerer&#39;s Stone (Harry Potter, #1)</td><td>3</td><td>786374</td></tr>",
                            "</table>"
                        ]
                    }
                },
                {
                    "output_type": "execute_result",
                    "metadata": {},
                    "execution_count": 90,
                    "data": {
                        "application/vnd.dataresource+json": {
                            "schema": {
                                "fields": [
                                    {
                                        "name": "title"
                                    },
                                    {
                                        "name": "total_count"
                                    },
                                    {
                                        "name": "tag_id"
                                    }
                                ]
                            },
                            "data": [
                                {
                                    "title": "Harry Potter and the Sorcerer's Stone (Harry Potter, #1)",
                                    "total_count": "496107",
                                    "tag_id": "30574"
                                }
                            ]
                        },
                        "text/html": [
                            "<table>",
                            "<tr><th>title</th><th>total_count</th><th>tag_id</th></tr>",
                            "<tr><td>Harry Potter and the Sorcerer&#39;s Stone (Harry Potter, #1)</td><td>496107</td><td>30574</td></tr>",
                            "</table>"
                        ]
                    }
                },
                {
                    "output_type": "execute_result",
                    "metadata": {},
                    "execution_count": 90,
                    "data": {
                        "application/vnd.dataresource+json": {
                            "schema": {
                                "fields": [
                                    {
                                        "name": "tag_name"
                                    }
                                ]
                            },
                            "data": [
                                {
                                    "tag_name": "to-read"
                                }
                            ]
                        },
                        "text/html": [
                            "<table>",
                            "<tr><th>tag_name</th></tr>",
                            "<tr><td>to-read</td></tr>",
                            "</table>"
                        ]
                    }
                }
            ],
            "execution_count": 90
        },
        {
            "cell_type": "markdown",
            "source": [
                "## **QUESTION 6:** Find a book based on a tag of your choice using joins.\n",
                "\n",
                "Some suggestions: any hobbies you like? baking, drawing, etc. how about favorite holidays, subjects, animals, etc?\n",
                "\n",
                "**Part A:** Explore the tags table for a tag of your choice.  Suggested ideas, try searching for one of your hobbies, a favorite time of year, favorite animal, etc.  Start by querying the tag table for your chosen tag.  (_Hint:_ in order to make sure you find all combinations of your tags, use the wildcard).  If your query returns more than one result, pick your favorite.\n",
                "\n",
                "> > _Here is an example.  Alyce wanted to search for halloween books.  She used the wildcard, '%halloween%' and 8 different combinations were found.  Alyce selected '**halloween-storytime**', with a tag id of 13877._\n",
                "\n",
                "> _Minimum Desired Output:_ <span style=\"font-family: -apple-system, BlinkMacSystemFont, sans-serif; background-color: rgba(127, 127, 127, 0.1);\">tag name and tag id</span>\n",
                "\n",
                "> **Your Tag and Tag Id:**\n",
                "\n",
                "**Part B:** Now that you have the **tag id**, find the title that was tagged the most with this tag by joining the books and books\\_tags tables.\n",
                "\n",
                "> > _Alyce joined the book table with the tags table and discovered that <u>The Little Old Lady Who Was Not Afraid of Anything</u> was tagged as '**halloween-storytime**' the most._\n",
                "\n",
                "> _Minimum Desired Output:_ <span style=\"background-color: rgba(127, 127, 127, 0.1); font-family: -apple-system, BlinkMacSystemFont, sans-serif;\">title and tag count</span>\n",
                "\n",
                "> **Your Title and Number of times the tag was used:**"
            ],
            "metadata": {
                "azdata_cell_guid": "df783e7e-3aff-4e63-9edb-f2e729c7d1c8"
            },
            "attachments": {}
        },
        {
            "cell_type": "code",
            "source": [
                "-- Code Here:\r\n",
                "--Part A\r\n",
                "SELECT *\r\n",
                "FROM booksdb.dbo.tags\r\n",
                "WHERE tag_name LIKE '%feminism%';\r\n",
                "--15724 is intersectional-feminism\r\n",
                "\r\n",
                "--Part B\r\n",
                "SELECT b.title, SUM(bt.count) AS total_count\r\n",
                "FROM BooksDB.dbo.books AS b\r\n",
                "JOIN BooksDB.dbo.book_tags AS bt ON b.best_book_id = bt.goodreads_book_id\r\n",
                "WHERE bt.tag_id = 15724\r\n",
                "GROUP BY b.title\r\n",
                "ORDER BY total_count DESC;"
            ],
            "metadata": {
                "azdata_cell_guid": "c4b0b67c-7cfa-4f52-be97-ffe5cc28ed54",
                "tags": [],
                "language": "sql"
            },
            "outputs": [
                {
                    "output_type": "display_data",
                    "data": {
                        "text/html": "(13 rows affected)"
                    },
                    "metadata": {}
                },
                {
                    "output_type": "display_data",
                    "data": {
                        "text/html": "(2 rows affected)"
                    },
                    "metadata": {}
                },
                {
                    "output_type": "display_data",
                    "data": {
                        "text/html": "Total execution time: 00:00:00.191"
                    },
                    "metadata": {}
                },
                {
                    "output_type": "execute_result",
                    "metadata": {},
                    "execution_count": 95,
                    "data": {
                        "application/vnd.dataresource+json": {
                            "schema": {
                                "fields": [
                                    {
                                        "name": "tag_id"
                                    },
                                    {
                                        "name": "tag_name"
                                    }
                                ]
                            },
                            "data": [
                                {
                                    "tag_id": "4704",
                                    "tag_name": "black-feminism"
                                },
                                {
                                    "tag_id": "11665",
                                    "tag_name": "feminism"
                                },
                                {
                                    "tag_id": "11666",
                                    "tag_name": "feminism-and-gender"
                                },
                                {
                                    "tag_id": "11667",
                                    "tag_name": "feminism-antifeminism"
                                },
                                {
                                    "tag_id": "11668",
                                    "tag_name": "feminism-gender"
                                },
                                {
                                    "tag_id": "11669",
                                    "tag_name": "feminism-gender-studies"
                                },
                                {
                                    "tag_id": "11670",
                                    "tag_name": "feminisme"
                                },
                                {
                                    "tag_id": "11671",
                                    "tag_name": "feminismo"
                                },
                                {
                                    "tag_id": "11672",
                                    "tag_name": "feminisms"
                                },
                                {
                                    "tag_id": "12926",
                                    "tag_name": "gender-feminism"
                                },
                                {
                                    "tag_id": "15724",
                                    "tag_name": "intersectional-feminism"
                                },
                                {
                                    "tag_id": "30671",
                                    "tag_name": "to-read-feminism"
                                },
                                {
                                    "tag_id": "32690",
                                    "tag_name": "women-feminism"
                                }
                            ]
                        },
                        "text/html": [
                            "<table>",
                            "<tr><th>tag_id</th><th>tag_name</th></tr>",
                            "<tr><td>4704</td><td>black-feminism</td></tr>",
                            "<tr><td>11665</td><td>feminism</td></tr>",
                            "<tr><td>11666</td><td>feminism-and-gender</td></tr>",
                            "<tr><td>11667</td><td>feminism-antifeminism</td></tr>",
                            "<tr><td>11668</td><td>feminism-gender</td></tr>",
                            "<tr><td>11669</td><td>feminism-gender-studies</td></tr>",
                            "<tr><td>11670</td><td>feminisme</td></tr>",
                            "<tr><td>11671</td><td>feminismo</td></tr>",
                            "<tr><td>11672</td><td>feminisms</td></tr>",
                            "<tr><td>12926</td><td>gender-feminism</td></tr>",
                            "<tr><td>15724</td><td>intersectional-feminism</td></tr>",
                            "<tr><td>30671</td><td>to-read-feminism</td></tr>",
                            "<tr><td>32690</td><td>women-feminism</td></tr>",
                            "</table>"
                        ]
                    }
                },
                {
                    "output_type": "execute_result",
                    "metadata": {},
                    "execution_count": 95,
                    "data": {
                        "application/vnd.dataresource+json": {
                            "schema": {
                                "fields": [
                                    {
                                        "name": "title"
                                    },
                                    {
                                        "name": "total_count"
                                    }
                                ]
                            },
                            "data": [
                                {
                                    "title": "Stone Butch Blues",
                                    "total_count": "7"
                                },
                                {
                                    "title": "Assata: An Autobiography",
                                    "total_count": "5"
                                }
                            ]
                        },
                        "text/html": [
                            "<table>",
                            "<tr><th>title</th><th>total_count</th></tr>",
                            "<tr><td>Stone Butch Blues</td><td>7</td></tr>",
                            "<tr><td>Assata: An Autobiography</td><td>5</td></tr>",
                            "</table>"
                        ]
                    }
                }
            ],
            "execution_count": 95
        },
        {
            "cell_type": "markdown",
            "source": [
                "## **QUESTION 7:** What are the top 10 most popular book titles on the 'to read' list?\n",
                "\n",
                "**Part A:**  Explore how the **to\\_read** and **books** tables are organized, and then join them.  What will you use as a key?\n",
                "\n",
                "> Your Answer: join them with the shared book\\_id\n",
                "\n",
                "**Part B:** Organize your newly joined table in a way that groups popularity based on the title based on users.\n",
                "\n",
                "> _Hint:_ Suggest using an alias for the aggregation you will need to run on the **user\\_id**\n",
                "\n",
                "> _Minimum Desired Output:_ title and aliased column"
            ],
            "metadata": {
                "azdata_cell_guid": "4e5349b7-24f6-481a-9d88-bb4f86abc624"
            },
            "attachments": {}
        },
        {
            "cell_type": "code",
            "source": [
                "-- Code Here:\r\n",
                "\r\n",
                "-- part a:\r\n",
                "SELECT TOP 10 b.title, COUNT(tr.book_id) AS to_read_count\r\n",
                "FROM BooksDB.dbo.books AS b\r\n",
                "JOIN BooksDB.dbo.to_read AS tr ON b.book_id = tr.book_id\r\n",
                "GROUP BY b.title\r\n",
                "ORDER BY to_read_count DESC;\r\n",
                "\r\n",
                "--part b:\r\n",
                "SELECT b.title, COUNT(tr.user_id) AS user_count\r\n",
                "FROM BooksDB.dbo.books AS b\r\n",
                "JOIN BooksDB.dbo.to_read AS tr ON b.book_id = tr.book_id\r\n",
                "GROUP BY b.title\r\n",
                "ORDER BY user_count DESC;"
            ],
            "metadata": {
                "azdata_cell_guid": "8af25df1-ce61-4152-8198-0b53c17642d0",
                "language": "sql"
            },
            "outputs": [
                {
                    "output_type": "display_data",
                    "data": {
                        "text/html": "(10 rows affected)"
                    },
                    "metadata": {}
                },
                {
                    "output_type": "display_data",
                    "data": {
                        "text/html": "(811 rows affected)"
                    },
                    "metadata": {}
                },
                {
                    "output_type": "display_data",
                    "data": {
                        "text/html": "Total execution time: 00:00:00.624"
                    },
                    "metadata": {}
                },
                {
                    "output_type": "execute_result",
                    "metadata": {},
                    "execution_count": 97,
                    "data": {
                        "application/vnd.dataresource+json": {
                            "schema": {
                                "fields": [
                                    {
                                        "name": "title"
                                    },
                                    {
                                        "name": "to_read_count"
                                    }
                                ]
                            },
                            "data": [
                                {
                                    "title": "The Ultimate Hitchhiker's Guide to the Galaxy",
                                    "to_read_count": "1812"
                                },
                                {
                                    "title": "The Hitchhiker's Guide to the Galaxy (Hitchhiker's Guide to the Galaxy, #1)",
                                    "to_read_count": "1767"
                                },
                                {
                                    "title": "The Lord of the Rings: The Art of The Fellowship of the Ring",
                                    "to_read_count": "1499"
                                },
                                {
                                    "title": "Harry Potter Boxed Set, Books 1-5 (Harry Potter, #1-5)",
                                    "to_read_count": "1498"
                                },
                                {
                                    "title": "Harry Potter and the Goblet of Fire (Harry Potter, #4)",
                                    "to_read_count": "1484"
                                },
                                {
                                    "title": "The Known World",
                                    "to_read_count": "1352"
                                },
                                {
                                    "title": "Harry Potter and the Prisoner of Azkaban (Harry Potter, #3)",
                                    "to_read_count": "1293"
                                },
                                {
                                    "title": "The Lord of the Rings: Weapons and Warfare",
                                    "to_read_count": "1211"
                                },
                                {
                                    "title": "Notes from a Small Island",
                                    "to_read_count": "1148"
                                },
                                {
                                    "title": "Harry Potter Collection (Harry Potter, #1-6)",
                                    "to_read_count": "1110"
                                }
                            ]
                        },
                        "text/html": [
                            "<table>",
                            "<tr><th>title</th><th>to_read_count</th></tr>",
                            "<tr><td>The Ultimate Hitchhiker&#39;s Guide to the Galaxy</td><td>1812</td></tr>",
                            "<tr><td>The Hitchhiker&#39;s Guide to the Galaxy (Hitchhiker&#39;s Guide to the Galaxy, #1)</td><td>1767</td></tr>",
                            "<tr><td>The Lord of the Rings: The Art of The Fellowship of the Ring</td><td>1499</td></tr>",
                            "<tr><td>Harry Potter Boxed Set, Books 1-5 (Harry Potter, #1-5)</td><td>1498</td></tr>",
                            "<tr><td>Harry Potter and the Goblet of Fire (Harry Potter, #4)</td><td>1484</td></tr>",
                            "<tr><td>The Known World</td><td>1352</td></tr>",
                            "<tr><td>Harry Potter and the Prisoner of Azkaban (Harry Potter, #3)</td><td>1293</td></tr>",
                            "<tr><td>The Lord of the Rings: Weapons and Warfare</td><td>1211</td></tr>",
                            "<tr><td>Notes from a Small Island</td><td>1148</td></tr>",
                            "<tr><td>Harry Potter Collection (Harry Potter, #1-6)</td><td>1110</td></tr>",
                            "</table>"
                        ]
                    }
                },
                {
                    "output_type": "execute_result",
                    "metadata": {},
                    "execution_count": 97,
                    "data": {
                        "application/vnd.dataresource+json": {
                            "schema": {
                                "fields": [
                                    {
                                        "name": "title"
                                    },
                                    {
                                        "name": "user_count"
                                    }
                                ]
                            },
                            "data": [
                                {
                                    "title": "The Ultimate Hitchhiker's Guide to the Galaxy",
                                    "user_count": "1812"
                                },
                                {
                                    "title": "The Hitchhiker's Guide to the Galaxy (Hitchhiker's Guide to the Galaxy, #1)",
                                    "user_count": "1767"
                                },
                                {
                                    "title": "The Lord of the Rings: The Art of The Fellowship of the Ring",
                                    "user_count": "1499"
                                },
                                {
                                    "title": "Harry Potter Boxed Set, Books 1-5 (Harry Potter, #1-5)",
                                    "user_count": "1498"
                                },
                                {
                                    "title": "Harry Potter and the Goblet of Fire (Harry Potter, #4)",
                                    "user_count": "1484"
                                },
                                {
                                    "title": "The Known World",
                                    "user_count": "1352"
                                },
                                {
                                    "title": "Harry Potter and the Prisoner of Azkaban (Harry Potter, #3)",
                                    "user_count": "1293"
                                },
                                {
                                    "title": "The Lord of the Rings: Weapons and Warfare",
                                    "user_count": "1211"
                                },
                                {
                                    "title": "Notes from a Small Island",
                                    "user_count": "1148"
                                },
                                {
                                    "title": "Harry Potter Collection (Harry Potter, #1-6)",
                                    "user_count": "1110"
                                },
                                {
                                    "title": "The Lord of the Rings (The Lord of the Rings, #1-3)",
                                    "user_count": "1094"
                                },
                                {
                                    "title": "The Salmon of Doubt (Dirk Gently, #3)",
                                    "user_count": "1069"
                                },
                                {
                                    "title": "Dune Messiah (Dune Chronicles #2)",
                                    "user_count": "1051"
                                },
                                {
                                    "title": "Treasure Island",
                                    "user_count": "1040"
                                },
                                {
                                    "title": "Tropic of Cancer",
                                    "user_count": "1007"
                                },
                                {
                                    "title": "Harry Potter and the Half-Blood Prince (Harry Potter, #6)",
                                    "user_count": "973"
                                },
                                {
                                    "title": "Children of Dune (Dune Chronicles #3)",
                                    "user_count": "913"
                                },
                                {
                                    "title": "The Power of One (The Power of One, #1)",
                                    "user_count": "866"
                                },
                                {
                                    "title": "Heretics of Dune (Dune Chronicles #5)",
                                    "user_count": "815"
                                },
                                {
                                    "title": "J.R.R. Tolkien 4-Book Boxed Set: The Hobbit and The Lord of the Rings",
                                    "user_count": "801"
                                },
                                {
                                    "title": "Job: A Comedy of Justice",
                                    "user_count": "737"
                                },
                                {
                                    "title": "The Door Into Summer",
                                    "user_count": "724"
                                },
                                {
                                    "title": "Mostly Harmless (Hitchhiker's Guide to the Galaxy, #5)",
                                    "user_count": "696"
                                },
                                {
                                    "title": "I am Charlotte Simmons",
                                    "user_count": "661"
                                },
                                {
                                    "title": "The Broken Wings",
                                    "user_count": "659"
                                },
                                {
                                    "title": "Killing Yourself to Live: 85% of a True Story",
                                    "user_count": "608"
                                },
                                {
                                    "title": "The Portrait of a Lady",
                                    "user_count": "580"
                                },
                                {
                                    "title": "The Lover",
                                    "user_count": "567"
                                },
                                {
                                    "title": "Slouching Towards Bethlehem",
                                    "user_count": "564"
                                },
                                {
                                    "title": "We the Living",
                                    "user_count": "563"
                                },
                                {
                                    "title": "Cryptonomicon",
                                    "user_count": "551"
                                },
                                {
                                    "title": "Fullmetal Alchemist, Vol. 1 (Fullmetal Alchemist, #1)",
                                    "user_count": "533"
                                },
                                {
                                    "title": "Libra",
                                    "user_count": "525"
                                },
                                {
                                    "title": "Maurice",
                                    "user_count": "525"
                                },
                                {
                                    "title": "The Elegant Universe: Superstrings, Hidden Dimensions, and the Quest for the Ultimate Theory",
                                    "user_count": "524"
                                },
                                {
                                    "title": "Chapterhouse: Dune (Dune Chronicles #6)",
                                    "user_count": "513"
                                },
                                {
                                    "title": "One Hundred Years of Solitude",
                                    "user_count": "504"
                                },
                                {
                                    "title": "What to Expect the First Year (What to Expect)",
                                    "user_count": "495"
                                },
                                {
                                    "title": "I'm a Stranger Here Myself: Notes on Returning to America after Twenty Years Away",
                                    "user_count": "484"
                                },
                                {
                                    "title": "The Fellowship of the Ring (The Lord of the Rings, #1)",
                                    "user_count": "450"
                                },
                                {
                                    "title": "The Lost Continent: Travels in Small Town America",
                                    "user_count": "447"
                                },
                                {
                                    "title": "Everyday Italian: 125 Simple and Delicious Recipes",
                                    "user_count": "445"
                                },
                                {
                                    "title": "Heidi",
                                    "user_count": "439"
                                },
                                {
                                    "title": "Dirk Gently's Holistic Detective Agency (Dirk Gently #1)",
                                    "user_count": "438"
                                },
                                {
                                    "title": "Tropic of Capricorn",
                                    "user_count": "438"
                                },
                                {
                                    "title": "Neither Here nor There: Travels in Europe",
                                    "user_count": "438"
                                },
                                {
                                    "title": "City of Glass (The New York Trilogy, #1)",
                                    "user_count": "435"
                                },
                                {
                                    "title": "In a Sunburned Country",
                                    "user_count": "431"
                                },
                                {
                                    "title": "The Virtue of Selfishness: A New Concept of Egoism",
                                    "user_count": "430"
                                },
                                {
                                    "title": "A Short History of Nearly Everything",
                                    "user_count": "427"
                                },
                                {
                                    "title": "Harry Potter and the Order of the Phoenix (Harry Potter, #5)",
                                    "user_count": "400"
                                },
                                {
                                    "title": "Sherlock Holmes: The Complete Novels and Stories, Volume I",
                                    "user_count": "387"
                                },
                                {
                                    "title": "Daniel Deronda",
                                    "user_count": "385"
                                },
                                {
                                    "title": "Madame Bovary",
                                    "user_count": "384"
                                },
                                {
                                    "title": "Stranger in a Strange Land",
                                    "user_count": "374"
                                },
                                {
                                    "title": "Digging to America",
                                    "user_count": "373"
                                },
                                {
                                    "title": "The Da Vinci Code (Robert Langdon, #2)",
                                    "user_count": "372"
                                },
                                {
                                    "title": "The Mother Tongue: English and How It Got That Way",
                                    "user_count": "348"
                                },
                                {
                                    "title": "The Phantom Tollbooth",
                                    "user_count": "346"
                                },
                                {
                                    "title": "The Long Dark Tea-Time of the Soul (Dirk Gently, #2)",
                                    "user_count": "343"
                                },
                                {
                                    "title": "The Game: Penetrating the Secret Society of Pickup Artists",
                                    "user_count": "319"
                                },
                                {
                                    "title": "Breaking the Spell: Religion as a Natural Phenomenon",
                                    "user_count": "316"
                                },
                                {
                                    "title": "The Tipping Point: How Little Things Can Make a Big Difference",
                                    "user_count": "315"
                                },
                                {
                                    "title": "Robinson Crusoe",
                                    "user_count": "309"
                                },
                                {
                                    "title": "Agamemnon (Oresteia, #1)",
                                    "user_count": "306"
                                },
                                {
                                    "title": "Collapse: How Societies Choose to Fail or Succeed",
                                    "user_count": "306"
                                },
                                {
                                    "title": "Trump: The Art of the Deal",
                                    "user_count": "305"
                                },
                                {
                                    "title": "V for Vendetta",
                                    "user_count": "17"
                                },
                                {
                                    "title": "Welcome to the Monkey House",
                                    "user_count": "17"
                                },
                                {
                                    "title": "Fall on Your Knees",
                                    "user_count": "17"
                                },
                                {
                                    "title": "Persepolis 2: The Story of a Return (Persepolis, #2)",
                                    "user_count": "17"
                                },
                                {
                                    "title": "The Glass Castle",
                                    "user_count": "17"
                                },
                                {
                                    "title": "Disclosure",
                                    "user_count": "17"
                                },
                                {
                                    "title": "Survival in Auschwitz",
                                    "user_count": "17"
                                },
                                {
                                    "title": "Last Chance to See",
                                    "user_count": "17"
                                },
                                {
                                    "title": "Suzanne's Diary for Nicholas",
                                    "user_count": "17"
                                },
                                {
                                    "title": "Animal Farm",
                                    "user_count": "17"
                                },
                                {
                                    "title": "The Metamorphosis and Other Stories",
                                    "user_count": "16"
                                },
                                {
                                    "title": "1421: The Year China Discovered America",
                                    "user_count": "16"
                                },
                                {
                                    "title": "Even Cowgirls Get the Blues",
                                    "user_count": "16"
                                },
                                {
                                    "title": "The Sun Also Rises",
                                    "user_count": "16"
                                },
                                {
                                    "title": "The Lake of Souls (Cirque Du Freak, #10)",
                                    "user_count": "16"
                                },
                                {
                                    "title": "The Informers",
                                    "user_count": "16"
                                },
                                {
                                    "title": "The Electric Kool-Aid Acid Test",
                                    "user_count": "16"
                                },
                                {
                                    "title": "Song of Susannah (The Dark Tower, #6)",
                                    "user_count": "16"
                                },
                                {
                                    "title": "World Without End (The Kingsbridge Series, #2)",
                                    "user_count": "16"
                                },
                                {
                                    "title": "Less Than Zero",
                                    "user_count": "16"
                                },
                                {
                                    "title": "The Red Pony",
                                    "user_count": "16"
                                },
                                {
                                    "title": "Player Piano",
                                    "user_count": "15"
                                },
                                {
                                    "title": "The Terror",
                                    "user_count": "15"
                                },
                                {
                                    "title": "By the Shores of Silver Lake  (Little House, #5)",
                                    "user_count": "15"
                                },
                                {
                                    "title": "Fear and Loathing on the Campaign Trail '72",
                                    "user_count": "15"
                                },
                                {
                                    "title": "Lord of the Flies",
                                    "user_count": "15"
                                },
                                {
                                    "title": "Don Quixote",
                                    "user_count": "15"
                                },
                                {
                                    "title": "Hocus Pocus",
                                    "user_count": "15"
                                },
                                {
                                    "title": "Dreamland",
                                    "user_count": "15"
                                },
                                {
                                    "title": "The Cider House Rules",
                                    "user_count": "15"
                                },
                                {
                                    "title": "The Poetry of Pablo Neruda",
                                    "user_count": "15"
                                },
                                {
                                    "title": "A Spot of Bother",
                                    "user_count": "15"
                                },
                                {
                                    "title": "Emma",
                                    "user_count": "15"
                                },
                                {
                                    "title": "Jewel",
                                    "user_count": "15"
                                },
                                {
                                    "title": "Jesus Freaks: Stories of Those Who Stood for Jesus, the Ultimate Jesus Freaks (Jesus Freaks, #1)",
                                    "user_count": "15"
                                },
                                {
                                    "title": "Five Little Peppers and How They Grew",
                                    "user_count": "15"
                                },
                                {
                                    "title": "Fear of Flying",
                                    "user_count": "14"
                                },
                                {
                                    "title": "Homage to Catalonia",
                                    "user_count": "14"
                                },
                                {
                                    "title": "Teacher Man (Frank McCourt, #3)",
                                    "user_count": "14"
                                },
                                {
                                    "title": "The Rules of Attraction",
                                    "user_count": "14"
                                },
                                {
                                    "title": "World War Z: An Oral History of the Zombie War",
                                    "user_count": "14"
                                },
                                {
                                    "title": "Diamonds Are Forever (James Bond, #4)",
                                    "user_count": "14"
                                },
                                {
                                    "title": "Where the Heart Is",
                                    "user_count": "14"
                                },
                                {
                                    "title": "In the Skin of a Lion",
                                    "user_count": "14"
                                },
                                {
                                    "title": "Oblivion",
                                    "user_count": "14"
                                },
                                {
                                    "title": "The Shipping News",
                                    "user_count": "14"
                                },
                                {
                                    "title": "In the Company of Cheerful Ladies (No. 1 Ladies' Detective Agency, #6)",
                                    "user_count": "14"
                                },
                                {
                                    "title": "The Long Patrol (Redwall, #10)",
                                    "user_count": "14"
                                },
                                {
                                    "title": "We Were the Mulvaneys",
                                    "user_count": "14"
                                },
                                {
                                    "title": "The Lost World (Jurassic Park, #2)",
                                    "user_count": "14"
                                },
                                {
                                    "title": "The Moonstone",
                                    "user_count": "14"
                                },
                                {
                                    "title": "Watermelon (Walsh Family, #1)",
                                    "user_count": "14"
                                },
                                {
                                    "title": "Bluebeard",
                                    "user_count": "13"
                                },
                                {
                                    "title": "What Do You Care What Other People Think?",
                                    "user_count": "13"
                                },
                                {
                                    "title": "Rose Daughter",
                                    "user_count": "13"
                                },
                                {
                                    "title": "Life, the Universe and Everything (Hitchhiker's Guide, #3)",
                                    "user_count": "12"
                                },
                                {
                                    "title": "Emily of New Moon (Emily, #1)",
                                    "user_count": "12"
                                },
                                {
                                    "title": "Two for the Dough (Stephanie Plum, #2)",
                                    "user_count": "12"
                                },
                                {
                                    "title": "Ender's Shadow (Ender's Shadow, #1)",
                                    "user_count": "12"
                                },
                                {
                                    "title": "Crossing to Safety",
                                    "user_count": "12"
                                },
                                {
                                    "title": "Rachel's Holiday (Walsh Family, #2)",
                                    "user_count": "12"
                                },
                                {
                                    "title": "Raise High the Roof Beam, Carpenters & Seymour: An Introduction",
                                    "user_count": "12"
                                },
                                {
                                    "title": "Redwall (Redwall, #1)",
                                    "user_count": "12"
                                },
                                {
                                    "title": "Salamandastron (Redwall, #5)",
                                    "user_count": "12"
                                },
                                {
                                    "title": "Book of the Dead (Kay Scarpetta, #15)",
                                    "user_count": "12"
                                },
                                {
                                    "title": "The Sirens of Titan",
                                    "user_count": "12"
                                },
                                {
                                    "title": "How to Stop Worrying and Start Living",
                                    "user_count": "12"
                                },
                                {
                                    "title": "Hot Six (Stephanie Plum, #6)",
                                    "user_count": "12"
                                },
                                {
                                    "title": "The Audacity of Hope: Thoughts on Reclaiming the American Dream",
                                    "user_count": "12"
                                },
                                {
                                    "title": "Year of Wonders",
                                    "user_count": "12"
                                },
                                {
                                    "title": "The Long Walk",
                                    "user_count": "12"
                                },
                                {
                                    "title": "Consider the Lobster and Other Essays",
                                    "user_count": "11"
                                },
                                {
                                    "title": "Phenomenology of Spirit",
                                    "user_count": "11"
                                },
                                {
                                    "title": "Demons",
                                    "user_count": "11"
                                },
                                {
                                    "title": "Birdsong",
                                    "user_count": "11"
                                },
                                {
                                    "title": "The Baron in the Trees",
                                    "user_count": "11"
                                },
                                {
                                    "title": "A Map of the World",
                                    "user_count": "11"
                                },
                                {
                                    "title": "Jitterbug Perfume",
                                    "user_count": "11"
                                },
                                {
                                    "title": "The Hound of the Baskervilles",
                                    "user_count": "11"
                                },
                                {
                                    "title": "What Is the What",
                                    "user_count": "10"
                                },
                                {
                                    "title": "On the Banks of Plum Creek  (Little House, #4)",
                                    "user_count": "10"
                                },
                                {
                                    "title": "Bleach, Volume 15",
                                    "user_count": "10"
                                },
                                {
                                    "title": "The Blank Slate: The Modern Denial of Human Nature",
                                    "user_count": "10"
                                },
                                {
                                    "title": "As the Crow Flies",
                                    "user_count": "10"
                                },
                                {
                                    "title": "The Client",
                                    "user_count": "10"
                                },
                                {
                                    "title": "Going Solo",
                                    "user_count": "10"
                                },
                                {
                                    "title": "James and the Giant Peach",
                                    "user_count": "9"
                                },
                                {
                                    "title": "Here on Earth",
                                    "user_count": "9"
                                },
                                {
                                    "title": "Desert Flower",
                                    "user_count": "9"
                                },
                                {
                                    "title": "The Vampire's Assistant (Cirque Du Freak, #2)",
                                    "user_count": "9"
                                },
                                {
                                    "title": "Red Prophet (Tales of Alvin Maker, #2)",
                                    "user_count": "9"
                                },
                                {
                                    "title": "Slapstick, or Lonesome No More!",
                                    "user_count": "9"
                                },
                                {
                                    "title": "Songbook",
                                    "user_count": "9"
                                },
                                {
                                    "title": "Bleach, Volume 01",
                                    "user_count": "9"
                                },
                                {
                                    "title": "Betsy-Tacy (Betsy-Tacy, #1)",
                                    "user_count": "9"
                                },
                                {
                                    "title": "Assassination Vacation",
                                    "user_count": "9"
                                },
                                {
                                    "title": "Wuthering Heights",
                                    "user_count": "9"
                                },
                                {
                                    "title": "The Moor's Last Sigh",
                                    "user_count": "9"
                                },
                                {
                                    "title": "Vanity Fair",
                                    "user_count": "8"
                                },
                                {
                                    "title": "Deception Point",
                                    "user_count": "8"
                                },
                                {
                                    "title": "Darkness",
                                    "user_count": "8"
                                },
                                {
                                    "title": "Awakening the Buddha Within: Tibetan Wisdom for the Western World",
                                    "user_count": "8"
                                },
                                {
                                    "title": "Fierce Invalids Home from Hot Climates",
                                    "user_count": "8"
                                },
                                {
                                    "title": "Xenocide (Ender's Saga, #3)",
                                    "user_count": "8"
                                },
                                {
                                    "title": "How We Are Hungry",
                                    "user_count": "8"
                                },
                                {
                                    "title": "Last Chance Saloon",
                                    "user_count": "8"
                                },
                                {
                                    "title": "The Comfort of Strangers",
                                    "user_count": "8"
                                },
                                {
                                    "title": "Midnight for Charlie Bone (The Children of the Red King, #1)",
                                    "user_count": "8"
                                },
                                {
                                    "title": "On Her Majesty's Secret Service (James Bond, #11)",
                                    "user_count": "8"
                                },
                                {
                                    "title": "Runaways, Vol. 1: Pride and Joy (Runaways, #1)",
                                    "user_count": "8"
                                },
                                {
                                    "title": "Shadow Divers",
                                    "user_count": "8"
                                },
                                {
                                    "title": "Shadow of the Hegemon (Ender's Shadow, #2)",
                                    "user_count": "8"
                                },
                                {
                                    "title": "She's Come Undone",
                                    "user_count": "8"
                                },
                                {
                                    "title": "Galápagos",
                                    "user_count": "7"
                                },
                                {
                                    "title": "The Count of Monte Cristo",
                                    "user_count": "7"
                                },
                                {
                                    "title": "Mrs. Frisby and the Rats of NIMH (Rats of NIMH, #1)",
                                    "user_count": "7"
                                },
                                {
                                    "title": "Bel Canto",
                                    "user_count": "7"
                                },
                                {
                                    "title": "Pale Fire",
                                    "user_count": "7"
                                },
                                {
                                    "title": "Predator (Kay Scarpetta, #14)",
                                    "user_count": "7"
                                },
                                {
                                    "title": "Skipping Christmas",
                                    "user_count": "7"
                                },
                                {
                                    "title": "Sons of Destiny (Cirque Du Freak, #12)",
                                    "user_count": "7"
                                },
                                {
                                    "title": "The Woman in the Dunes",
                                    "user_count": "6"
                                },
                                {
                                    "title": "Little Altars Everywhere",
                                    "user_count": "6"
                                },
                                {
                                    "title": "Shopaholic and Sister (Shopaholic, #4)",
                                    "user_count": "6"
                                },
                                {
                                    "title": "The Lorax",
                                    "user_count": "5"
                                },
                                {
                                    "title": "The Heart of a Woman",
                                    "user_count": "5"
                                },
                                {
                                    "title": "Hunters of the Dusk (Cirque Du Freak, #7)",
                                    "user_count": "5"
                                },
                                {
                                    "title": "I Can Read With My Eyes Shut!",
                                    "user_count": "5"
                                },
                                {
                                    "title": "King Rat (Asian Saga, #4)",
                                    "user_count": "5"
                                },
                                {
                                    "title": "A Virtuous Woman",
                                    "user_count": "5"
                                },
                                {
                                    "title": "The Quiet American",
                                    "user_count": "5"
                                },
                                {
                                    "title": "Pygmalion & My Fair Lady",
                                    "user_count": "5"
                                },
                                {
                                    "title": "Cradle and All",
                                    "user_count": "5"
                                },
                                {
                                    "title": "Superman: Birthright",
                                    "user_count": "5"
                                },
                                {
                                    "title": "The God of Small Things",
                                    "user_count": "4"
                                },
                                {
                                    "title": "The Complete Short Stories",
                                    "user_count": "4"
                                },
                                {
                                    "title": "The Power of Now: A Guide to Spiritual Enlightenment",
                                    "user_count": "4"
                                },
                                {
                                    "title": "Ahab's Wife, or The Star-Gazer",
                                    "user_count": "4"
                                },
                                {
                                    "title": "The Atonement Child",
                                    "user_count": "4"
                                },
                                {
                                    "title": "Still Life with Woodpecker",
                                    "user_count": "4"
                                },
                                {
                                    "title": "Cannery Row",
                                    "user_count": "4"
                                },
                                {
                                    "title": "Next",
                                    "user_count": "4"
                                },
                                {
                                    "title": "Never Let Me Go",
                                    "user_count": "4"
                                },
                                {
                                    "title": "Loving What Is: Four Questions That Can Change Your Life",
                                    "user_count": "4"
                                },
                                {
                                    "title": "Embroideries",
                                    "user_count": "4"
                                },
                                {
                                    "title": "I Hope They Serve Beer in Hell (Tucker Max, #1)",
                                    "user_count": "4"
                                },
                                {
                                    "title": "Freak the Mighty (Freak The Mighty, #1)",
                                    "user_count": "4"
                                },
                                {
                                    "title": "The Street Lawyer",
                                    "user_count": "3"
                                },
                                {
                                    "title": "The Bell Jar",
                                    "user_count": "3"
                                },
                                {
                                    "title": "The Canterbury Tales",
                                    "user_count": "3"
                                },
                                {
                                    "title": "Herzog",
                                    "user_count": "3"
                                },
                                {
                                    "title": "Haroun and the Sea of Stories (Khalifa Brothers, #1)",
                                    "user_count": "3"
                                },
                                {
                                    "title": "Sputnik Sweetheart",
                                    "user_count": "2"
                                },
                                {
                                    "title": "Deadeye Dick",
                                    "user_count": "2"
                                },
                                {
                                    "title": "The World According to Garp",
                                    "user_count": "2"
                                },
                                {
                                    "title": "Ghostwritten",
                                    "user_count": "2"
                                },
                                {
                                    "title": "The Bookseller of Kabul",
                                    "user_count": "1"
                                },
                                {
                                    "title": "The Divine Comedy",
                                    "user_count": "1"
                                },
                                {
                                    "title": "Harry Potter and the Sorcerer's Stone (Harry Potter, #1)",
                                    "user_count": "287"
                                },
                                {
                                    "title": "Fire Sea (The Death Gate Cycle, #3)",
                                    "user_count": "286"
                                },
                                {
                                    "title": "Wild Swans: Three Daughters of China",
                                    "user_count": "279"
                                },
                                {
                                    "title": "Metamorphoses",
                                    "user_count": "277"
                                },
                                {
                                    "title": "Think and Grow Rich: The Landmark Bestseller - Now Revised and Updated for the 21st Century",
                                    "user_count": "273"
                                },
                                {
                                    "title": "Hatchet (Brian's Saga, #1)",
                                    "user_count": "269"
                                },
                                {
                                    "title": "Middlesex",
                                    "user_count": "268"
                                },
                                {
                                    "title": "The Confusion (The Baroque Cycle, #2)",
                                    "user_count": "267"
                                },
                                {
                                    "title": "Hamlet",
                                    "user_count": "265"
                                },
                                {
                                    "title": "Atlas Shrugged",
                                    "user_count": "262"
                                },
                                {
                                    "title": "Snow Crash",
                                    "user_count": "261"
                                },
                                {
                                    "title": "Pompeii",
                                    "user_count": "260"
                                },
                                {
                                    "title": "The Odyssey",
                                    "user_count": "250"
                                },
                                {
                                    "title": "Leviathan",
                                    "user_count": "249"
                                },
                                {
                                    "title": "The Iliad/The Odyssey",
                                    "user_count": "240"
                                },
                                {
                                    "title": "Zodiac",
                                    "user_count": "240"
                                },
                                {
                                    "title": "The Diamond Age: or, A Young Lady's Illustrated Primer",
                                    "user_count": "239"
                                },
                                {
                                    "title": "Fahrenheit 451",
                                    "user_count": "236"
                                },
                                {
                                    "title": "Play It as It Lays",
                                    "user_count": "232"
                                },
                                {
                                    "title": "The Iliad",
                                    "user_count": "220"
                                },
                                {
                                    "title": "Corelli's Mandolin",
                                    "user_count": "219"
                                },
                                {
                                    "title": "The Brooklyn Follies",
                                    "user_count": "217"
                                },
                                {
                                    "title": "Gravity's Rainbow",
                                    "user_count": "217"
                                },
                                {
                                    "title": "Memoirs of a Geisha",
                                    "user_count": "213"
                                },
                                {
                                    "title": "Time Enough for Love",
                                    "user_count": "208"
                                },
                                {
                                    "title": "Moon Palace",
                                    "user_count": "207"
                                },
                                {
                                    "title": "The Design of Everyday Things",
                                    "user_count": "206"
                                },
                                {
                                    "title": "The Restaurant at the End of the Universe (Hitchhiker's Guide, #2)",
                                    "user_count": "202"
                                },
                                {
                                    "title": "Wild Fire (John Corey, #4)",
                                    "user_count": "198"
                                },
                                {
                                    "title": "Nickel and Dimed: On (Not) Getting By in America",
                                    "user_count": "195"
                                },
                                {
                                    "title": "Falling Angels",
                                    "user_count": "194"
                                },
                                {
                                    "title": "Martin Chuzzlewit",
                                    "user_count": "189"
                                },
                                {
                                    "title": "Giada's Family Dinners",
                                    "user_count": "189"
                                },
                                {
                                    "title": "Wild at Heart: Discovering the Secret of a Man's Soul",
                                    "user_count": "184"
                                },
                                {
                                    "title": "The New York Trilogy",
                                    "user_count": "182"
                                },
                                {
                                    "title": "Surely You're Joking, Mr. Feynman!: Adventures of a Curious Character",
                                    "user_count": "182"
                                },
                                {
                                    "title": "Sailing Alone Around the Room: New and Selected Poems",
                                    "user_count": "180"
                                },
                                {
                                    "title": "The Broker",
                                    "user_count": "180"
                                },
                                {
                                    "title": "A Separate Peace",
                                    "user_count": "178"
                                },
                                {
                                    "title": "Blue Ocean Strategy: How To Create Uncontested Market Space And Make The Competition Irrelevant",
                                    "user_count": "176"
                                },
                                {
                                    "title": "Liar's Poker",
                                    "user_count": "174"
                                },
                                {
                                    "title": "The War of Art: Break Through the Blocks & Win Your Inner Creative Battles",
                                    "user_count": "174"
                                },
                                {
                                    "title": "War and Peace",
                                    "user_count": "174"
                                },
                                {
                                    "title": "A Million Little Pieces",
                                    "user_count": "172"
                                },
                                {
                                    "title": "A Home at the End of the World",
                                    "user_count": "169"
                                },
                                {
                                    "title": "The Crying of Lot 49",
                                    "user_count": "168"
                                },
                                {
                                    "title": "Another Bullshit Night in Suck City",
                                    "user_count": "166"
                                },
                                {
                                    "title": "Angels & Demons  (Robert Langdon, #1)",
                                    "user_count": "166"
                                },
                                {
                                    "title": "West with the Night",
                                    "user_count": "164"
                                },
                                {
                                    "title": "The Natural Way to Draw",
                                    "user_count": "164"
                                },
                                {
                                    "title": "An Ideal Husband",
                                    "user_count": "162"
                                },
                                {
                                    "title": "A Painted House",
                                    "user_count": "162"
                                },
                                {
                                    "title": "Sentimental Education",
                                    "user_count": "161"
                                },
                                {
                                    "title": "Little Women (Little Women, #1)",
                                    "user_count": "157"
                                },
                                {
                                    "title": "The Oresteia  (Ορέστεια, #1-3)",
                                    "user_count": "157"
                                },
                                {
                                    "title": "Forever Amber ",
                                    "user_count": "157"
                                },
                                {
                                    "title": "The Partner",
                                    "user_count": "156"
                                },
                                {
                                    "title": "I Like You: Hospitality Under the Influence",
                                    "user_count": "156"
                                },
                                {
                                    "title": "Brief Interviews with Hideous Men",
                                    "user_count": "154"
                                },
                                {
                                    "title": "Into the Wild",
                                    "user_count": "152"
                                },
                                {
                                    "title": "America (The Book): A Citizen's Guide to Democracy Inaction",
                                    "user_count": "152"
                                },
                                {
                                    "title": "Hard Eight (Stephanie Plum, #8)",
                                    "user_count": "149"
                                },
                                {
                                    "title": "The Zahir",
                                    "user_count": "149"
                                },
                                {
                                    "title": "Live and Let Die (James Bond, #2)",
                                    "user_count": "149"
                                },
                                {
                                    "title": "A Tale of Two Cities",
                                    "user_count": "148"
                                },
                                {
                                    "title": "The Deep End of the Ocean (Cappadora Family, #1)",
                                    "user_count": "147"
                                },
                                {
                                    "title": "Persuasion",
                                    "user_count": "147"
                                },
                                {
                                    "title": "Way of the Peaceful Warrior: A Book That Changes Lives",
                                    "user_count": "145"
                                },
                                {
                                    "title": "Howards End",
                                    "user_count": "143"
                                },
                                {
                                    "title": "The Innocent Man: Murder and Injustice in a Small Town",
                                    "user_count": "142"
                                },
                                {
                                    "title": "Anthem",
                                    "user_count": "142"
                                },
                                {
                                    "title": "White Teeth",
                                    "user_count": "142"
                                },
                                {
                                    "title": "The Book of Ruth",
                                    "user_count": "139"
                                },
                                {
                                    "title": "Snow Flower and the Secret Fan",
                                    "user_count": "139"
                                },
                                {
                                    "title": "The Taste of Home Cookbook",
                                    "user_count": "139"
                                },
                                {
                                    "title": "Lipstick Jungle",
                                    "user_count": "137"
                                },
                                {
                                    "title": "Shalimar the Clown",
                                    "user_count": "134"
                                },
                                {
                                    "title": "The Amazing Adventures of Kavalier & Clay",
                                    "user_count": "129"
                                },
                                {
                                    "title": "Baltasar and Blimunda",
                                    "user_count": "129"
                                },
                                {
                                    "title": "The Innovator's Dilemma: The Revolutionary Book that Will Change the Way You Do Business (Collins Business Essentials)",
                                    "user_count": "127"
                                },
                                {
                                    "title": "Black Beauty",
                                    "user_count": "127"
                                },
                                {
                                    "title": "The Good Earth (House of Earth, #1)",
                                    "user_count": "126"
                                },
                                {
                                    "title": "The Hungry Tide",
                                    "user_count": "126"
                                },
                                {
                                    "title": "Zen and the Art of Motorcycle Maintenance: An Inquiry Into Values",
                                    "user_count": "125"
                                },
                                {
                                    "title": "The Richest Man in Babylon",
                                    "user_count": "123"
                                },
                                {
                                    "title": "Memories of My Melancholy Whores",
                                    "user_count": "123"
                                },
                                {
                                    "title": "Slaughterhouse-Five",
                                    "user_count": "123"
                                },
                                {
                                    "title": "The Plot Against America",
                                    "user_count": "118"
                                },
                                {
                                    "title": "Interpreter of Maladies",
                                    "user_count": "116"
                                },
                                {
                                    "title": "Quicksilver (The Baroque Cycle, #1)",
                                    "user_count": "116"
                                },
                                {
                                    "title": "The Heart of the Matter",
                                    "user_count": "116"
                                },
                                {
                                    "title": "Villa Incognito",
                                    "user_count": "115"
                                },
                                {
                                    "title": "The Automatic Millionaire: A Powerful One-Step Plan to Live and Finish Rich",
                                    "user_count": "114"
                                },
                                {
                                    "title": "From Beirut to Jerusalem",
                                    "user_count": "114"
                                },
                                {
                                    "title": "Freakonomics: A Rogue Economist Explores the Hidden Side of Everything (Freakonomics, #1)",
                                    "user_count": "113"
                                },
                                {
                                    "title": "From the Mixed-Up Files of Mrs. Basil E. Frankweiler",
                                    "user_count": "112"
                                },
                                {
                                    "title": "High Five (Stephanie Plum, #5)",
                                    "user_count": "111"
                                },
                                {
                                    "title": "Truman",
                                    "user_count": "110"
                                },
                                {
                                    "title": "The History of Love",
                                    "user_count": "110"
                                },
                                {
                                    "title": "The List",
                                    "user_count": "110"
                                },
                                {
                                    "title": "The Westing Game",
                                    "user_count": "109"
                                },
                                {
                                    "title": "Sex, Drugs, and Cocoa Puffs: A Low Culture Manifesto",
                                    "user_count": "108"
                                },
                                {
                                    "title": "The Way the Crow Flies",
                                    "user_count": "108"
                                },
                                {
                                    "title": "One Fish, Two Fish, Red Fish, Blue Fish",
                                    "user_count": "107"
                                },
                                {
                                    "title": "Lost Horizon",
                                    "user_count": "107"
                                },
                                {
                                    "title": "The Wedding (The Notebook, #2)",
                                    "user_count": "107"
                                },
                                {
                                    "title": "The Johnstown Flood",
                                    "user_count": "106"
                                },
                                {
                                    "title": "A Room with a View",
                                    "user_count": "106"
                                },
                                {
                                    "title": "Perfume: The Story of a Murderer",
                                    "user_count": "105"
                                },
                                {
                                    "title": "The Complete Sherlock Holmes, Vol 2",
                                    "user_count": "105"
                                },
                                {
                                    "title": "The World Is Flat: A Brief History of the Twenty-first Century",
                                    "user_count": "105"
                                },
                                {
                                    "title": "Sex and the City",
                                    "user_count": "104"
                                },
                                {
                                    "title": "A Case of Need",
                                    "user_count": "104"
                                },
                                {
                                    "title": "The Bone Collector (Lincoln Rhyme, #1)",
                                    "user_count": "103"
                                },
                                {
                                    "title": "No Logo",
                                    "user_count": "102"
                                },
                                {
                                    "title": "A Little Princess",
                                    "user_count": "102"
                                },
                                {
                                    "title": "The Grapes of Wrath",
                                    "user_count": "100"
                                },
                                {
                                    "title": "So Long, and Thanks for All the Fish (Hitchhiker's Guide to the Galaxy, #4)",
                                    "user_count": "99"
                                },
                                {
                                    "title": "American Gods (American Gods, #1)",
                                    "user_count": "99"
                                },
                                {
                                    "title": "The Egypt Game (Game, #1)",
                                    "user_count": "99"
                                },
                                {
                                    "title": "The Rapture of Canaan",
                                    "user_count": "99"
                                },
                                {
                                    "title": "Hey Nostradamus!",
                                    "user_count": "98"
                                },
                                {
                                    "title": "Kurt Vonnegut's Cat's Cradle (Modern Critical Interpretations)",
                                    "user_count": "97"
                                },
                                {
                                    "title": "Economics in One Lesson: The Shortest & Surest Way to Understand Basic Economics",
                                    "user_count": "96"
                                },
                                {
                                    "title": "Until I Find You",
                                    "user_count": "96"
                                },
                                {
                                    "title": "Lysistrata",
                                    "user_count": "95"
                                },
                                {
                                    "title": "The Physician (Cole Family Trilogy, #1)",
                                    "user_count": "95"
                                },
                                {
                                    "title": "Guns, Germs, and Steel: The Fates of Human Societies",
                                    "user_count": "94"
                                },
                                {
                                    "title": "Of Mice and Men",
                                    "user_count": "93"
                                },
                                {
                                    "title": "Harry Potter Schoolbooks Box Set: Two Classic Books from the Library of Hogwarts School of Witchcraft and Wizardry",
                                    "user_count": "92"
                                },
                                {
                                    "title": "The River (Brian's Saga, #2)",
                                    "user_count": "92"
                                },
                                {
                                    "title": "Twenty Love Poems and a Song of Despair",
                                    "user_count": "92"
                                },
                                {
                                    "title": "A Great and Terrible Beauty (Gemma Doyle, #1)",
                                    "user_count": "92"
                                },
                                {
                                    "title": "Songs in Ordinary Time",
                                    "user_count": "91"
                                },
                                {
                                    "title": "Tunnels of Blood (Cirque Du Freak, #3)",
                                    "user_count": "90"
                                },
                                {
                                    "title": "Fast Food Nation: The Dark Side of the All-American Meal",
                                    "user_count": "90"
                                },
                                {
                                    "title": "Congo",
                                    "user_count": "90"
                                },
                                {
                                    "title": "The Complete Anne of Green Gables Boxed Set (Anne of Green Gables, #1-8)",
                                    "user_count": "89"
                                },
                                {
                                    "title": "The Hobbit",
                                    "user_count": "89"
                                },
                                {
                                    "title": "Into Thin Air: A Personal Account of the Mount Everest Disaster",
                                    "user_count": "88"
                                },
                                {
                                    "title": "Wolves of the Calla (The Dark Tower, #5)",
                                    "user_count": "88"
                                },
                                {
                                    "title": "Warrior of the Light",
                                    "user_count": "88"
                                },
                                {
                                    "title": "Ilium (Ilium, #1)",
                                    "user_count": "88"
                                },
                                {
                                    "title": "Sunshine",
                                    "user_count": "87"
                                },
                                {
                                    "title": "Prep",
                                    "user_count": "87"
                                },
                                {
                                    "title": "The Complete Short Novels",
                                    "user_count": "86"
                                },
                                {
                                    "title": "Kafka on the Shore",
                                    "user_count": "86"
                                },
                                {
                                    "title": "The Adventures of Sherlock Holmes",
                                    "user_count": "86"
                                },
                                {
                                    "title": "Heart of Darkness",
                                    "user_count": "84"
                                },
                                {
                                    "title": "Veronika Decides to Die",
                                    "user_count": "84"
                                },
                                {
                                    "title": "Moneyball: The Art of Winning an Unfair Game",
                                    "user_count": "83"
                                },
                                {
                                    "title": "The America's Test Kitchen Family Cookbook",
                                    "user_count": "83"
                                },
                                {
                                    "title": "The Fountainhead",
                                    "user_count": "83"
                                },
                                {
                                    "title": "Team of Rivals: The Political Genius of Abraham Lincoln",
                                    "user_count": "83"
                                },
                                {
                                    "title": "True Believer (Jeremy Marsh & Lexie Darnell, #1)",
                                    "user_count": "83"
                                },
                                {
                                    "title": "Complications: A Surgeon's Notes on an Imperfect Science",
                                    "user_count": "82"
                                },
                                {
                                    "title": "Stranger than Fiction",
                                    "user_count": "82"
                                },
                                {
                                    "title": "Brave New World / Brave New World Revisited",
                                    "user_count": "82"
                                },
                                {
                                    "title": "Like Water for Chocolate",
                                    "user_count": "81"
                                },
                                {
                                    "title": "All the Names",
                                    "user_count": "81"
                                },
                                {
                                    "title": "The 48 Laws of Power",
                                    "user_count": "81"
                                },
                                {
                                    "title": "A Midsummer Night's Dream",
                                    "user_count": "81"
                                },
                                {
                                    "title": "The Pilot's Wife",
                                    "user_count": "81"
                                },
                                {
                                    "title": "The Long Walk: The True Story of a Trek to Freedom",
                                    "user_count": "80"
                                },
                                {
                                    "title": "The View from Saturday",
                                    "user_count": "79"
                                },
                                {
                                    "title": "The Power and the Glory",
                                    "user_count": "79"
                                },
                                {
                                    "title": "The Histories",
                                    "user_count": "79"
                                },
                                {
                                    "title": "The Wonderful Story of Henry Sugar and Six More",
                                    "user_count": "79"
                                },
                                {
                                    "title": "The Amber Room",
                                    "user_count": "78"
                                },
                                {
                                    "title": "The Curious Incident of the Dog in the Night-Time",
                                    "user_count": "78"
                                },
                                {
                                    "title": "The Bellmaker (Redwall, #7)",
                                    "user_count": "77"
                                },
                                {
                                    "title": "Truth and Beauty",
                                    "user_count": "77"
                                },
                                {
                                    "title": "The Long Winter (Little House, #6)",
                                    "user_count": "77"
                                },
                                {
                                    "title": "All the King's Men",
                                    "user_count": "76"
                                },
                                {
                                    "title": "The Lost Boy (Dave Pelzer #2)",
                                    "user_count": "76"
                                },
                                {
                                    "title": "My Name is Red",
                                    "user_count": "75"
                                },
                                {
                                    "title": "Revolting Rhymes",
                                    "user_count": "74"
                                },
                                {
                                    "title": "The Rainmaker",
                                    "user_count": "74"
                                },
                                {
                                    "title": "Six Easy Pieces: Essentials of Physics By Its Most Brilliant Teacher",
                                    "user_count": "73"
                                },
                                {
                                    "title": "The Alchemist",
                                    "user_count": "73"
                                },
                                {
                                    "title": "A Widow for One Year",
                                    "user_count": "73"
                                },
                                {
                                    "title": "Pride and Prejudice",
                                    "user_count": "71"
                                },
                                {
                                    "title": "The Dark Tower (The Dark Tower, #7)",
                                    "user_count": "71"
                                },
                                {
                                    "title": "A Lesson Before Dying",
                                    "user_count": "71"
                                },
                                {
                                    "title": "The Summons",
                                    "user_count": "70"
                                },
                                {
                                    "title": "Girl with a Pearl Earring",
                                    "user_count": "70"
                                },
                                {
                                    "title": "Getting Things Done: The Art of Stress-Free Productivity",
                                    "user_count": "70"
                                },
                                {
                                    "title": "How to Win Friends and Influence People",
                                    "user_count": "69"
                                },
                                {
                                    "title": "Timbuktu",
                                    "user_count": "69"
                                },
                                {
                                    "title": "Narcissus and Goldmund",
                                    "user_count": "69"
                                },
                                {
                                    "title": "The War of the Worlds",
                                    "user_count": "69"
                                },
                                {
                                    "title": "A History of the World in 6 Glasses",
                                    "user_count": "69"
                                },
                                {
                                    "title": "Blind Willow, Sleeping Woman",
                                    "user_count": "68"
                                },
                                {
                                    "title": "It's Not About the Bike: My Journey Back to Life",
                                    "user_count": "68"
                                },
                                {
                                    "title": "The Rescue",
                                    "user_count": "68"
                                },
                                {
                                    "title": "The Picture of Dorian Gray",
                                    "user_count": "68"
                                },
                                {
                                    "title": "The Omnivore's Dilemma: A Natural History of Four Meals",
                                    "user_count": "68"
                                },
                                {
                                    "title": "The Testament",
                                    "user_count": "67"
                                },
                                {
                                    "title": "The Snows of Kilimanjaro and Other Stories",
                                    "user_count": "67"
                                },
                                {
                                    "title": "The Pilgrimage",
                                    "user_count": "67"
                                },
                                {
                                    "title": "Rachael Ray 365: No Repeats: A Year of Deliciously Different Dinners",
                                    "user_count": "67"
                                },
                                {
                                    "title": "A History of God: The 4,000-Year Quest of Judaism, Christianity, and Islam",
                                    "user_count": "67"
                                },
                                {
                                    "title": "The Barefoot Contessa Cookbook",
                                    "user_count": "66"
                                },
                                {
                                    "title": "The Autograph Man",
                                    "user_count": "65"
                                },
                                {
                                    "title": "Half Asleep in Frog Pajamas",
                                    "user_count": "65"
                                },
                                {
                                    "title": "Ways of Seeing",
                                    "user_count": "65"
                                },
                                {
                                    "title": "The Second Summer of the Sisterhood (Sisterhood, #2)",
                                    "user_count": "65"
                                },
                                {
                                    "title": "A House for Mr Biswas",
                                    "user_count": "65"
                                },
                                {
                                    "title": "Lolita",
                                    "user_count": "64"
                                },
                                {
                                    "title": "A Briefer History of Time",
                                    "user_count": "64"
                                },
                                {
                                    "title": "Horton Hears a Who!",
                                    "user_count": "64"
                                },
                                {
                                    "title": "The Brethren",
                                    "user_count": "64"
                                },
                                {
                                    "title": "Inés of My Soul",
                                    "user_count": "64"
                                },
                                {
                                    "title": "The Three Musketeers",
                                    "user_count": "64"
                                },
                                {
                                    "title": "Jailbird",
                                    "user_count": "63"
                                },
                                {
                                    "title": "Lunar Park",
                                    "user_count": "63"
                                },
                                {
                                    "title": "Beloved",
                                    "user_count": "63"
                                },
                                {
                                    "title": "The Shadow of the Wind (The Cemetery of Forgotten Books,  #1)",
                                    "user_count": "62"
                                },
                                {
                                    "title": "Great Expectations",
                                    "user_count": "62"
                                },
                                {
                                    "title": "His Excellency: George Washington",
                                    "user_count": "62"
                                },
                                {
                                    "title": "Founding Brothers: The Revolutionary Generation",
                                    "user_count": "62"
                                },
                                {
                                    "title": "Selected Stories",
                                    "user_count": "61"
                                },
                                {
                                    "title": "Built to Last: Successful Habits of Visionary Companies",
                                    "user_count": "61"
                                },
                                {
                                    "title": "The Virgin Blue",
                                    "user_count": "61"
                                },
                                {
                                    "title": "The Short Stories",
                                    "user_count": "61"
                                },
                                {
                                    "title": "Doctor No (James Bond, #6)",
                                    "user_count": "60"
                                },
                                {
                                    "title": "Do Androids Dream of Electric Sheep?",
                                    "user_count": "60"
                                },
                                {
                                    "title": "Fear and Loathing in Las Vegas",
                                    "user_count": "60"
                                },
                                {
                                    "title": "Charlie and the Great Glass Elevator (Charlie Bucket, #2)",
                                    "user_count": "60"
                                },
                                {
                                    "title": "Timequake",
                                    "user_count": "60"
                                },
                                {
                                    "title": "The Fortress of Solitude",
                                    "user_count": "60"
                                },
                                {
                                    "title": "Mariel of Redwall (Redwall, #4)",
                                    "user_count": "60"
                                },
                                {
                                    "title": "Don't Make Me Think: A Common Sense Approach to Web Usability",
                                    "user_count": "60"
                                },
                                {
                                    "title": "1776",
                                    "user_count": "59"
                                },
                                {
                                    "title": "Burmese Days",
                                    "user_count": "59"
                                },
                                {
                                    "title": "Man's Search for Meaning",
                                    "user_count": "59"
                                },
                                {
                                    "title": "What Looks Like Crazy on an Ordinary Day (Idlewild, #1)",
                                    "user_count": "59"
                                },
                                {
                                    "title": "The Devil and Miss Prym (On the Seventh Day, #3)",
                                    "user_count": "59"
                                },
                                {
                                    "title": "The Man From St. Petersburg",
                                    "user_count": "59"
                                },
                                {
                                    "title": "A Moveable Feast",
                                    "user_count": "58"
                                },
                                {
                                    "title": "Going After Cacciato",
                                    "user_count": "58"
                                },
                                {
                                    "title": "The Smoke Jumper",
                                    "user_count": "58"
                                },
                                {
                                    "title": "The Valkyries",
                                    "user_count": "58"
                                },
                                {
                                    "title": "The Five Love Languages of Children",
                                    "user_count": "58"
                                },
                                {
                                    "title": "Vampire Mountain (Cirque Du Freak, #4)",
                                    "user_count": "58"
                                },
                                {
                                    "title": "Carter Beats the Devil",
                                    "user_count": "58"
                                },
                                {
                                    "title": "Oedipus Rex  (The Theban Plays, #1)",
                                    "user_count": "57"
                                },
                                {
                                    "title": "The Firm (Penguin Readers, Level 5)",
                                    "user_count": "57"
                                },
                                {
                                    "title": "The Road",
                                    "user_count": "57"
                                },
                                {
                                    "title": "My Life in France",
                                    "user_count": "57"
                                },
                                {
                                    "title": "The Path Between the Seas: The Creation of the Panama Canal, 1870-1914",
                                    "user_count": "57"
                                },
                                {
                                    "title": "Night (The Night Trilogy #1)",
                                    "user_count": "57"
                                },
                                {
                                    "title": "Anil's Ghost",
                                    "user_count": "57"
                                },
                                {
                                    "title": "Salt: A World History",
                                    "user_count": "57"
                                },
                                {
                                    "title": "The Beach House",
                                    "user_count": "56"
                                },
                                {
                                    "title": "Portrait of a Killer: Jack the Ripper - Case Closed",
                                    "user_count": "56"
                                },
                                {
                                    "title": "In Our Time",
                                    "user_count": "56"
                                },
                                {
                                    "title": "Anansi Boys",
                                    "user_count": "56"
                                },
                                {
                                    "title": "Deerskin",
                                    "user_count": "56"
                                },
                                {
                                    "title": "Morality for Beautiful Girls (No. 1 Ladies' Detective Agency, #3)",
                                    "user_count": "56"
                                },
                                {
                                    "title": "Eleven Minutes",
                                    "user_count": "55"
                                },
                                {
                                    "title": "Longitude: The True Story of a Lone Genius Who Solved the Greatest Scientific Problem of His Time",
                                    "user_count": "55"
                                },
                                {
                                    "title": "A Christmas Carol",
                                    "user_count": "55"
                                },
                                {
                                    "title": "The First Four Years  (Little House, #9)",
                                    "user_count": "55"
                                },
                                {
                                    "title": "Love in the Time of Cholera",
                                    "user_count": "54"
                                },
                                {
                                    "title": "My Friend Leonard",
                                    "user_count": "54"
                                },
                                {
                                    "title": "The Brothers Karamazov",
                                    "user_count": "54"
                                },
                                {
                                    "title": "The Clan of the Cave Bear (Earth's Children, #1)",
                                    "user_count": "53"
                                },
                                {
                                    "title": "A Man Without a Country",
                                    "user_count": "53"
                                },
                                {
                                    "title": "The Corrections",
                                    "user_count": "53"
                                },
                                {
                                    "title": "The Aleph and Other Stories ",
                                    "user_count": "53"
                                },
                                {
                                    "title": "The Shadow Rising (Wheel of Time, #4)",
                                    "user_count": "53"
                                },
                                {
                                    "title": "Charlie and the Chocolate Factory (Charlie Bucket, #1)",
                                    "user_count": "53"
                                },
                                {
                                    "title": "In the Lake of the Woods",
                                    "user_count": "53"
                                },
                                {
                                    "title": "Blink",
                                    "user_count": "52"
                                },
                                {
                                    "title": "Me Talk Pretty One Day",
                                    "user_count": "52"
                                },
                                {
                                    "title": "The Fifth Mountain",
                                    "user_count": "51"
                                },
                                {
                                    "title": "Suffer the Children",
                                    "user_count": "51"
                                },
                                {
                                    "title": "Pearls of Lutra (Redwall, #9)",
                                    "user_count": "50"
                                },
                                {
                                    "title": "Persepolis: The Story of a Childhood (Persepolis, #1)",
                                    "user_count": "50"
                                },
                                {
                                    "title": "To Kill a Mockingbird",
                                    "user_count": "50"
                                },
                                {
                                    "title": "Paradise",
                                    "user_count": "50"
                                },
                                {
                                    "title": "Eaters of the Dead",
                                    "user_count": "50"
                                },
                                {
                                    "title": "The Club Dumas",
                                    "user_count": "50"
                                },
                                {
                                    "title": "Special Topics in Calamity Physics",
                                    "user_count": "50"
                                },
                                {
                                    "title": "The Winter of Our Discontent",
                                    "user_count": "49"
                                },
                                {
                                    "title": "How to Be Good",
                                    "user_count": "49"
                                },
                                {
                                    "title": "The Call of the Wild",
                                    "user_count": "49"
                                },
                                {
                                    "title": "Timeline",
                                    "user_count": "48"
                                },
                                {
                                    "title": "The Cement Garden",
                                    "user_count": "48"
                                },
                                {
                                    "title": "Icy Sparks",
                                    "user_count": "48"
                                },
                                {
                                    "title": "Mornings on Horseback",
                                    "user_count": "48"
                                },
                                {
                                    "title": "A Walk in the Woods",
                                    "user_count": "48"
                                },
                                {
                                    "title": "The Great Gatsby",
                                    "user_count": "48"
                                },
                                {
                                    "title": "Outcast of Redwall (Redwall, #8)",
                                    "user_count": "48"
                                },
                                {
                                    "title": "The Ground Beneath Her Feet",
                                    "user_count": "48"
                                },
                                {
                                    "title": "Twelfth Night",
                                    "user_count": "48"
                                },
                                {
                                    "title": "Travels with Charley: In Search of America",
                                    "user_count": "48"
                                },
                                {
                                    "title": "Life of Pi",
                                    "user_count": "48"
                                },
                                {
                                    "title": "Black and Blue",
                                    "user_count": "47"
                                },
                                {
                                    "title": "The Doors of Perception & Heaven and Hell",
                                    "user_count": "47"
                                },
                                {
                                    "title": "The Poisonwood Bible",
                                    "user_count": "47"
                                },
                                {
                                    "title": "Unfinished Tales of Númenor and Middle-Earth",
                                    "user_count": "47"
                                },
                                {
                                    "title": "The Good Soldier",
                                    "user_count": "47"
                                },
                                {
                                    "title": "Gates of Fire: An Epic Novel of the Battle of Thermopylae",
                                    "user_count": "47"
                                },
                                {
                                    "title": "The Andromeda Strain",
                                    "user_count": "47"
                                },
                                {
                                    "title": "The Witches",
                                    "user_count": "47"
                                },
                                {
                                    "title": "A Heartbreaking Work of Staggering Genius",
                                    "user_count": "46"
                                },
                                {
                                    "title": "Brokeback Mountain",
                                    "user_count": "46"
                                },
                                {
                                    "title": "Motor Mouth (Alex Barnaby #2)",
                                    "user_count": "46"
                                },
                                {
                                    "title": "A Brief History of Time",
                                    "user_count": "46"
                                },
                                {
                                    "title": "Confessions of an Economic Hit Man",
                                    "user_count": "45"
                                },
                                {
                                    "title": "The Pragmatic Programmer: From Journeyman to Master",
                                    "user_count": "45"
                                },
                                {
                                    "title": "In Search of Excellence: Lessons from America's Best-Run Companies",
                                    "user_count": "45"
                                },
                                {
                                    "title": "Women in Love (Brangwen Family, #2)",
                                    "user_count": "45"
                                },
                                {
                                    "title": "A Walk to Remember",
                                    "user_count": "45"
                                },
                                {
                                    "title": "The Devil Wears Prada (The Devil Wears Prada, #1)",
                                    "user_count": "45"
                                },
                                {
                                    "title": "Wizard and Glass (The Dark Tower, #4)",
                                    "user_count": "44"
                                },
                                {
                                    "title": "The Thorn Birds",
                                    "user_count": "44"
                                },
                                {
                                    "title": "The Time Machine",
                                    "user_count": "44"
                                },
                                {
                                    "title": "Skinny Legs and All",
                                    "user_count": "44"
                                },
                                {
                                    "title": "Who Moved My Cheese?",
                                    "user_count": "44"
                                },
                                {
                                    "title": "The Terminal Man",
                                    "user_count": "44"
                                },
                                {
                                    "title": "A Supposedly Fun Thing I'll Never Do Again:  Essays and Arguments",
                                    "user_count": "44"
                                },
                                {
                                    "title": "The First World War",
                                    "user_count": "44"
                                },
                                {
                                    "title": "About a Boy",
                                    "user_count": "44"
                                },
                                {
                                    "title": "Paris to the Moon",
                                    "user_count": "44"
                                },
                                {
                                    "title": "The Prophet",
                                    "user_count": "43"
                                },
                                {
                                    "title": "The Catcher in the Rye",
                                    "user_count": "43"
                                },
                                {
                                    "title": "The Oedipus Cycle: Oedipus Rex/Oedipus at Colonus/Antigone (The Theban Plays, #1–3)",
                                    "user_count": "43"
                                },
                                {
                                    "title": "Invisible Cities",
                                    "user_count": "43"
                                },
                                {
                                    "title": "The Great Train Robbery",
                                    "user_count": "43"
                                },
                                {
                                    "title": "The Big Sleep (Philip Marlowe, #1)",
                                    "user_count": "43"
                                },
                                {
                                    "title": "La Dame aux Camélias",
                                    "user_count": "43"
                                },
                                {
                                    "title": "Holidays on Ice",
                                    "user_count": "43"
                                },
                                {
                                    "title": "The Magic Finger (Young Puffin Developing Reader)",
                                    "user_count": "43"
                                },
                                {
                                    "title": "The 158-Pound Marriage",
                                    "user_count": "43"
                                },
                                {
                                    "title": "Tara Road",
                                    "user_count": "43"
                                },
                                {
                                    "title": "Persepolis, Volume 1",
                                    "user_count": "42"
                                },
                                {
                                    "title": "Papillon",
                                    "user_count": "42"
                                },
                                {
                                    "title": "All-of-a-Kind Family (All-of-a-Kind Family, #1)",
                                    "user_count": "42"
                                },
                                {
                                    "title": "One for the Money (Stephanie Plum, #1)",
                                    "user_count": "42"
                                },
                                {
                                    "title": "Anne Frank Remembered: The Story of the Woman Who Helped to Hide the Frank Family",
                                    "user_count": "42"
                                },
                                {
                                    "title": "Barrel Fever: Stories and Essays",
                                    "user_count": "42"
                                },
                                {
                                    "title": "The Woman in White",
                                    "user_count": "41"
                                },
                                {
                                    "title": "Shopaholic Takes Manhattan (Shopaholic, #2)",
                                    "user_count": "41"
                                },
                                {
                                    "title": "Waiting for the Barbarians",
                                    "user_count": "41"
                                },
                                {
                                    "title": "A Christmas Carol and Other Christmas Writings",
                                    "user_count": "41"
                                },
                                {
                                    "title": "Maximum City: Bombay Lost and Found",
                                    "user_count": "41"
                                },
                                {
                                    "title": "Girlfriend in a Coma",
                                    "user_count": "41"
                                },
                                {
                                    "title": "Twelve Sharp (Stephanie Plum, #12)",
                                    "user_count": "41"
                                },
                                {
                                    "title": "A Prayer for Owen Meany",
                                    "user_count": "40"
                                },
                                {
                                    "title": "Disgrace",
                                    "user_count": "40"
                                },
                                {
                                    "title": "Marina",
                                    "user_count": "40"
                                },
                                {
                                    "title": "Anne Frank: Beyond the Diary - A Photographic Remembrance",
                                    "user_count": "40"
                                },
                                {
                                    "title": "Fever Pitch",
                                    "user_count": "40"
                                },
                                {
                                    "title": "Seven Up (Stephanie Plum, #7)",
                                    "user_count": "40"
                                },
                                {
                                    "title": "The Last Juror",
                                    "user_count": "40"
                                },
                                {
                                    "title": "Little House in the Big Woods (Little House, #1)",
                                    "user_count": "39"
                                },
                                {
                                    "title": "Fantastic Mr. Fox",
                                    "user_count": "39"
                                },
                                {
                                    "title": "Breath, Eyes, Memory",
                                    "user_count": "39"
                                },
                                {
                                    "title": "The Pearl",
                                    "user_count": "39"
                                },
                                {
                                    "title": "Complete Works of Oscar Wilde",
                                    "user_count": "39"
                                },
                                {
                                    "title": "Anne of Green Gables (Anne of Green Gables, #1)",
                                    "user_count": "38"
                                },
                                {
                                    "title": "Shopaholic Ties the Knot (Shopaholic, #3)",
                                    "user_count": "38"
                                },
                                {
                                    "title": "Tuesdays with Morrie",
                                    "user_count": "38"
                                },
                                {
                                    "title": "A People's History of the United States",
                                    "user_count": "38"
                                },
                                {
                                    "title": "Animal Farm / 1984",
                                    "user_count": "38"
                                },
                                {
                                    "title": "Howl's Moving Castle (Howl's Moving Castle, #1)",
                                    "user_count": "38"
                                },
                                {
                                    "title": "Generation X: Tales for an Accelerated Culture",
                                    "user_count": "37"
                                },
                                {
                                    "title": "Cradle to Cradle: Remaking the Way We Make Things",
                                    "user_count": "37"
                                },
                                {
                                    "title": "The Long Goodbye (Philip Marlowe, #6)",
                                    "user_count": "37"
                                },
                                {
                                    "title": "The Pillars of Creation (Sword of Truth, #7)",
                                    "user_count": "37"
                                },
                                {
                                    "title": "V.",
                                    "user_count": "37"
                                },
                                {
                                    "title": "Open House",
                                    "user_count": "37"
                                },
                                {
                                    "title": "Olivia Joules and the Overactive Imagination",
                                    "user_count": "37"
                                },
                                {
                                    "title": "Dragonfly in Amber (Outlander, #2)",
                                    "user_count": "37"
                                },
                                {
                                    "title": "The People of Sparks (Book of Ember, #2)",
                                    "user_count": "36"
                                },
                                {
                                    "title": "QED: The Strange Theory of Light and Matter",
                                    "user_count": "36"
                                },
                                {
                                    "title": "Code to Zero",
                                    "user_count": "36"
                                },
                                {
                                    "title": "Moo, Baa, La La La!",
                                    "user_count": "36"
                                },
                                {
                                    "title": "Islands in the Stream",
                                    "user_count": "36"
                                },
                                {
                                    "title": "The Legend of Luke (Redwall, #12)",
                                    "user_count": "36"
                                },
                                {
                                    "title": "Antigone (The Theban Plays, #3)",
                                    "user_count": "36"
                                },
                                {
                                    "title": "A Woman of Substance (Emma Harte Saga #1)",
                                    "user_count": "36"
                                },
                                {
                                    "title": "First They Killed My Father: A Daughter of Cambodia Remembers",
                                    "user_count": "36"
                                },
                                {
                                    "title": "Moloka'i",
                                    "user_count": "35"
                                },
                                {
                                    "title": "From Russia With Love (James Bond, #5)",
                                    "user_count": "35"
                                },
                                {
                                    "title": "Bleachers",
                                    "user_count": "35"
                                },
                                {
                                    "title": "All Families are Psychotic",
                                    "user_count": "35"
                                },
                                {
                                    "title": "The Stories of Eva Luna",
                                    "user_count": "35"
                                },
                                {
                                    "title": "Fight Club",
                                    "user_count": "35"
                                },
                                {
                                    "title": "Darwin's Dangerous Idea: Evolution and the Meanings of Life",
                                    "user_count": "35"
                                },
                                {
                                    "title": "Last Orders",
                                    "user_count": "35"
                                },
                                {
                                    "title": "Message in a Bottle",
                                    "user_count": "34"
                                },
                                {
                                    "title": "A Bend in the Road",
                                    "user_count": "34"
                                },
                                {
                                    "title": "Macbeth",
                                    "user_count": "34"
                                },
                                {
                                    "title": "Postmortem (Kay Scarpetta, #1)",
                                    "user_count": "34"
                                },
                                {
                                    "title": "Shadows of the Empire (Star Wars)",
                                    "user_count": "34"
                                },
                                {
                                    "title": "Boy: Tales of Childhood",
                                    "user_count": "34"
                                },
                                {
                                    "title": "Midwives",
                                    "user_count": "33"
                                },
                                {
                                    "title": "Speaker for the Dead (Ender's Saga, #2)",
                                    "user_count": "33"
                                },
                                {
                                    "title": "Ethan Frome",
                                    "user_count": "33"
                                },
                                {
                                    "title": "Sir Gawain and the Green Knight ",
                                    "user_count": "33"
                                },
                                {
                                    "title": "Breakfast of Champions",
                                    "user_count": "33"
                                },
                                {
                                    "title": "You Shall Know Our Velocity!",
                                    "user_count": "33"
                                },
                                {
                                    "title": "God Bless You, Mr. Rosewater",
                                    "user_count": "33"
                                },
                                {
                                    "title": "Prophet",
                                    "user_count": "33"
                                },
                                {
                                    "title": "'Tis (Frank McCourt, #2)",
                                    "user_count": "33"
                                },
                                {
                                    "title": "'Salem's Lot",
                                    "user_count": "33"
                                },
                                {
                                    "title": "The Old Man and the Sea",
                                    "user_count": "33"
                                },
                                {
                                    "title": "Trials of Death (Cirque Du Freak, #5)",
                                    "user_count": "32"
                                },
                                {
                                    "title": "Night Over Water",
                                    "user_count": "32"
                                },
                                {
                                    "title": "Four Blondes",
                                    "user_count": "32"
                                },
                                {
                                    "title": "Amsterdam",
                                    "user_count": "32"
                                },
                                {
                                    "title": "Four to Score (Stephanie Plum, #4)",
                                    "user_count": "32"
                                },
                                {
                                    "title": "Mayflower: A Story of Courage, Community, and War",
                                    "user_count": "32"
                                },
                                {
                                    "title": "The Giver (The Giver, #1)",
                                    "user_count": "32"
                                },
                                {
                                    "title": "The Drama of the Gifted Child: The Search for the True Self",
                                    "user_count": "32"
                                },
                                {
                                    "title": "The Burden of Proof",
                                    "user_count": "32"
                                },
                                {
                                    "title": "Cane River",
                                    "user_count": "32"
                                },
                                {
                                    "title": "Holy Cow: An Indian Adventure",
                                    "user_count": "31"
                                },
                                {
                                    "title": "How to Make Love Like a Porn Star: A Cautionary Tale",
                                    "user_count": "31"
                                },
                                {
                                    "title": "The Broom of the System",
                                    "user_count": "31"
                                },
                                {
                                    "title": "Howl and Other Poems",
                                    "user_count": "31"
                                },
                                {
                                    "title": "The Great Book of Amber (The Chronicles of Amber, #1-10)",
                                    "user_count": "31"
                                },
                                {
                                    "title": "Franny and Zooey",
                                    "user_count": "30"
                                },
                                {
                                    "title": "The Secret Garden",
                                    "user_count": "30"
                                },
                                {
                                    "title": "Naked",
                                    "user_count": "30"
                                },
                                {
                                    "title": "A Bend in the River",
                                    "user_count": "30"
                                },
                                {
                                    "title": "Jack: Straight from the Gut",
                                    "user_count": "30"
                                },
                                {
                                    "title": "The Millionaire Next Door: The Surprising Secrets of Americas Wealthy",
                                    "user_count": "30"
                                },
                                {
                                    "title": "Path of the Assassin (Scot Harvath, #2)",
                                    "user_count": "30"
                                },
                                {
                                    "title": "The Year of Magical Thinking",
                                    "user_count": "30"
                                },
                                {
                                    "title": "Rising Sun",
                                    "user_count": "29"
                                },
                                {
                                    "title": "Casino Royale (James Bond, #1)",
                                    "user_count": "29"
                                },
                                {
                                    "title": "By the River Piedra I Sat Down and Wept",
                                    "user_count": "29"
                                },
                                {
                                    "title": "The Unbearable Lightness of Being",
                                    "user_count": "29"
                                },
                                {
                                    "title": "Jackdaws",
                                    "user_count": "29"
                                },
                                {
                                    "title": "John Adams",
                                    "user_count": "29"
                                },
                                {
                                    "title": "Jurassic Park (Jurassic Park, #1)",
                                    "user_count": "29"
                                },
                                {
                                    "title": "To Have and Have Not",
                                    "user_count": "29"
                                },
                                {
                                    "title": "Unlimited Power : The New Science Of Personal Achievement",
                                    "user_count": "29"
                                },
                                {
                                    "title": "Another Roadside Attraction",
                                    "user_count": "29"
                                },
                                {
                                    "title": "A Modest Proposal and Other Satirical Works",
                                    "user_count": "29"
                                },
                                {
                                    "title": "Forever in Blue: The Fourth Summer of the Sisterhood (Sisterhood, #4)",
                                    "user_count": "29"
                                },
                                {
                                    "title": "Naked Lunch",
                                    "user_count": "29"
                                },
                                {
                                    "title": "The Secret Art of Dr. Seuss",
                                    "user_count": "29"
                                },
                                {
                                    "title": "Fried Green Tomatoes at the Whistle Stop Cafe",
                                    "user_count": "29"
                                },
                                {
                                    "title": "The King of Torts",
                                    "user_count": "28"
                                },
                                {
                                    "title": "The Big Bad Wolf  (Alex Cross, #9)",
                                    "user_count": "28"
                                },
                                {
                                    "title": "The Giraffe and the Pelly and Me",
                                    "user_count": "28"
                                },
                                {
                                    "title": "Killers of the Dawn (Cirque Du Freak, #9)",
                                    "user_count": "28"
                                },
                                {
                                    "title": "Life and Times of Michael K",
                                    "user_count": "28"
                                },
                                {
                                    "title": "Practicing the Power of Now: Essential Teachings, Meditations, and Exercises from the Power of Now",
                                    "user_count": "28"
                                },
                                {
                                    "title": "Marlfox (Redwall, #11)",
                                    "user_count": "28"
                                },
                                {
                                    "title": "Saturday",
                                    "user_count": "28"
                                },
                                {
                                    "title": "Reading Lolita in Tehran",
                                    "user_count": "28"
                                },
                                {
                                    "title": "The Pillars of the Earth (The Kingsbridge Series, #1)",
                                    "user_count": "28"
                                },
                                {
                                    "title": "East of Eden",
                                    "user_count": "27"
                                },
                                {
                                    "title": "The Jane Austen Book Club",
                                    "user_count": "27"
                                },
                                {
                                    "title": "Cry, the Beloved Country",
                                    "user_count": "27"
                                },
                                {
                                    "title": "Them: Adventures with Extremists",
                                    "user_count": "27"
                                },
                                {
                                    "title": "Lucy Sullivan Is Getting Married",
                                    "user_count": "27"
                                },
                                {
                                    "title": "Pygmalion",
                                    "user_count": "27"
                                },
                                {
                                    "title": "Three to Get Deadly (Stephanie Plum, #3)",
                                    "user_count": "27"
                                },
                                {
                                    "title": "Crow Lake",
                                    "user_count": "27"
                                },
                                {
                                    "title": "Twenty Years After (The D'Artagnan Romances, #2)",
                                    "user_count": "27"
                                },
                                {
                                    "title": "A Son of the Circus",
                                    "user_count": "26"
                                },
                                {
                                    "title": "The Man Who Listens to Horses",
                                    "user_count": "26"
                                },
                                {
                                    "title": "Dr. Seuss's ABC: An Amazing Alphabet Book! (Bright and Early Board Books)",
                                    "user_count": "26"
                                },
                                {
                                    "title": "The Language Instinct: How the Mind Creates Language",
                                    "user_count": "26"
                                },
                                {
                                    "title": "1984",
                                    "user_count": "26"
                                },
                                {
                                    "title": "Dispatches",
                                    "user_count": "26"
                                },
                                {
                                    "title": "number9dream",
                                    "user_count": "26"
                                },
                                {
                                    "title": "Blindness",
                                    "user_count": "26"
                                },
                                {
                                    "title": "Genome: the Autobiography of a Species in 23 Chapters",
                                    "user_count": "26"
                                },
                                {
                                    "title": "Brave New World",
                                    "user_count": "26"
                                },
                                {
                                    "title": "Danny the Champion of the World",
                                    "user_count": "26"
                                },
                                {
                                    "title": "Endymion (Hyperion Cantos, #3)",
                                    "user_count": "25"
                                },
                                {
                                    "title": "Lord of the Shadows (Cirque Du Freak, #11)",
                                    "user_count": "25"
                                },
                                {
                                    "title": "The House of the Spirits",
                                    "user_count": "25"
                                },
                                {
                                    "title": "The Good Husband of Zebra Drive (No. 1 Ladies' Detective Agency, #8)",
                                    "user_count": "25"
                                },
                                {
                                    "title": "From Potter's Field (Kay Scarpetta, #6)",
                                    "user_count": "25"
                                },
                                {
                                    "title": "Peter and the Shadow Thieves (Peter and the Starcatchers, #2)",
                                    "user_count": "25"
                                },
                                {
                                    "title": "Tears of the Giraffe (No. 1 Ladies' Detective Agency, #2)",
                                    "user_count": "25"
                                },
                                {
                                    "title": "The Vampire Prince (Cirque Du Freak, #6)",
                                    "user_count": "25"
                                },
                                {
                                    "title": "Microserfs",
                                    "user_count": "25"
                                },
                                {
                                    "title": "The Four Agreements: A Practical Guide to Personal Freedom",
                                    "user_count": "24"
                                },
                                {
                                    "title": "Cause of Death (Kay Scarpetta, #7)",
                                    "user_count": "24"
                                },
                                {
                                    "title": "Enchantment",
                                    "user_count": "24"
                                },
                                {
                                    "title": "Rainbow Six (Jack Ryan Universe, #10)",
                                    "user_count": "24"
                                },
                                {
                                    "title": "Goldfinger (James Bond, #7)",
                                    "user_count": "24"
                                },
                                {
                                    "title": "The Universe in a Nutshell",
                                    "user_count": "24"
                                },
                                {
                                    "title": "The Android's Dream",
                                    "user_count": "24"
                                },
                                {
                                    "title": "Dear John",
                                    "user_count": "24"
                                },
                                {
                                    "title": "Three Men in a Boat (Three Men, #1)",
                                    "user_count": "24"
                                },
                                {
                                    "title": "I Feel Bad about My Neck: And Other Thoughts on Being a Woman",
                                    "user_count": "24"
                                },
                                {
                                    "title": "The Men Who Stare at Goats",
                                    "user_count": "23"
                                },
                                {
                                    "title": "The Very Hungry Caterpillar Board Book",
                                    "user_count": "23"
                                },
                                {
                                    "title": "Airframe",
                                    "user_count": "23"
                                },
                                {
                                    "title": "The Drawing of the Three (The Dark Tower, #2)",
                                    "user_count": "23"
                                },
                                {
                                    "title": "Extremely Loud and Incredibly Close",
                                    "user_count": "23"
                                },
                                {
                                    "title": "Eiger Dreams: Ventures Among Men and Mountains",
                                    "user_count": "23"
                                },
                                {
                                    "title": "Mother Night",
                                    "user_count": "23"
                                },
                                {
                                    "title": "Reservation Blues",
                                    "user_count": "23"
                                },
                                {
                                    "title": "The Red Tent",
                                    "user_count": "23"
                                },
                                {
                                    "title": "Messenger of Truth (Maisie Dobbs, #4)",
                                    "user_count": "23"
                                },
                                {
                                    "title": "Farewell, My Lovely (Philip Marlowe, #2)",
                                    "user_count": "23"
                                },
                                {
                                    "title": "The Bourne Identity (Jason Bourne, #1)",
                                    "user_count": "23"
                                },
                                {
                                    "title": "Saving Fish from Drowning",
                                    "user_count": "22"
                                },
                                {
                                    "title": "The Idiot Girls' Action-Adventure Club: True Tales from a Magnificent and Clumsy Life",
                                    "user_count": "22"
                                },
                                {
                                    "title": "Enduring Love",
                                    "user_count": "22"
                                },
                                {
                                    "title": "The Fourth Hand",
                                    "user_count": "22"
                                },
                                {
                                    "title": "Hard Times",
                                    "user_count": "22"
                                },
                                {
                                    "title": "God Bless You, Dr. Kevorkian",
                                    "user_count": "22"
                                },
                                {
                                    "title": "A Fine Balance",
                                    "user_count": "22"
                                },
                                {
                                    "title": "Blue Like Jazz: Nonreligious Thoughts on Christian Spirituality",
                                    "user_count": "22"
                                },
                                {
                                    "title": "The Emperor's Children",
                                    "user_count": "22"
                                },
                                {
                                    "title": "Crime and Punishment",
                                    "user_count": "22"
                                },
                                {
                                    "title": "The Adventures of Huckleberry Finn",
                                    "user_count": "22"
                                },
                                {
                                    "title": "A Portrait of the Artist as a Young Man",
                                    "user_count": "22"
                                },
                                {
                                    "title": "Farmer Boy (Little House, #3)",
                                    "user_count": "22"
                                },
                                {
                                    "title": "The Chamber",
                                    "user_count": "22"
                                },
                                {
                                    "title": "The Silmarillion (Middle-Earth Universe)",
                                    "user_count": "21"
                                },
                                {
                                    "title": "Trace (Kay Scarpetta, #13)",
                                    "user_count": "21"
                                },
                                {
                                    "title": "Regeneration (Regeneration, #1)",
                                    "user_count": "21"
                                },
                                {
                                    "title": "The Elephant Vanishes",
                                    "user_count": "21"
                                },
                                {
                                    "title": "Cover Her Face (Adam Dalgliesh #1)",
                                    "user_count": "21"
                                },
                                {
                                    "title": "The Sea",
                                    "user_count": "21"
                                },
                                {
                                    "title": "Ten Apples Up On Top!",
                                    "user_count": "21"
                                },
                                {
                                    "title": "City of the Beasts (Eagle and Jaguar, #1)",
                                    "user_count": "21"
                                },
                                {
                                    "title": "Moonraker (James Bond, #3)",
                                    "user_count": "21"
                                },
                                {
                                    "title": "The Other Side of the Story",
                                    "user_count": "21"
                                },
                                {
                                    "title": "The BFG",
                                    "user_count": "21"
                                },
                                {
                                    "title": "The History of Sexuality, Volume 1: An Introduction",
                                    "user_count": "21"
                                },
                                {
                                    "title": "Ivanhoe",
                                    "user_count": "21"
                                },
                                {
                                    "title": "Eats, Shoots & Leaves: The Zero Tolerance Approach to Punctuation",
                                    "user_count": "21"
                                },
                                {
                                    "title": "Comfort Me with Apples: More Adventures at the Table",
                                    "user_count": "21"
                                },
                                {
                                    "title": "The No. 1 Ladies' Detective Agency  (No. 1 Ladies' Detective Agency, #1)",
                                    "user_count": "21"
                                },
                                {
                                    "title": "Confessions of a Shopaholic (Shopaholic, #1)",
                                    "user_count": "21"
                                },
                                {
                                    "title": "Three Weeks With My Brother",
                                    "user_count": "21"
                                },
                                {
                                    "title": "On Beauty",
                                    "user_count": "21"
                                },
                                {
                                    "title": "Olympos (Ilium, #2)",
                                    "user_count": "21"
                                },
                                {
                                    "title": "The Joy Luck Club",
                                    "user_count": "21"
                                },
                                {
                                    "title": "Little Town on the Prairie  (Little House, #7)",
                                    "user_count": "20"
                                },
                                {
                                    "title": "The Water-Method Man",
                                    "user_count": "20"
                                },
                                {
                                    "title": "Atonement",
                                    "user_count": "20"
                                },
                                {
                                    "title": "Drowning Ruth",
                                    "user_count": "20"
                                },
                                {
                                    "title": "Witches Abroad (Discworld, #12; Witches #3)",
                                    "user_count": "20"
                                },
                                {
                                    "title": "Gulliver's Travels",
                                    "user_count": "20"
                                },
                                {
                                    "title": "Shadow of the Giant (Ender's Shadow, #4)",
                                    "user_count": "20"
                                },
                                {
                                    "title": "The Five People You Meet in Heaven",
                                    "user_count": "20"
                                },
                                {
                                    "title": "Sickened: The Memoir of a Munchausen by Proxy Childhood",
                                    "user_count": "20"
                                },
                                {
                                    "title": "Allies of the Night (Cirque du Freak, #8)",
                                    "user_count": "20"
                                },
                                {
                                    "title": "The End of Poverty",
                                    "user_count": "20"
                                },
                                {
                                    "title": "Visions of Sugar Plums (Stephanie Plum, #8.5)",
                                    "user_count": "20"
                                },
                                {
                                    "title": "The Kalahari Typing School for Men (No. 1 Ladies' Detective Agency, #4)",
                                    "user_count": "19"
                                },
                                {
                                    "title": "Nine Stories",
                                    "user_count": "19"
                                },
                                {
                                    "title": "The Cat in the Hat and Other Dr. Seuss Favorites",
                                    "user_count": "19"
                                },
                                {
                                    "title": "Pardonable Lies (Maisie Dobbs, #3)",
                                    "user_count": "19"
                                },
                                {
                                    "title": "The Bonfire of the Vanities",
                                    "user_count": "19"
                                },
                                {
                                    "title": "The High Window (Philip Marlowe, #3)",
                                    "user_count": "19"
                                },
                                {
                                    "title": "Infinite Jest",
                                    "user_count": "19"
                                },
                                {
                                    "title": "Plum Lovin' (Stephanie Plum, #12.5)",
                                    "user_count": "19"
                                },
                                {
                                    "title": "Point of Origin (Kay Scarpetta, #9)",
                                    "user_count": "19"
                                },
                                {
                                    "title": "The Big Over Easy (Nursery Crime, #1)",
                                    "user_count": "19"
                                },
                                {
                                    "title": "Men Are from Mars, Women Are from Venus",
                                    "user_count": "19"
                                },
                                {
                                    "title": "Bridge to Terabithia",
                                    "user_count": "19"
                                },
                                {
                                    "title": "A Raisin in the Sun",
                                    "user_count": "19"
                                },
                                {
                                    "title": "Carrie / 'Salem's Lot / The Shining",
                                    "user_count": "18"
                                },
                                {
                                    "title": "The Body Farm (Kay Scarpetta, #5)",
                                    "user_count": "18"
                                },
                                {
                                    "title": "The Beautiful and Damned",
                                    "user_count": "18"
                                },
                                {
                                    "title": "Keep the Aspidistra Flying",
                                    "user_count": "18"
                                },
                                {
                                    "title": "Brave New World Revisited ",
                                    "user_count": "18"
                                },
                                {
                                    "title": "The Mermaid Chair",
                                    "user_count": "18"
                                },
                                {
                                    "title": "Execution: The Discipline of Getting Things Done",
                                    "user_count": "18"
                                },
                                {
                                    "title": "Girls in Pants: The Third Summer of the Sisterhood (Sisterhood, #3)",
                                    "user_count": "18"
                                },
                                {
                                    "title": "The Wind in the Willows",
                                    "user_count": "18"
                                },
                                {
                                    "title": "Shopaholic & Baby (Shopaholic, #5)",
                                    "user_count": "18"
                                },
                                {
                                    "title": "Glamorama",
                                    "user_count": "18"
                                },
                                {
                                    "title": "While I Was Gone",
                                    "user_count": "18"
                                },
                                {
                                    "title": "Cloudy With a Chance of Meatballs",
                                    "user_count": "18"
                                },
                                {
                                    "title": "Mother of Pearl",
                                    "user_count": "18"
                                },
                                {
                                    "title": "A Living Nightmare (Cirque Du Freak, #1)",
                                    "user_count": "18"
                                },
                                {
                                    "title": "Bagombo Snuff Box",
                                    "user_count": "18"
                                }
                            ]
                        },
                        "text/html": [
                            "<table>",
                            "<tr><th>title</th><th>user_count</th></tr>",
                            "<tr><td>The Ultimate Hitchhiker&#39;s Guide to the Galaxy</td><td>1812</td></tr>",
                            "<tr><td>The Hitchhiker&#39;s Guide to the Galaxy (Hitchhiker&#39;s Guide to the Galaxy, #1)</td><td>1767</td></tr>",
                            "<tr><td>The Lord of the Rings: The Art of The Fellowship of the Ring</td><td>1499</td></tr>",
                            "<tr><td>Harry Potter Boxed Set, Books 1-5 (Harry Potter, #1-5)</td><td>1498</td></tr>",
                            "<tr><td>Harry Potter and the Goblet of Fire (Harry Potter, #4)</td><td>1484</td></tr>",
                            "<tr><td>The Known World</td><td>1352</td></tr>",
                            "<tr><td>Harry Potter and the Prisoner of Azkaban (Harry Potter, #3)</td><td>1293</td></tr>",
                            "<tr><td>The Lord of the Rings: Weapons and Warfare</td><td>1211</td></tr>",
                            "<tr><td>Notes from a Small Island</td><td>1148</td></tr>",
                            "<tr><td>Harry Potter Collection (Harry Potter, #1-6)</td><td>1110</td></tr>",
                            "<tr><td>The Lord of the Rings (The Lord of the Rings, #1-3)</td><td>1094</td></tr>",
                            "<tr><td>The Salmon of Doubt (Dirk Gently, #3)</td><td>1069</td></tr>",
                            "<tr><td>Dune Messiah (Dune Chronicles #2)</td><td>1051</td></tr>",
                            "<tr><td>Treasure Island</td><td>1040</td></tr>",
                            "<tr><td>Tropic of Cancer</td><td>1007</td></tr>",
                            "<tr><td>Harry Potter and the Half-Blood Prince (Harry Potter, #6)</td><td>973</td></tr>",
                            "<tr><td>Children of Dune (Dune Chronicles #3)</td><td>913</td></tr>",
                            "<tr><td>The Power of One (The Power of One, #1)</td><td>866</td></tr>",
                            "<tr><td>Heretics of Dune (Dune Chronicles #5)</td><td>815</td></tr>",
                            "<tr><td>J.R.R. Tolkien 4-Book Boxed Set: The Hobbit and The Lord of the Rings</td><td>801</td></tr>",
                            "<tr><td>Job: A Comedy of Justice</td><td>737</td></tr>",
                            "<tr><td>The Door Into Summer</td><td>724</td></tr>",
                            "<tr><td>Mostly Harmless (Hitchhiker&#39;s Guide to the Galaxy, #5)</td><td>696</td></tr>",
                            "<tr><td>I am Charlotte Simmons</td><td>661</td></tr>",
                            "<tr><td>The Broken Wings</td><td>659</td></tr>",
                            "<tr><td>Killing Yourself to Live: 85% of a True Story</td><td>608</td></tr>",
                            "<tr><td>The Portrait of a Lady</td><td>580</td></tr>",
                            "<tr><td>The Lover</td><td>567</td></tr>",
                            "<tr><td>Slouching Towards Bethlehem</td><td>564</td></tr>",
                            "<tr><td>We the Living</td><td>563</td></tr>",
                            "<tr><td>Cryptonomicon</td><td>551</td></tr>",
                            "<tr><td>Fullmetal Alchemist, Vol. 1 (Fullmetal Alchemist, #1)</td><td>533</td></tr>",
                            "<tr><td>Libra</td><td>525</td></tr>",
                            "<tr><td>Maurice</td><td>525</td></tr>",
                            "<tr><td>The Elegant Universe: Superstrings, Hidden Dimensions, and the Quest for the Ultimate Theory</td><td>524</td></tr>",
                            "<tr><td>Chapterhouse: Dune (Dune Chronicles #6)</td><td>513</td></tr>",
                            "<tr><td>One Hundred Years of Solitude</td><td>504</td></tr>",
                            "<tr><td>What to Expect the First Year (What to Expect)</td><td>495</td></tr>",
                            "<tr><td>I&#39;m a Stranger Here Myself: Notes on Returning to America after Twenty Years Away</td><td>484</td></tr>",
                            "<tr><td>The Fellowship of the Ring (The Lord of the Rings, #1)</td><td>450</td></tr>",
                            "<tr><td>The Lost Continent: Travels in Small Town America</td><td>447</td></tr>",
                            "<tr><td>Everyday Italian: 125 Simple and Delicious Recipes</td><td>445</td></tr>",
                            "<tr><td>Heidi</td><td>439</td></tr>",
                            "<tr><td>Dirk Gently&#39;s Holistic Detective Agency (Dirk Gently #1)</td><td>438</td></tr>",
                            "<tr><td>Tropic of Capricorn</td><td>438</td></tr>",
                            "<tr><td>Neither Here nor There: Travels in Europe</td><td>438</td></tr>",
                            "<tr><td>City of Glass (The New York Trilogy, #1)</td><td>435</td></tr>",
                            "<tr><td>In a Sunburned Country</td><td>431</td></tr>",
                            "<tr><td>The Virtue of Selfishness: A New Concept of Egoism</td><td>430</td></tr>",
                            "<tr><td>A Short History of Nearly Everything</td><td>427</td></tr>",
                            "<tr><td>Harry Potter and the Order of the Phoenix (Harry Potter, #5)</td><td>400</td></tr>",
                            "<tr><td>Sherlock Holmes: The Complete Novels and Stories, Volume I</td><td>387</td></tr>",
                            "<tr><td>Daniel Deronda</td><td>385</td></tr>",
                            "<tr><td>Madame Bovary</td><td>384</td></tr>",
                            "<tr><td>Stranger in a Strange Land</td><td>374</td></tr>",
                            "<tr><td>Digging to America</td><td>373</td></tr>",
                            "<tr><td>The Da Vinci Code (Robert Langdon, #2)</td><td>372</td></tr>",
                            "<tr><td>The Mother Tongue: English and How It Got That Way</td><td>348</td></tr>",
                            "<tr><td>The Phantom Tollbooth</td><td>346</td></tr>",
                            "<tr><td>The Long Dark Tea-Time of the Soul (Dirk Gently, #2)</td><td>343</td></tr>",
                            "<tr><td>The Game: Penetrating the Secret Society of Pickup Artists</td><td>319</td></tr>",
                            "<tr><td>Breaking the Spell: Religion as a Natural Phenomenon</td><td>316</td></tr>",
                            "<tr><td>The Tipping Point: How Little Things Can Make a Big Difference</td><td>315</td></tr>",
                            "<tr><td>Robinson Crusoe</td><td>309</td></tr>",
                            "<tr><td>Agamemnon (Oresteia, #1)</td><td>306</td></tr>",
                            "<tr><td>Collapse: How Societies Choose to Fail or Succeed</td><td>306</td></tr>",
                            "<tr><td>Trump: The Art of the Deal</td><td>305</td></tr>",
                            "<tr><td>V for Vendetta</td><td>17</td></tr>",
                            "<tr><td>Welcome to the Monkey House</td><td>17</td></tr>",
                            "<tr><td>Fall on Your Knees</td><td>17</td></tr>",
                            "<tr><td>Persepolis 2: The Story of a Return (Persepolis, #2)</td><td>17</td></tr>",
                            "<tr><td>The Glass Castle</td><td>17</td></tr>",
                            "<tr><td>Disclosure</td><td>17</td></tr>",
                            "<tr><td>Survival in Auschwitz</td><td>17</td></tr>",
                            "<tr><td>Last Chance to See</td><td>17</td></tr>",
                            "<tr><td>Suzanne&#39;s Diary for Nicholas</td><td>17</td></tr>",
                            "<tr><td>Animal Farm</td><td>17</td></tr>",
                            "<tr><td>The Metamorphosis and Other Stories</td><td>16</td></tr>",
                            "<tr><td>1421: The Year China Discovered America</td><td>16</td></tr>",
                            "<tr><td>Even Cowgirls Get the Blues</td><td>16</td></tr>",
                            "<tr><td>The Sun Also Rises</td><td>16</td></tr>",
                            "<tr><td>The Lake of Souls (Cirque Du Freak, #10)</td><td>16</td></tr>",
                            "<tr><td>The Informers</td><td>16</td></tr>",
                            "<tr><td>The Electric Kool-Aid Acid Test</td><td>16</td></tr>",
                            "<tr><td>Song of Susannah (The Dark Tower, #6)</td><td>16</td></tr>",
                            "<tr><td>World Without End (The Kingsbridge Series, #2)</td><td>16</td></tr>",
                            "<tr><td>Less Than Zero</td><td>16</td></tr>",
                            "<tr><td>The Red Pony</td><td>16</td></tr>",
                            "<tr><td>Player Piano</td><td>15</td></tr>",
                            "<tr><td>The Terror</td><td>15</td></tr>",
                            "<tr><td>By the Shores of Silver Lake  (Little House, #5)</td><td>15</td></tr>",
                            "<tr><td>Fear and Loathing on the Campaign Trail &#39;72</td><td>15</td></tr>",
                            "<tr><td>Lord of the Flies</td><td>15</td></tr>",
                            "<tr><td>Don Quixote</td><td>15</td></tr>",
                            "<tr><td>Hocus Pocus</td><td>15</td></tr>",
                            "<tr><td>Dreamland</td><td>15</td></tr>",
                            "<tr><td>The Cider House Rules</td><td>15</td></tr>",
                            "<tr><td>The Poetry of Pablo Neruda</td><td>15</td></tr>",
                            "<tr><td>A Spot of Bother</td><td>15</td></tr>",
                            "<tr><td>Emma</td><td>15</td></tr>",
                            "<tr><td>Jewel</td><td>15</td></tr>",
                            "<tr><td>Jesus Freaks: Stories of Those Who Stood for Jesus, the Ultimate Jesus Freaks (Jesus Freaks, #1)</td><td>15</td></tr>",
                            "<tr><td>Five Little Peppers and How They Grew</td><td>15</td></tr>",
                            "<tr><td>Fear of Flying</td><td>14</td></tr>",
                            "<tr><td>Homage to Catalonia</td><td>14</td></tr>",
                            "<tr><td>Teacher Man (Frank McCourt, #3)</td><td>14</td></tr>",
                            "<tr><td>The Rules of Attraction</td><td>14</td></tr>",
                            "<tr><td>World War Z: An Oral History of the Zombie War</td><td>14</td></tr>",
                            "<tr><td>Diamonds Are Forever (James Bond, #4)</td><td>14</td></tr>",
                            "<tr><td>Where the Heart Is</td><td>14</td></tr>",
                            "<tr><td>In the Skin of a Lion</td><td>14</td></tr>",
                            "<tr><td>Oblivion</td><td>14</td></tr>",
                            "<tr><td>The Shipping News</td><td>14</td></tr>",
                            "<tr><td>In the Company of Cheerful Ladies (No. 1 Ladies&#39; Detective Agency, #6)</td><td>14</td></tr>",
                            "<tr><td>The Long Patrol (Redwall, #10)</td><td>14</td></tr>",
                            "<tr><td>We Were the Mulvaneys</td><td>14</td></tr>",
                            "<tr><td>The Lost World (Jurassic Park, #2)</td><td>14</td></tr>",
                            "<tr><td>The Moonstone</td><td>14</td></tr>",
                            "<tr><td>Watermelon (Walsh Family, #1)</td><td>14</td></tr>",
                            "<tr><td>Bluebeard</td><td>13</td></tr>",
                            "<tr><td>What Do You Care What Other People Think?</td><td>13</td></tr>",
                            "<tr><td>Rose Daughter</td><td>13</td></tr>",
                            "<tr><td>Life, the Universe and Everything (Hitchhiker&#39;s Guide, #3)</td><td>12</td></tr>",
                            "<tr><td>Emily of New Moon (Emily, #1)</td><td>12</td></tr>",
                            "<tr><td>Two for the Dough (Stephanie Plum, #2)</td><td>12</td></tr>",
                            "<tr><td>Ender&#39;s Shadow (Ender&#39;s Shadow, #1)</td><td>12</td></tr>",
                            "<tr><td>Crossing to Safety</td><td>12</td></tr>",
                            "<tr><td>Rachel&#39;s Holiday (Walsh Family, #2)</td><td>12</td></tr>",
                            "<tr><td>Raise High the Roof Beam, Carpenters &amp; Seymour: An Introduction</td><td>12</td></tr>",
                            "<tr><td>Redwall (Redwall, #1)</td><td>12</td></tr>",
                            "<tr><td>Salamandastron (Redwall, #5)</td><td>12</td></tr>",
                            "<tr><td>Book of the Dead (Kay Scarpetta, #15)</td><td>12</td></tr>",
                            "<tr><td>The Sirens of Titan</td><td>12</td></tr>",
                            "<tr><td>How to Stop Worrying and Start Living</td><td>12</td></tr>",
                            "<tr><td>Hot Six (Stephanie Plum, #6)</td><td>12</td></tr>",
                            "<tr><td>The Audacity of Hope: Thoughts on Reclaiming the American Dream</td><td>12</td></tr>",
                            "<tr><td>Year of Wonders</td><td>12</td></tr>",
                            "<tr><td>The Long Walk</td><td>12</td></tr>",
                            "<tr><td>Consider the Lobster and Other Essays</td><td>11</td></tr>",
                            "<tr><td>Phenomenology of Spirit</td><td>11</td></tr>",
                            "<tr><td>Demons</td><td>11</td></tr>",
                            "<tr><td>Birdsong</td><td>11</td></tr>",
                            "<tr><td>The Baron in the Trees</td><td>11</td></tr>",
                            "<tr><td>A Map of the World</td><td>11</td></tr>",
                            "<tr><td>Jitterbug Perfume</td><td>11</td></tr>",
                            "<tr><td>The Hound of the Baskervilles</td><td>11</td></tr>",
                            "<tr><td>What Is the What</td><td>10</td></tr>",
                            "<tr><td>On the Banks of Plum Creek  (Little House, #4)</td><td>10</td></tr>",
                            "<tr><td>Bleach, Volume 15</td><td>10</td></tr>",
                            "<tr><td>The Blank Slate: The Modern Denial of Human Nature</td><td>10</td></tr>",
                            "<tr><td>As the Crow Flies</td><td>10</td></tr>",
                            "<tr><td>The Client</td><td>10</td></tr>",
                            "<tr><td>Going Solo</td><td>10</td></tr>",
                            "<tr><td>James and the Giant Peach</td><td>9</td></tr>",
                            "<tr><td>Here on Earth</td><td>9</td></tr>",
                            "<tr><td>Desert Flower</td><td>9</td></tr>",
                            "<tr><td>The Vampire&#39;s Assistant (Cirque Du Freak, #2)</td><td>9</td></tr>",
                            "<tr><td>Red Prophet (Tales of Alvin Maker, #2)</td><td>9</td></tr>",
                            "<tr><td>Slapstick, or Lonesome No More!</td><td>9</td></tr>",
                            "<tr><td>Songbook</td><td>9</td></tr>",
                            "<tr><td>Bleach, Volume 01</td><td>9</td></tr>",
                            "<tr><td>Betsy-Tacy (Betsy-Tacy, #1)</td><td>9</td></tr>",
                            "<tr><td>Assassination Vacation</td><td>9</td></tr>",
                            "<tr><td>Wuthering Heights</td><td>9</td></tr>",
                            "<tr><td>The Moor&#39;s Last Sigh</td><td>9</td></tr>",
                            "<tr><td>Vanity Fair</td><td>8</td></tr>",
                            "<tr><td>Deception Point</td><td>8</td></tr>",
                            "<tr><td>Darkness</td><td>8</td></tr>",
                            "<tr><td>Awakening the Buddha Within: Tibetan Wisdom for the Western World</td><td>8</td></tr>",
                            "<tr><td>Fierce Invalids Home from Hot Climates</td><td>8</td></tr>",
                            "<tr><td>Xenocide (Ender&#39;s Saga, #3)</td><td>8</td></tr>",
                            "<tr><td>How We Are Hungry</td><td>8</td></tr>",
                            "<tr><td>Last Chance Saloon</td><td>8</td></tr>",
                            "<tr><td>The Comfort of Strangers</td><td>8</td></tr>",
                            "<tr><td>Midnight for Charlie Bone (The Children of the Red King, #1)</td><td>8</td></tr>",
                            "<tr><td>On Her Majesty&#39;s Secret Service (James Bond, #11)</td><td>8</td></tr>",
                            "<tr><td>Runaways, Vol. 1: Pride and Joy (Runaways, #1)</td><td>8</td></tr>",
                            "<tr><td>Shadow Divers</td><td>8</td></tr>",
                            "<tr><td>Shadow of the Hegemon (Ender&#39;s Shadow, #2)</td><td>8</td></tr>",
                            "<tr><td>She&#39;s Come Undone</td><td>8</td></tr>",
                            "<tr><td>Galápagos</td><td>7</td></tr>",
                            "<tr><td>The Count of Monte Cristo</td><td>7</td></tr>",
                            "<tr><td>Mrs. Frisby and the Rats of NIMH (Rats of NIMH, #1)</td><td>7</td></tr>",
                            "<tr><td>Bel Canto</td><td>7</td></tr>",
                            "<tr><td>Pale Fire</td><td>7</td></tr>",
                            "<tr><td>Predator (Kay Scarpetta, #14)</td><td>7</td></tr>",
                            "<tr><td>Skipping Christmas</td><td>7</td></tr>",
                            "<tr><td>Sons of Destiny (Cirque Du Freak, #12)</td><td>7</td></tr>",
                            "<tr><td>The Woman in the Dunes</td><td>6</td></tr>",
                            "<tr><td>Little Altars Everywhere</td><td>6</td></tr>",
                            "<tr><td>Shopaholic and Sister (Shopaholic, #4)</td><td>6</td></tr>",
                            "<tr><td>The Lorax</td><td>5</td></tr>",
                            "<tr><td>The Heart of a Woman</td><td>5</td></tr>",
                            "<tr><td>Hunters of the Dusk (Cirque Du Freak, #7)</td><td>5</td></tr>",
                            "<tr><td>I Can Read With My Eyes Shut!</td><td>5</td></tr>",
                            "<tr><td>King Rat (Asian Saga, #4)</td><td>5</td></tr>",
                            "<tr><td>A Virtuous Woman</td><td>5</td></tr>",
                            "<tr><td>The Quiet American</td><td>5</td></tr>",
                            "<tr><td>Pygmalion &amp; My Fair Lady</td><td>5</td></tr>",
                            "<tr><td>Cradle and All</td><td>5</td></tr>",
                            "<tr><td>Superman: Birthright</td><td>5</td></tr>",
                            "<tr><td>The God of Small Things</td><td>4</td></tr>",
                            "<tr><td>The Complete Short Stories</td><td>4</td></tr>",
                            "<tr><td>The Power of Now: A Guide to Spiritual Enlightenment</td><td>4</td></tr>",
                            "<tr><td>Ahab&#39;s Wife, or The Star-Gazer</td><td>4</td></tr>",
                            "<tr><td>The Atonement Child</td><td>4</td></tr>",
                            "<tr><td>Still Life with Woodpecker</td><td>4</td></tr>",
                            "<tr><td>Cannery Row</td><td>4</td></tr>",
                            "<tr><td>Next</td><td>4</td></tr>",
                            "<tr><td>Never Let Me Go</td><td>4</td></tr>",
                            "<tr><td>Loving What Is: Four Questions That Can Change Your Life</td><td>4</td></tr>",
                            "<tr><td>Embroideries</td><td>4</td></tr>",
                            "<tr><td>I Hope They Serve Beer in Hell (Tucker Max, #1)</td><td>4</td></tr>",
                            "<tr><td>Freak the Mighty (Freak The Mighty, #1)</td><td>4</td></tr>",
                            "<tr><td>The Street Lawyer</td><td>3</td></tr>",
                            "<tr><td>The Bell Jar</td><td>3</td></tr>",
                            "<tr><td>The Canterbury Tales</td><td>3</td></tr>",
                            "<tr><td>Herzog</td><td>3</td></tr>",
                            "<tr><td>Haroun and the Sea of Stories (Khalifa Brothers, #1)</td><td>3</td></tr>",
                            "<tr><td>Sputnik Sweetheart</td><td>2</td></tr>",
                            "<tr><td>Deadeye Dick</td><td>2</td></tr>",
                            "<tr><td>The World According to Garp</td><td>2</td></tr>",
                            "<tr><td>Ghostwritten</td><td>2</td></tr>",
                            "<tr><td>The Bookseller of Kabul</td><td>1</td></tr>",
                            "<tr><td>The Divine Comedy</td><td>1</td></tr>",
                            "<tr><td>Harry Potter and the Sorcerer&#39;s Stone (Harry Potter, #1)</td><td>287</td></tr>",
                            "<tr><td>Fire Sea (The Death Gate Cycle, #3)</td><td>286</td></tr>",
                            "<tr><td>Wild Swans: Three Daughters of China</td><td>279</td></tr>",
                            "<tr><td>Metamorphoses</td><td>277</td></tr>",
                            "<tr><td>Think and Grow Rich: The Landmark Bestseller - Now Revised and Updated for the 21st Century</td><td>273</td></tr>",
                            "<tr><td>Hatchet (Brian&#39;s Saga, #1)</td><td>269</td></tr>",
                            "<tr><td>Middlesex</td><td>268</td></tr>",
                            "<tr><td>The Confusion (The Baroque Cycle, #2)</td><td>267</td></tr>",
                            "<tr><td>Hamlet</td><td>265</td></tr>",
                            "<tr><td>Atlas Shrugged</td><td>262</td></tr>",
                            "<tr><td>Snow Crash</td><td>261</td></tr>",
                            "<tr><td>Pompeii</td><td>260</td></tr>",
                            "<tr><td>The Odyssey</td><td>250</td></tr>",
                            "<tr><td>Leviathan</td><td>249</td></tr>",
                            "<tr><td>The Iliad/The Odyssey</td><td>240</td></tr>",
                            "<tr><td>Zodiac</td><td>240</td></tr>",
                            "<tr><td>The Diamond Age: or, A Young Lady&#39;s Illustrated Primer</td><td>239</td></tr>",
                            "<tr><td>Fahrenheit 451</td><td>236</td></tr>",
                            "<tr><td>Play It as It Lays</td><td>232</td></tr>",
                            "<tr><td>The Iliad</td><td>220</td></tr>",
                            "<tr><td>Corelli&#39;s Mandolin</td><td>219</td></tr>",
                            "<tr><td>The Brooklyn Follies</td><td>217</td></tr>",
                            "<tr><td>Gravity&#39;s Rainbow</td><td>217</td></tr>",
                            "<tr><td>Memoirs of a Geisha</td><td>213</td></tr>",
                            "<tr><td>Time Enough for Love</td><td>208</td></tr>",
                            "<tr><td>Moon Palace</td><td>207</td></tr>",
                            "<tr><td>The Design of Everyday Things</td><td>206</td></tr>",
                            "<tr><td>The Restaurant at the End of the Universe (Hitchhiker&#39;s Guide, #2)</td><td>202</td></tr>",
                            "<tr><td>Wild Fire (John Corey, #4)</td><td>198</td></tr>",
                            "<tr><td>Nickel and Dimed: On (Not) Getting By in America</td><td>195</td></tr>",
                            "<tr><td>Falling Angels</td><td>194</td></tr>",
                            "<tr><td>Martin Chuzzlewit</td><td>189</td></tr>",
                            "<tr><td>Giada&#39;s Family Dinners</td><td>189</td></tr>",
                            "<tr><td>Wild at Heart: Discovering the Secret of a Man&#39;s Soul</td><td>184</td></tr>",
                            "<tr><td>The New York Trilogy</td><td>182</td></tr>",
                            "<tr><td>Surely You&#39;re Joking, Mr. Feynman!: Adventures of a Curious Character</td><td>182</td></tr>",
                            "<tr><td>Sailing Alone Around the Room: New and Selected Poems</td><td>180</td></tr>",
                            "<tr><td>The Broker</td><td>180</td></tr>",
                            "<tr><td>A Separate Peace</td><td>178</td></tr>",
                            "<tr><td>Blue Ocean Strategy: How To Create Uncontested Market Space And Make The Competition Irrelevant</td><td>176</td></tr>",
                            "<tr><td>Liar&#39;s Poker</td><td>174</td></tr>",
                            "<tr><td>The War of Art: Break Through the Blocks &amp; Win Your Inner Creative Battles</td><td>174</td></tr>",
                            "<tr><td>War and Peace</td><td>174</td></tr>",
                            "<tr><td>A Million Little Pieces</td><td>172</td></tr>",
                            "<tr><td>A Home at the End of the World</td><td>169</td></tr>",
                            "<tr><td>The Crying of Lot 49</td><td>168</td></tr>",
                            "<tr><td>Another Bullshit Night in Suck City</td><td>166</td></tr>",
                            "<tr><td>Angels &amp; Demons  (Robert Langdon, #1)</td><td>166</td></tr>",
                            "<tr><td>West with the Night</td><td>164</td></tr>",
                            "<tr><td>The Natural Way to Draw</td><td>164</td></tr>",
                            "<tr><td>An Ideal Husband</td><td>162</td></tr>",
                            "<tr><td>A Painted House</td><td>162</td></tr>",
                            "<tr><td>Sentimental Education</td><td>161</td></tr>",
                            "<tr><td>Little Women (Little Women, #1)</td><td>157</td></tr>",
                            "<tr><td>The Oresteia  (Ορέστεια, #1-3)</td><td>157</td></tr>",
                            "<tr><td>Forever Amber </td><td>157</td></tr>",
                            "<tr><td>The Partner</td><td>156</td></tr>",
                            "<tr><td>I Like You: Hospitality Under the Influence</td><td>156</td></tr>",
                            "<tr><td>Brief Interviews with Hideous Men</td><td>154</td></tr>",
                            "<tr><td>Into the Wild</td><td>152</td></tr>",
                            "<tr><td>America (The Book): A Citizen&#39;s Guide to Democracy Inaction</td><td>152</td></tr>",
                            "<tr><td>Hard Eight (Stephanie Plum, #8)</td><td>149</td></tr>",
                            "<tr><td>The Zahir</td><td>149</td></tr>",
                            "<tr><td>Live and Let Die (James Bond, #2)</td><td>149</td></tr>",
                            "<tr><td>A Tale of Two Cities</td><td>148</td></tr>",
                            "<tr><td>The Deep End of the Ocean (Cappadora Family, #1)</td><td>147</td></tr>",
                            "<tr><td>Persuasion</td><td>147</td></tr>",
                            "<tr><td>Way of the Peaceful Warrior: A Book That Changes Lives</td><td>145</td></tr>",
                            "<tr><td>Howards End</td><td>143</td></tr>",
                            "<tr><td>The Innocent Man: Murder and Injustice in a Small Town</td><td>142</td></tr>",
                            "<tr><td>Anthem</td><td>142</td></tr>",
                            "<tr><td>White Teeth</td><td>142</td></tr>",
                            "<tr><td>The Book of Ruth</td><td>139</td></tr>",
                            "<tr><td>Snow Flower and the Secret Fan</td><td>139</td></tr>",
                            "<tr><td>The Taste of Home Cookbook</td><td>139</td></tr>",
                            "<tr><td>Lipstick Jungle</td><td>137</td></tr>",
                            "<tr><td>Shalimar the Clown</td><td>134</td></tr>",
                            "<tr><td>The Amazing Adventures of Kavalier &amp; Clay</td><td>129</td></tr>",
                            "<tr><td>Baltasar and Blimunda</td><td>129</td></tr>",
                            "<tr><td>The Innovator&#39;s Dilemma: The Revolutionary Book that Will Change the Way You Do Business (Collins Business Essentials)</td><td>127</td></tr>",
                            "<tr><td>Black Beauty</td><td>127</td></tr>",
                            "<tr><td>The Good Earth (House of Earth, #1)</td><td>126</td></tr>",
                            "<tr><td>The Hungry Tide</td><td>126</td></tr>",
                            "<tr><td>Zen and the Art of Motorcycle Maintenance: An Inquiry Into Values</td><td>125</td></tr>",
                            "<tr><td>The Richest Man in Babylon</td><td>123</td></tr>",
                            "<tr><td>Memories of My Melancholy Whores</td><td>123</td></tr>",
                            "<tr><td>Slaughterhouse-Five</td><td>123</td></tr>",
                            "<tr><td>The Plot Against America</td><td>118</td></tr>",
                            "<tr><td>Interpreter of Maladies</td><td>116</td></tr>",
                            "<tr><td>Quicksilver (The Baroque Cycle, #1)</td><td>116</td></tr>",
                            "<tr><td>The Heart of the Matter</td><td>116</td></tr>",
                            "<tr><td>Villa Incognito</td><td>115</td></tr>",
                            "<tr><td>The Automatic Millionaire: A Powerful One-Step Plan to Live and Finish Rich</td><td>114</td></tr>",
                            "<tr><td>From Beirut to Jerusalem</td><td>114</td></tr>",
                            "<tr><td>Freakonomics: A Rogue Economist Explores the Hidden Side of Everything (Freakonomics, #1)</td><td>113</td></tr>",
                            "<tr><td>From the Mixed-Up Files of Mrs. Basil E. Frankweiler</td><td>112</td></tr>",
                            "<tr><td>High Five (Stephanie Plum, #5)</td><td>111</td></tr>",
                            "<tr><td>Truman</td><td>110</td></tr>",
                            "<tr><td>The History of Love</td><td>110</td></tr>",
                            "<tr><td>The List</td><td>110</td></tr>",
                            "<tr><td>The Westing Game</td><td>109</td></tr>",
                            "<tr><td>Sex, Drugs, and Cocoa Puffs: A Low Culture Manifesto</td><td>108</td></tr>",
                            "<tr><td>The Way the Crow Flies</td><td>108</td></tr>",
                            "<tr><td>One Fish, Two Fish, Red Fish, Blue Fish</td><td>107</td></tr>",
                            "<tr><td>Lost Horizon</td><td>107</td></tr>",
                            "<tr><td>The Wedding (The Notebook, #2)</td><td>107</td></tr>",
                            "<tr><td>The Johnstown Flood</td><td>106</td></tr>",
                            "<tr><td>A Room with a View</td><td>106</td></tr>",
                            "<tr><td>Perfume: The Story of a Murderer</td><td>105</td></tr>",
                            "<tr><td>The Complete Sherlock Holmes, Vol 2</td><td>105</td></tr>",
                            "<tr><td>The World Is Flat: A Brief History of the Twenty-first Century</td><td>105</td></tr>",
                            "<tr><td>Sex and the City</td><td>104</td></tr>",
                            "<tr><td>A Case of Need</td><td>104</td></tr>",
                            "<tr><td>The Bone Collector (Lincoln Rhyme, #1)</td><td>103</td></tr>",
                            "<tr><td>No Logo</td><td>102</td></tr>",
                            "<tr><td>A Little Princess</td><td>102</td></tr>",
                            "<tr><td>The Grapes of Wrath</td><td>100</td></tr>",
                            "<tr><td>So Long, and Thanks for All the Fish (Hitchhiker&#39;s Guide to the Galaxy, #4)</td><td>99</td></tr>",
                            "<tr><td>American Gods (American Gods, #1)</td><td>99</td></tr>",
                            "<tr><td>The Egypt Game (Game, #1)</td><td>99</td></tr>",
                            "<tr><td>The Rapture of Canaan</td><td>99</td></tr>",
                            "<tr><td>Hey Nostradamus!</td><td>98</td></tr>",
                            "<tr><td>Kurt Vonnegut&#39;s Cat&#39;s Cradle (Modern Critical Interpretations)</td><td>97</td></tr>",
                            "<tr><td>Economics in One Lesson: The Shortest &amp; Surest Way to Understand Basic Economics</td><td>96</td></tr>",
                            "<tr><td>Until I Find You</td><td>96</td></tr>",
                            "<tr><td>Lysistrata</td><td>95</td></tr>",
                            "<tr><td>The Physician (Cole Family Trilogy, #1)</td><td>95</td></tr>",
                            "<tr><td>Guns, Germs, and Steel: The Fates of Human Societies</td><td>94</td></tr>",
                            "<tr><td>Of Mice and Men</td><td>93</td></tr>",
                            "<tr><td>Harry Potter Schoolbooks Box Set: Two Classic Books from the Library of Hogwarts School of Witchcraft and Wizardry</td><td>92</td></tr>",
                            "<tr><td>The River (Brian&#39;s Saga, #2)</td><td>92</td></tr>",
                            "<tr><td>Twenty Love Poems and a Song of Despair</td><td>92</td></tr>",
                            "<tr><td>A Great and Terrible Beauty (Gemma Doyle, #1)</td><td>92</td></tr>",
                            "<tr><td>Songs in Ordinary Time</td><td>91</td></tr>",
                            "<tr><td>Tunnels of Blood (Cirque Du Freak, #3)</td><td>90</td></tr>",
                            "<tr><td>Fast Food Nation: The Dark Side of the All-American Meal</td><td>90</td></tr>",
                            "<tr><td>Congo</td><td>90</td></tr>",
                            "<tr><td>The Complete Anne of Green Gables Boxed Set (Anne of Green Gables, #1-8)</td><td>89</td></tr>",
                            "<tr><td>The Hobbit</td><td>89</td></tr>",
                            "<tr><td>Into Thin Air: A Personal Account of the Mount Everest Disaster</td><td>88</td></tr>",
                            "<tr><td>Wolves of the Calla (The Dark Tower, #5)</td><td>88</td></tr>",
                            "<tr><td>Warrior of the Light</td><td>88</td></tr>",
                            "<tr><td>Ilium (Ilium, #1)</td><td>88</td></tr>",
                            "<tr><td>Sunshine</td><td>87</td></tr>",
                            "<tr><td>Prep</td><td>87</td></tr>",
                            "<tr><td>The Complete Short Novels</td><td>86</td></tr>",
                            "<tr><td>Kafka on the Shore</td><td>86</td></tr>",
                            "<tr><td>The Adventures of Sherlock Holmes</td><td>86</td></tr>",
                            "<tr><td>Heart of Darkness</td><td>84</td></tr>",
                            "<tr><td>Veronika Decides to Die</td><td>84</td></tr>",
                            "<tr><td>Moneyball: The Art of Winning an Unfair Game</td><td>83</td></tr>",
                            "<tr><td>The America&#39;s Test Kitchen Family Cookbook</td><td>83</td></tr>",
                            "<tr><td>The Fountainhead</td><td>83</td></tr>",
                            "<tr><td>Team of Rivals: The Political Genius of Abraham Lincoln</td><td>83</td></tr>",
                            "<tr><td>True Believer (Jeremy Marsh &amp; Lexie Darnell, #1)</td><td>83</td></tr>",
                            "<tr><td>Complications: A Surgeon&#39;s Notes on an Imperfect Science</td><td>82</td></tr>",
                            "<tr><td>Stranger than Fiction</td><td>82</td></tr>",
                            "<tr><td>Brave New World / Brave New World Revisited</td><td>82</td></tr>",
                            "<tr><td>Like Water for Chocolate</td><td>81</td></tr>",
                            "<tr><td>All the Names</td><td>81</td></tr>",
                            "<tr><td>The 48 Laws of Power</td><td>81</td></tr>",
                            "<tr><td>A Midsummer Night&#39;s Dream</td><td>81</td></tr>",
                            "<tr><td>The Pilot&#39;s Wife</td><td>81</td></tr>",
                            "<tr><td>The Long Walk: The True Story of a Trek to Freedom</td><td>80</td></tr>",
                            "<tr><td>The View from Saturday</td><td>79</td></tr>",
                            "<tr><td>The Power and the Glory</td><td>79</td></tr>",
                            "<tr><td>The Histories</td><td>79</td></tr>",
                            "<tr><td>The Wonderful Story of Henry Sugar and Six More</td><td>79</td></tr>",
                            "<tr><td>The Amber Room</td><td>78</td></tr>",
                            "<tr><td>The Curious Incident of the Dog in the Night-Time</td><td>78</td></tr>",
                            "<tr><td>The Bellmaker (Redwall, #7)</td><td>77</td></tr>",
                            "<tr><td>Truth and Beauty</td><td>77</td></tr>",
                            "<tr><td>The Long Winter (Little House, #6)</td><td>77</td></tr>",
                            "<tr><td>All the King&#39;s Men</td><td>76</td></tr>",
                            "<tr><td>The Lost Boy (Dave Pelzer #2)</td><td>76</td></tr>",
                            "<tr><td>My Name is Red</td><td>75</td></tr>",
                            "<tr><td>Revolting Rhymes</td><td>74</td></tr>",
                            "<tr><td>The Rainmaker</td><td>74</td></tr>",
                            "<tr><td>Six Easy Pieces: Essentials of Physics By Its Most Brilliant Teacher</td><td>73</td></tr>",
                            "<tr><td>The Alchemist</td><td>73</td></tr>",
                            "<tr><td>A Widow for One Year</td><td>73</td></tr>",
                            "<tr><td>Pride and Prejudice</td><td>71</td></tr>",
                            "<tr><td>The Dark Tower (The Dark Tower, #7)</td><td>71</td></tr>",
                            "<tr><td>A Lesson Before Dying</td><td>71</td></tr>",
                            "<tr><td>The Summons</td><td>70</td></tr>",
                            "<tr><td>Girl with a Pearl Earring</td><td>70</td></tr>",
                            "<tr><td>Getting Things Done: The Art of Stress-Free Productivity</td><td>70</td></tr>",
                            "<tr><td>How to Win Friends and Influence People</td><td>69</td></tr>",
                            "<tr><td>Timbuktu</td><td>69</td></tr>",
                            "<tr><td>Narcissus and Goldmund</td><td>69</td></tr>",
                            "<tr><td>The War of the Worlds</td><td>69</td></tr>",
                            "<tr><td>A History of the World in 6 Glasses</td><td>69</td></tr>",
                            "<tr><td>Blind Willow, Sleeping Woman</td><td>68</td></tr>",
                            "<tr><td>It&#39;s Not About the Bike: My Journey Back to Life</td><td>68</td></tr>",
                            "<tr><td>The Rescue</td><td>68</td></tr>",
                            "<tr><td>The Picture of Dorian Gray</td><td>68</td></tr>",
                            "<tr><td>The Omnivore&#39;s Dilemma: A Natural History of Four Meals</td><td>68</td></tr>",
                            "<tr><td>The Testament</td><td>67</td></tr>",
                            "<tr><td>The Snows of Kilimanjaro and Other Stories</td><td>67</td></tr>",
                            "<tr><td>The Pilgrimage</td><td>67</td></tr>",
                            "<tr><td>Rachael Ray 365: No Repeats: A Year of Deliciously Different Dinners</td><td>67</td></tr>",
                            "<tr><td>A History of God: The 4,000-Year Quest of Judaism, Christianity, and Islam</td><td>67</td></tr>",
                            "<tr><td>The Barefoot Contessa Cookbook</td><td>66</td></tr>",
                            "<tr><td>The Autograph Man</td><td>65</td></tr>",
                            "<tr><td>Half Asleep in Frog Pajamas</td><td>65</td></tr>",
                            "<tr><td>Ways of Seeing</td><td>65</td></tr>",
                            "<tr><td>The Second Summer of the Sisterhood (Sisterhood, #2)</td><td>65</td></tr>",
                            "<tr><td>A House for Mr Biswas</td><td>65</td></tr>",
                            "<tr><td>Lolita</td><td>64</td></tr>",
                            "<tr><td>A Briefer History of Time</td><td>64</td></tr>",
                            "<tr><td>Horton Hears a Who!</td><td>64</td></tr>",
                            "<tr><td>The Brethren</td><td>64</td></tr>",
                            "<tr><td>Inés of My Soul</td><td>64</td></tr>",
                            "<tr><td>The Three Musketeers</td><td>64</td></tr>",
                            "<tr><td>Jailbird</td><td>63</td></tr>",
                            "<tr><td>Lunar Park</td><td>63</td></tr>",
                            "<tr><td>Beloved</td><td>63</td></tr>",
                            "<tr><td>The Shadow of the Wind (The Cemetery of Forgotten Books,  #1)</td><td>62</td></tr>",
                            "<tr><td>Great Expectations</td><td>62</td></tr>",
                            "<tr><td>His Excellency: George Washington</td><td>62</td></tr>",
                            "<tr><td>Founding Brothers: The Revolutionary Generation</td><td>62</td></tr>",
                            "<tr><td>Selected Stories</td><td>61</td></tr>",
                            "<tr><td>Built to Last: Successful Habits of Visionary Companies</td><td>61</td></tr>",
                            "<tr><td>The Virgin Blue</td><td>61</td></tr>",
                            "<tr><td>The Short Stories</td><td>61</td></tr>",
                            "<tr><td>Doctor No (James Bond, #6)</td><td>60</td></tr>",
                            "<tr><td>Do Androids Dream of Electric Sheep?</td><td>60</td></tr>",
                            "<tr><td>Fear and Loathing in Las Vegas</td><td>60</td></tr>",
                            "<tr><td>Charlie and the Great Glass Elevator (Charlie Bucket, #2)</td><td>60</td></tr>",
                            "<tr><td>Timequake</td><td>60</td></tr>",
                            "<tr><td>The Fortress of Solitude</td><td>60</td></tr>",
                            "<tr><td>Mariel of Redwall (Redwall, #4)</td><td>60</td></tr>",
                            "<tr><td>Don&#39;t Make Me Think: A Common Sense Approach to Web Usability</td><td>60</td></tr>",
                            "<tr><td>1776</td><td>59</td></tr>",
                            "<tr><td>Burmese Days</td><td>59</td></tr>",
                            "<tr><td>Man&#39;s Search for Meaning</td><td>59</td></tr>",
                            "<tr><td>What Looks Like Crazy on an Ordinary Day (Idlewild, #1)</td><td>59</td></tr>",
                            "<tr><td>The Devil and Miss Prym (On the Seventh Day, #3)</td><td>59</td></tr>",
                            "<tr><td>The Man From St. Petersburg</td><td>59</td></tr>",
                            "<tr><td>A Moveable Feast</td><td>58</td></tr>",
                            "<tr><td>Going After Cacciato</td><td>58</td></tr>",
                            "<tr><td>The Smoke Jumper</td><td>58</td></tr>",
                            "<tr><td>The Valkyries</td><td>58</td></tr>",
                            "<tr><td>The Five Love Languages of Children</td><td>58</td></tr>",
                            "<tr><td>Vampire Mountain (Cirque Du Freak, #4)</td><td>58</td></tr>",
                            "<tr><td>Carter Beats the Devil</td><td>58</td></tr>",
                            "<tr><td>Oedipus Rex  (The Theban Plays, #1)</td><td>57</td></tr>",
                            "<tr><td>The Firm (Penguin Readers, Level 5)</td><td>57</td></tr>",
                            "<tr><td>The Road</td><td>57</td></tr>",
                            "<tr><td>My Life in France</td><td>57</td></tr>",
                            "<tr><td>The Path Between the Seas: The Creation of the Panama Canal, 1870-1914</td><td>57</td></tr>",
                            "<tr><td>Night (The Night Trilogy #1)</td><td>57</td></tr>",
                            "<tr><td>Anil&#39;s Ghost</td><td>57</td></tr>",
                            "<tr><td>Salt: A World History</td><td>57</td></tr>",
                            "<tr><td>The Beach House</td><td>56</td></tr>",
                            "<tr><td>Portrait of a Killer: Jack the Ripper - Case Closed</td><td>56</td></tr>",
                            "<tr><td>In Our Time</td><td>56</td></tr>",
                            "<tr><td>Anansi Boys</td><td>56</td></tr>",
                            "<tr><td>Deerskin</td><td>56</td></tr>",
                            "<tr><td>Morality for Beautiful Girls (No. 1 Ladies&#39; Detective Agency, #3)</td><td>56</td></tr>",
                            "<tr><td>Eleven Minutes</td><td>55</td></tr>",
                            "<tr><td>Longitude: The True Story of a Lone Genius Who Solved the Greatest Scientific Problem of His Time</td><td>55</td></tr>",
                            "<tr><td>A Christmas Carol</td><td>55</td></tr>",
                            "<tr><td>The First Four Years  (Little House, #9)</td><td>55</td></tr>",
                            "<tr><td>Love in the Time of Cholera</td><td>54</td></tr>",
                            "<tr><td>My Friend Leonard</td><td>54</td></tr>",
                            "<tr><td>The Brothers Karamazov</td><td>54</td></tr>",
                            "<tr><td>The Clan of the Cave Bear (Earth&#39;s Children, #1)</td><td>53</td></tr>",
                            "<tr><td>A Man Without a Country</td><td>53</td></tr>",
                            "<tr><td>The Corrections</td><td>53</td></tr>",
                            "<tr><td>The Aleph and Other Stories </td><td>53</td></tr>",
                            "<tr><td>The Shadow Rising (Wheel of Time, #4)</td><td>53</td></tr>",
                            "<tr><td>Charlie and the Chocolate Factory (Charlie Bucket, #1)</td><td>53</td></tr>",
                            "<tr><td>In the Lake of the Woods</td><td>53</td></tr>",
                            "<tr><td>Blink</td><td>52</td></tr>",
                            "<tr><td>Me Talk Pretty One Day</td><td>52</td></tr>",
                            "<tr><td>The Fifth Mountain</td><td>51</td></tr>",
                            "<tr><td>Suffer the Children</td><td>51</td></tr>",
                            "<tr><td>Pearls of Lutra (Redwall, #9)</td><td>50</td></tr>",
                            "<tr><td>Persepolis: The Story of a Childhood (Persepolis, #1)</td><td>50</td></tr>",
                            "<tr><td>To Kill a Mockingbird</td><td>50</td></tr>",
                            "<tr><td>Paradise</td><td>50</td></tr>",
                            "<tr><td>Eaters of the Dead</td><td>50</td></tr>",
                            "<tr><td>The Club Dumas</td><td>50</td></tr>",
                            "<tr><td>Special Topics in Calamity Physics</td><td>50</td></tr>",
                            "<tr><td>The Winter of Our Discontent</td><td>49</td></tr>",
                            "<tr><td>How to Be Good</td><td>49</td></tr>",
                            "<tr><td>The Call of the Wild</td><td>49</td></tr>",
                            "<tr><td>Timeline</td><td>48</td></tr>",
                            "<tr><td>The Cement Garden</td><td>48</td></tr>",
                            "<tr><td>Icy Sparks</td><td>48</td></tr>",
                            "<tr><td>Mornings on Horseback</td><td>48</td></tr>",
                            "<tr><td>A Walk in the Woods</td><td>48</td></tr>",
                            "<tr><td>The Great Gatsby</td><td>48</td></tr>",
                            "<tr><td>Outcast of Redwall (Redwall, #8)</td><td>48</td></tr>",
                            "<tr><td>The Ground Beneath Her Feet</td><td>48</td></tr>",
                            "<tr><td>Twelfth Night</td><td>48</td></tr>",
                            "<tr><td>Travels with Charley: In Search of America</td><td>48</td></tr>",
                            "<tr><td>Life of Pi</td><td>48</td></tr>",
                            "<tr><td>Black and Blue</td><td>47</td></tr>",
                            "<tr><td>The Doors of Perception &amp; Heaven and Hell</td><td>47</td></tr>",
                            "<tr><td>The Poisonwood Bible</td><td>47</td></tr>",
                            "<tr><td>Unfinished Tales of Númenor and Middle-Earth</td><td>47</td></tr>",
                            "<tr><td>The Good Soldier</td><td>47</td></tr>",
                            "<tr><td>Gates of Fire: An Epic Novel of the Battle of Thermopylae</td><td>47</td></tr>",
                            "<tr><td>The Andromeda Strain</td><td>47</td></tr>",
                            "<tr><td>The Witches</td><td>47</td></tr>",
                            "<tr><td>A Heartbreaking Work of Staggering Genius</td><td>46</td></tr>",
                            "<tr><td>Brokeback Mountain</td><td>46</td></tr>",
                            "<tr><td>Motor Mouth (Alex Barnaby #2)</td><td>46</td></tr>",
                            "<tr><td>A Brief History of Time</td><td>46</td></tr>",
                            "<tr><td>Confessions of an Economic Hit Man</td><td>45</td></tr>",
                            "<tr><td>The Pragmatic Programmer: From Journeyman to Master</td><td>45</td></tr>",
                            "<tr><td>In Search of Excellence: Lessons from America&#39;s Best-Run Companies</td><td>45</td></tr>",
                            "<tr><td>Women in Love (Brangwen Family, #2)</td><td>45</td></tr>",
                            "<tr><td>A Walk to Remember</td><td>45</td></tr>",
                            "<tr><td>The Devil Wears Prada (The Devil Wears Prada, #1)</td><td>45</td></tr>",
                            "<tr><td>Wizard and Glass (The Dark Tower, #4)</td><td>44</td></tr>",
                            "<tr><td>The Thorn Birds</td><td>44</td></tr>",
                            "<tr><td>The Time Machine</td><td>44</td></tr>",
                            "<tr><td>Skinny Legs and All</td><td>44</td></tr>",
                            "<tr><td>Who Moved My Cheese?</td><td>44</td></tr>",
                            "<tr><td>The Terminal Man</td><td>44</td></tr>",
                            "<tr><td>A Supposedly Fun Thing I&#39;ll Never Do Again:  Essays and Arguments</td><td>44</td></tr>",
                            "<tr><td>The First World War</td><td>44</td></tr>",
                            "<tr><td>About a Boy</td><td>44</td></tr>",
                            "<tr><td>Paris to the Moon</td><td>44</td></tr>",
                            "<tr><td>The Prophet</td><td>43</td></tr>",
                            "<tr><td>The Catcher in the Rye</td><td>43</td></tr>",
                            "<tr><td>The Oedipus Cycle: Oedipus Rex/Oedipus at Colonus/Antigone (The Theban Plays, #1–3)</td><td>43</td></tr>",
                            "<tr><td>Invisible Cities</td><td>43</td></tr>",
                            "<tr><td>The Great Train Robbery</td><td>43</td></tr>",
                            "<tr><td>The Big Sleep (Philip Marlowe, #1)</td><td>43</td></tr>",
                            "<tr><td>La Dame aux Camélias</td><td>43</td></tr>",
                            "<tr><td>Holidays on Ice</td><td>43</td></tr>",
                            "<tr><td>The Magic Finger (Young Puffin Developing Reader)</td><td>43</td></tr>",
                            "<tr><td>The 158-Pound Marriage</td><td>43</td></tr>",
                            "<tr><td>Tara Road</td><td>43</td></tr>",
                            "<tr><td>Persepolis, Volume 1</td><td>42</td></tr>",
                            "<tr><td>Papillon</td><td>42</td></tr>",
                            "<tr><td>All-of-a-Kind Family (All-of-a-Kind Family, #1)</td><td>42</td></tr>",
                            "<tr><td>One for the Money (Stephanie Plum, #1)</td><td>42</td></tr>",
                            "<tr><td>Anne Frank Remembered: The Story of the Woman Who Helped to Hide the Frank Family</td><td>42</td></tr>",
                            "<tr><td>Barrel Fever: Stories and Essays</td><td>42</td></tr>",
                            "<tr><td>The Woman in White</td><td>41</td></tr>",
                            "<tr><td>Shopaholic Takes Manhattan (Shopaholic, #2)</td><td>41</td></tr>",
                            "<tr><td>Waiting for the Barbarians</td><td>41</td></tr>",
                            "<tr><td>A Christmas Carol and Other Christmas Writings</td><td>41</td></tr>",
                            "<tr><td>Maximum City: Bombay Lost and Found</td><td>41</td></tr>",
                            "<tr><td>Girlfriend in a Coma</td><td>41</td></tr>",
                            "<tr><td>Twelve Sharp (Stephanie Plum, #12)</td><td>41</td></tr>",
                            "<tr><td>A Prayer for Owen Meany</td><td>40</td></tr>",
                            "<tr><td>Disgrace</td><td>40</td></tr>",
                            "<tr><td>Marina</td><td>40</td></tr>",
                            "<tr><td>Anne Frank: Beyond the Diary - A Photographic Remembrance</td><td>40</td></tr>",
                            "<tr><td>Fever Pitch</td><td>40</td></tr>",
                            "<tr><td>Seven Up (Stephanie Plum, #7)</td><td>40</td></tr>",
                            "<tr><td>The Last Juror</td><td>40</td></tr>",
                            "<tr><td>Little House in the Big Woods (Little House, #1)</td><td>39</td></tr>",
                            "<tr><td>Fantastic Mr. Fox</td><td>39</td></tr>",
                            "<tr><td>Breath, Eyes, Memory</td><td>39</td></tr>",
                            "<tr><td>The Pearl</td><td>39</td></tr>",
                            "<tr><td>Complete Works of Oscar Wilde</td><td>39</td></tr>",
                            "<tr><td>Anne of Green Gables (Anne of Green Gables, #1)</td><td>38</td></tr>",
                            "<tr><td>Shopaholic Ties the Knot (Shopaholic, #3)</td><td>38</td></tr>",
                            "<tr><td>Tuesdays with Morrie</td><td>38</td></tr>",
                            "<tr><td>A People&#39;s History of the United States</td><td>38</td></tr>",
                            "<tr><td>Animal Farm / 1984</td><td>38</td></tr>",
                            "<tr><td>Howl&#39;s Moving Castle (Howl&#39;s Moving Castle, #1)</td><td>38</td></tr>",
                            "<tr><td>Generation X: Tales for an Accelerated Culture</td><td>37</td></tr>",
                            "<tr><td>Cradle to Cradle: Remaking the Way We Make Things</td><td>37</td></tr>",
                            "<tr><td>The Long Goodbye (Philip Marlowe, #6)</td><td>37</td></tr>",
                            "<tr><td>The Pillars of Creation (Sword of Truth, #7)</td><td>37</td></tr>",
                            "<tr><td>V.</td><td>37</td></tr>",
                            "<tr><td>Open House</td><td>37</td></tr>",
                            "<tr><td>Olivia Joules and the Overactive Imagination</td><td>37</td></tr>",
                            "<tr><td>Dragonfly in Amber (Outlander, #2)</td><td>37</td></tr>",
                            "<tr><td>The People of Sparks (Book of Ember, #2)</td><td>36</td></tr>",
                            "<tr><td>QED: The Strange Theory of Light and Matter</td><td>36</td></tr>",
                            "<tr><td>Code to Zero</td><td>36</td></tr>",
                            "<tr><td>Moo, Baa, La La La!</td><td>36</td></tr>",
                            "<tr><td>Islands in the Stream</td><td>36</td></tr>",
                            "<tr><td>The Legend of Luke (Redwall, #12)</td><td>36</td></tr>",
                            "<tr><td>Antigone (The Theban Plays, #3)</td><td>36</td></tr>",
                            "<tr><td>A Woman of Substance (Emma Harte Saga #1)</td><td>36</td></tr>",
                            "<tr><td>First They Killed My Father: A Daughter of Cambodia Remembers</td><td>36</td></tr>",
                            "<tr><td>Moloka&#39;i</td><td>35</td></tr>",
                            "<tr><td>From Russia With Love (James Bond, #5)</td><td>35</td></tr>",
                            "<tr><td>Bleachers</td><td>35</td></tr>",
                            "<tr><td>All Families are Psychotic</td><td>35</td></tr>",
                            "<tr><td>The Stories of Eva Luna</td><td>35</td></tr>",
                            "<tr><td>Fight Club</td><td>35</td></tr>",
                            "<tr><td>Darwin&#39;s Dangerous Idea: Evolution and the Meanings of Life</td><td>35</td></tr>",
                            "<tr><td>Last Orders</td><td>35</td></tr>",
                            "<tr><td>Message in a Bottle</td><td>34</td></tr>",
                            "<tr><td>A Bend in the Road</td><td>34</td></tr>",
                            "<tr><td>Macbeth</td><td>34</td></tr>",
                            "<tr><td>Postmortem (Kay Scarpetta, #1)</td><td>34</td></tr>",
                            "<tr><td>Shadows of the Empire (Star Wars)</td><td>34</td></tr>",
                            "<tr><td>Boy: Tales of Childhood</td><td>34</td></tr>",
                            "<tr><td>Midwives</td><td>33</td></tr>",
                            "<tr><td>Speaker for the Dead (Ender&#39;s Saga, #2)</td><td>33</td></tr>",
                            "<tr><td>Ethan Frome</td><td>33</td></tr>",
                            "<tr><td>Sir Gawain and the Green Knight </td><td>33</td></tr>",
                            "<tr><td>Breakfast of Champions</td><td>33</td></tr>",
                            "<tr><td>You Shall Know Our Velocity!</td><td>33</td></tr>",
                            "<tr><td>God Bless You, Mr. Rosewater</td><td>33</td></tr>",
                            "<tr><td>Prophet</td><td>33</td></tr>",
                            "<tr><td>&#39;Tis (Frank McCourt, #2)</td><td>33</td></tr>",
                            "<tr><td>&#39;Salem&#39;s Lot</td><td>33</td></tr>",
                            "<tr><td>The Old Man and the Sea</td><td>33</td></tr>",
                            "<tr><td>Trials of Death (Cirque Du Freak, #5)</td><td>32</td></tr>",
                            "<tr><td>Night Over Water</td><td>32</td></tr>",
                            "<tr><td>Four Blondes</td><td>32</td></tr>",
                            "<tr><td>Amsterdam</td><td>32</td></tr>",
                            "<tr><td>Four to Score (Stephanie Plum, #4)</td><td>32</td></tr>",
                            "<tr><td>Mayflower: A Story of Courage, Community, and War</td><td>32</td></tr>",
                            "<tr><td>The Giver (The Giver, #1)</td><td>32</td></tr>",
                            "<tr><td>The Drama of the Gifted Child: The Search for the True Self</td><td>32</td></tr>",
                            "<tr><td>The Burden of Proof</td><td>32</td></tr>",
                            "<tr><td>Cane River</td><td>32</td></tr>",
                            "<tr><td>Holy Cow: An Indian Adventure</td><td>31</td></tr>",
                            "<tr><td>How to Make Love Like a Porn Star: A Cautionary Tale</td><td>31</td></tr>",
                            "<tr><td>The Broom of the System</td><td>31</td></tr>",
                            "<tr><td>Howl and Other Poems</td><td>31</td></tr>",
                            "<tr><td>The Great Book of Amber (The Chronicles of Amber, #1-10)</td><td>31</td></tr>",
                            "<tr><td>Franny and Zooey</td><td>30</td></tr>",
                            "<tr><td>The Secret Garden</td><td>30</td></tr>",
                            "<tr><td>Naked</td><td>30</td></tr>",
                            "<tr><td>A Bend in the River</td><td>30</td></tr>",
                            "<tr><td>Jack: Straight from the Gut</td><td>30</td></tr>",
                            "<tr><td>The Millionaire Next Door: The Surprising Secrets of Americas Wealthy</td><td>30</td></tr>",
                            "<tr><td>Path of the Assassin (Scot Harvath, #2)</td><td>30</td></tr>",
                            "<tr><td>The Year of Magical Thinking</td><td>30</td></tr>",
                            "<tr><td>Rising Sun</td><td>29</td></tr>",
                            "<tr><td>Casino Royale (James Bond, #1)</td><td>29</td></tr>",
                            "<tr><td>By the River Piedra I Sat Down and Wept</td><td>29</td></tr>",
                            "<tr><td>The Unbearable Lightness of Being</td><td>29</td></tr>",
                            "<tr><td>Jackdaws</td><td>29</td></tr>",
                            "<tr><td>John Adams</td><td>29</td></tr>",
                            "<tr><td>Jurassic Park (Jurassic Park, #1)</td><td>29</td></tr>",
                            "<tr><td>To Have and Have Not</td><td>29</td></tr>",
                            "<tr><td>Unlimited Power : The New Science Of Personal Achievement</td><td>29</td></tr>",
                            "<tr><td>Another Roadside Attraction</td><td>29</td></tr>",
                            "<tr><td>A Modest Proposal and Other Satirical Works</td><td>29</td></tr>",
                            "<tr><td>Forever in Blue: The Fourth Summer of the Sisterhood (Sisterhood, #4)</td><td>29</td></tr>",
                            "<tr><td>Naked Lunch</td><td>29</td></tr>",
                            "<tr><td>The Secret Art of Dr. Seuss</td><td>29</td></tr>",
                            "<tr><td>Fried Green Tomatoes at the Whistle Stop Cafe</td><td>29</td></tr>",
                            "<tr><td>The King of Torts</td><td>28</td></tr>",
                            "<tr><td>The Big Bad Wolf  (Alex Cross, #9)</td><td>28</td></tr>",
                            "<tr><td>The Giraffe and the Pelly and Me</td><td>28</td></tr>",
                            "<tr><td>Killers of the Dawn (Cirque Du Freak, #9)</td><td>28</td></tr>",
                            "<tr><td>Life and Times of Michael K</td><td>28</td></tr>",
                            "<tr><td>Practicing the Power of Now: Essential Teachings, Meditations, and Exercises from the Power of Now</td><td>28</td></tr>",
                            "<tr><td>Marlfox (Redwall, #11)</td><td>28</td></tr>",
                            "<tr><td>Saturday</td><td>28</td></tr>",
                            "<tr><td>Reading Lolita in Tehran</td><td>28</td></tr>",
                            "<tr><td>The Pillars of the Earth (The Kingsbridge Series, #1)</td><td>28</td></tr>",
                            "<tr><td>East of Eden</td><td>27</td></tr>",
                            "<tr><td>The Jane Austen Book Club</td><td>27</td></tr>",
                            "<tr><td>Cry, the Beloved Country</td><td>27</td></tr>",
                            "<tr><td>Them: Adventures with Extremists</td><td>27</td></tr>",
                            "<tr><td>Lucy Sullivan Is Getting Married</td><td>27</td></tr>",
                            "<tr><td>Pygmalion</td><td>27</td></tr>",
                            "<tr><td>Three to Get Deadly (Stephanie Plum, #3)</td><td>27</td></tr>",
                            "<tr><td>Crow Lake</td><td>27</td></tr>",
                            "<tr><td>Twenty Years After (The D&#39;Artagnan Romances, #2)</td><td>27</td></tr>",
                            "<tr><td>A Son of the Circus</td><td>26</td></tr>",
                            "<tr><td>The Man Who Listens to Horses</td><td>26</td></tr>",
                            "<tr><td>Dr. Seuss&#39;s ABC: An Amazing Alphabet Book! (Bright and Early Board Books)</td><td>26</td></tr>",
                            "<tr><td>The Language Instinct: How the Mind Creates Language</td><td>26</td></tr>",
                            "<tr><td>1984</td><td>26</td></tr>",
                            "<tr><td>Dispatches</td><td>26</td></tr>",
                            "<tr><td>number9dream</td><td>26</td></tr>",
                            "<tr><td>Blindness</td><td>26</td></tr>",
                            "<tr><td>Genome: the Autobiography of a Species in 23 Chapters</td><td>26</td></tr>",
                            "<tr><td>Brave New World</td><td>26</td></tr>",
                            "<tr><td>Danny the Champion of the World</td><td>26</td></tr>",
                            "<tr><td>Endymion (Hyperion Cantos, #3)</td><td>25</td></tr>",
                            "<tr><td>Lord of the Shadows (Cirque Du Freak, #11)</td><td>25</td></tr>",
                            "<tr><td>The House of the Spirits</td><td>25</td></tr>",
                            "<tr><td>The Good Husband of Zebra Drive (No. 1 Ladies&#39; Detective Agency, #8)</td><td>25</td></tr>",
                            "<tr><td>From Potter&#39;s Field (Kay Scarpetta, #6)</td><td>25</td></tr>",
                            "<tr><td>Peter and the Shadow Thieves (Peter and the Starcatchers, #2)</td><td>25</td></tr>",
                            "<tr><td>Tears of the Giraffe (No. 1 Ladies&#39; Detective Agency, #2)</td><td>25</td></tr>",
                            "<tr><td>The Vampire Prince (Cirque Du Freak, #6)</td><td>25</td></tr>",
                            "<tr><td>Microserfs</td><td>25</td></tr>",
                            "<tr><td>The Four Agreements: A Practical Guide to Personal Freedom</td><td>24</td></tr>",
                            "<tr><td>Cause of Death (Kay Scarpetta, #7)</td><td>24</td></tr>",
                            "<tr><td>Enchantment</td><td>24</td></tr>",
                            "<tr><td>Rainbow Six (Jack Ryan Universe, #10)</td><td>24</td></tr>",
                            "<tr><td>Goldfinger (James Bond, #7)</td><td>24</td></tr>",
                            "<tr><td>The Universe in a Nutshell</td><td>24</td></tr>",
                            "<tr><td>The Android&#39;s Dream</td><td>24</td></tr>",
                            "<tr><td>Dear John</td><td>24</td></tr>",
                            "<tr><td>Three Men in a Boat (Three Men, #1)</td><td>24</td></tr>",
                            "<tr><td>I Feel Bad about My Neck: And Other Thoughts on Being a Woman</td><td>24</td></tr>",
                            "<tr><td>The Men Who Stare at Goats</td><td>23</td></tr>",
                            "<tr><td>The Very Hungry Caterpillar Board Book</td><td>23</td></tr>",
                            "<tr><td>Airframe</td><td>23</td></tr>",
                            "<tr><td>The Drawing of the Three (The Dark Tower, #2)</td><td>23</td></tr>",
                            "<tr><td>Extremely Loud and Incredibly Close</td><td>23</td></tr>",
                            "<tr><td>Eiger Dreams: Ventures Among Men and Mountains</td><td>23</td></tr>",
                            "<tr><td>Mother Night</td><td>23</td></tr>",
                            "<tr><td>Reservation Blues</td><td>23</td></tr>",
                            "<tr><td>The Red Tent</td><td>23</td></tr>",
                            "<tr><td>Messenger of Truth (Maisie Dobbs, #4)</td><td>23</td></tr>",
                            "<tr><td>Farewell, My Lovely (Philip Marlowe, #2)</td><td>23</td></tr>",
                            "<tr><td>The Bourne Identity (Jason Bourne, #1)</td><td>23</td></tr>",
                            "<tr><td>Saving Fish from Drowning</td><td>22</td></tr>",
                            "<tr><td>The Idiot Girls&#39; Action-Adventure Club: True Tales from a Magnificent and Clumsy Life</td><td>22</td></tr>",
                            "<tr><td>Enduring Love</td><td>22</td></tr>",
                            "<tr><td>The Fourth Hand</td><td>22</td></tr>",
                            "<tr><td>Hard Times</td><td>22</td></tr>",
                            "<tr><td>God Bless You, Dr. Kevorkian</td><td>22</td></tr>",
                            "<tr><td>A Fine Balance</td><td>22</td></tr>",
                            "<tr><td>Blue Like Jazz: Nonreligious Thoughts on Christian Spirituality</td><td>22</td></tr>",
                            "<tr><td>The Emperor&#39;s Children</td><td>22</td></tr>",
                            "<tr><td>Crime and Punishment</td><td>22</td></tr>",
                            "<tr><td>The Adventures of Huckleberry Finn</td><td>22</td></tr>",
                            "<tr><td>A Portrait of the Artist as a Young Man</td><td>22</td></tr>",
                            "<tr><td>Farmer Boy (Little House, #3)</td><td>22</td></tr>",
                            "<tr><td>The Chamber</td><td>22</td></tr>",
                            "<tr><td>The Silmarillion (Middle-Earth Universe)</td><td>21</td></tr>",
                            "<tr><td>Trace (Kay Scarpetta, #13)</td><td>21</td></tr>",
                            "<tr><td>Regeneration (Regeneration, #1)</td><td>21</td></tr>",
                            "<tr><td>The Elephant Vanishes</td><td>21</td></tr>",
                            "<tr><td>Cover Her Face (Adam Dalgliesh #1)</td><td>21</td></tr>",
                            "<tr><td>The Sea</td><td>21</td></tr>",
                            "<tr><td>Ten Apples Up On Top!</td><td>21</td></tr>",
                            "<tr><td>City of the Beasts (Eagle and Jaguar, #1)</td><td>21</td></tr>",
                            "<tr><td>Moonraker (James Bond, #3)</td><td>21</td></tr>",
                            "<tr><td>The Other Side of the Story</td><td>21</td></tr>",
                            "<tr><td>The BFG</td><td>21</td></tr>",
                            "<tr><td>The History of Sexuality, Volume 1: An Introduction</td><td>21</td></tr>",
                            "<tr><td>Ivanhoe</td><td>21</td></tr>",
                            "<tr><td>Eats, Shoots &amp; Leaves: The Zero Tolerance Approach to Punctuation</td><td>21</td></tr>",
                            "<tr><td>Comfort Me with Apples: More Adventures at the Table</td><td>21</td></tr>",
                            "<tr><td>The No. 1 Ladies&#39; Detective Agency  (No. 1 Ladies&#39; Detective Agency, #1)</td><td>21</td></tr>",
                            "<tr><td>Confessions of a Shopaholic (Shopaholic, #1)</td><td>21</td></tr>",
                            "<tr><td>Three Weeks With My Brother</td><td>21</td></tr>",
                            "<tr><td>On Beauty</td><td>21</td></tr>",
                            "<tr><td>Olympos (Ilium, #2)</td><td>21</td></tr>",
                            "<tr><td>The Joy Luck Club</td><td>21</td></tr>",
                            "<tr><td>Little Town on the Prairie  (Little House, #7)</td><td>20</td></tr>",
                            "<tr><td>The Water-Method Man</td><td>20</td></tr>",
                            "<tr><td>Atonement</td><td>20</td></tr>",
                            "<tr><td>Drowning Ruth</td><td>20</td></tr>",
                            "<tr><td>Witches Abroad (Discworld, #12; Witches #3)</td><td>20</td></tr>",
                            "<tr><td>Gulliver&#39;s Travels</td><td>20</td></tr>",
                            "<tr><td>Shadow of the Giant (Ender&#39;s Shadow, #4)</td><td>20</td></tr>",
                            "<tr><td>The Five People You Meet in Heaven</td><td>20</td></tr>",
                            "<tr><td>Sickened: The Memoir of a Munchausen by Proxy Childhood</td><td>20</td></tr>",
                            "<tr><td>Allies of the Night (Cirque du Freak, #8)</td><td>20</td></tr>",
                            "<tr><td>The End of Poverty</td><td>20</td></tr>",
                            "<tr><td>Visions of Sugar Plums (Stephanie Plum, #8.5)</td><td>20</td></tr>",
                            "<tr><td>The Kalahari Typing School for Men (No. 1 Ladies&#39; Detective Agency, #4)</td><td>19</td></tr>",
                            "<tr><td>Nine Stories</td><td>19</td></tr>",
                            "<tr><td>The Cat in the Hat and Other Dr. Seuss Favorites</td><td>19</td></tr>",
                            "<tr><td>Pardonable Lies (Maisie Dobbs, #3)</td><td>19</td></tr>",
                            "<tr><td>The Bonfire of the Vanities</td><td>19</td></tr>",
                            "<tr><td>The High Window (Philip Marlowe, #3)</td><td>19</td></tr>",
                            "<tr><td>Infinite Jest</td><td>19</td></tr>",
                            "<tr><td>Plum Lovin&#39; (Stephanie Plum, #12.5)</td><td>19</td></tr>",
                            "<tr><td>Point of Origin (Kay Scarpetta, #9)</td><td>19</td></tr>",
                            "<tr><td>The Big Over Easy (Nursery Crime, #1)</td><td>19</td></tr>",
                            "<tr><td>Men Are from Mars, Women Are from Venus</td><td>19</td></tr>",
                            "<tr><td>Bridge to Terabithia</td><td>19</td></tr>",
                            "<tr><td>A Raisin in the Sun</td><td>19</td></tr>",
                            "<tr><td>Carrie / &#39;Salem&#39;s Lot / The Shining</td><td>18</td></tr>",
                            "<tr><td>The Body Farm (Kay Scarpetta, #5)</td><td>18</td></tr>",
                            "<tr><td>The Beautiful and Damned</td><td>18</td></tr>",
                            "<tr><td>Keep the Aspidistra Flying</td><td>18</td></tr>",
                            "<tr><td>Brave New World Revisited </td><td>18</td></tr>",
                            "<tr><td>The Mermaid Chair</td><td>18</td></tr>",
                            "<tr><td>Execution: The Discipline of Getting Things Done</td><td>18</td></tr>",
                            "<tr><td>Girls in Pants: The Third Summer of the Sisterhood (Sisterhood, #3)</td><td>18</td></tr>",
                            "<tr><td>The Wind in the Willows</td><td>18</td></tr>",
                            "<tr><td>Shopaholic &amp; Baby (Shopaholic, #5)</td><td>18</td></tr>",
                            "<tr><td>Glamorama</td><td>18</td></tr>",
                            "<tr><td>While I Was Gone</td><td>18</td></tr>",
                            "<tr><td>Cloudy With a Chance of Meatballs</td><td>18</td></tr>",
                            "<tr><td>Mother of Pearl</td><td>18</td></tr>",
                            "<tr><td>A Living Nightmare (Cirque Du Freak, #1)</td><td>18</td></tr>",
                            "<tr><td>Bagombo Snuff Box</td><td>18</td></tr>",
                            "</table>"
                        ]
                    }
                }
            ],
            "execution_count": 97
        },
        {
            "cell_type": "markdown",
            "source": [
                "## **QUESTION 8:** Largest 'To Read' Lists\n",
                "\n",
                "**Part A:**  Create a query that returns a table that contains the top 10 users with the most number of titles on their 'to read' list.    Group all the entries by user\\_id.  \n",
                "\n",
                "> _Hint:_ You might want an alias for the titles.\n",
                "> \n",
                "> _Minimum Desired Output:_  user\\_id and your aliased column of titles.\n",
                "\n",
                "**Part B:**  The longest list length is 15 titles total, and is shared by 4 different users.  Select one of the uses and print out their entire '**to read**' list."
            ],
            "metadata": {
                "azdata_cell_guid": "0b0090b0-2b28-44c6-8bb6-06b4c03c3ff1"
            },
            "attachments": {}
        },
        {
            "cell_type": "code",
            "source": [
                "-- Code Here:\r\n",
                "SELECT TOP 10 tr.user_id, count(tr.book_id) AS titles_to_read\r\n",
                "FROM BooksDB.dbo.to_read AS tr\r\n",
                "GROUP BY tr.user_id\r\n",
                "ORDER BY titles_to_read DESC;\r\n",
                "\r\n",
                "--this is the wrong answer"
            ],
            "metadata": {
                "azdata_cell_guid": "c6c815f8-890d-4163-be63-3d300e320597",
                "tags": [],
                "language": "sql"
            },
            "outputs": [
                {
                    "output_type": "display_data",
                    "data": {
                        "text/html": "(10 rows affected)"
                    },
                    "metadata": {}
                },
                {
                    "output_type": "display_data",
                    "data": {
                        "text/html": "Total execution time: 00:00:00.361"
                    },
                    "metadata": {}
                },
                {
                    "output_type": "execute_result",
                    "metadata": {},
                    "execution_count": 101,
                    "data": {
                        "application/vnd.dataresource+json": {
                            "schema": {
                                "fields": [
                                    {
                                        "name": "user_id"
                                    },
                                    {
                                        "name": "titles_to_read"
                                    }
                                ]
                            },
                            "data": [
                                {
                                    "user_id": "24195",
                                    "titles_to_read": "418947"
                                },
                                {
                                    "user_id": "38076",
                                    "titles_to_read": "363320"
                                },
                                {
                                    "user_id": "14653",
                                    "titles_to_read": "320138"
                                },
                                {
                                    "user_id": "35107",
                                    "titles_to_read": "320095"
                                },
                                {
                                    "user_id": "45902",
                                    "titles_to_read": "305020"
                                },
                                {
                                    "user_id": "39431",
                                    "titles_to_read": "295962"
                                },
                                {
                                    "user_id": "34073",
                                    "titles_to_read": "294364"
                                },
                                {
                                    "user_id": "49868",
                                    "titles_to_read": "292049"
                                },
                                {
                                    "user_id": "46000",
                                    "titles_to_read": "287209"
                                },
                                {
                                    "user_id": "36620",
                                    "titles_to_read": "284495"
                                }
                            ]
                        },
                        "text/html": [
                            "<table>",
                            "<tr><th>user_id</th><th>titles_to_read</th></tr>",
                            "<tr><td>24195</td><td>418947</td></tr>",
                            "<tr><td>38076</td><td>363320</td></tr>",
                            "<tr><td>14653</td><td>320138</td></tr>",
                            "<tr><td>35107</td><td>320095</td></tr>",
                            "<tr><td>45902</td><td>305020</td></tr>",
                            "<tr><td>39431</td><td>295962</td></tr>",
                            "<tr><td>34073</td><td>294364</td></tr>",
                            "<tr><td>49868</td><td>292049</td></tr>",
                            "<tr><td>46000</td><td>287209</td></tr>",
                            "<tr><td>36620</td><td>284495</td></tr>",
                            "</table>"
                        ]
                    }
                }
            ],
            "execution_count": 101
        }
    ]
}